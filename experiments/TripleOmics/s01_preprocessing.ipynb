{
 "cells": [
  {
   "cell_type": "code",
   "execution_count": null,
   "id": "blessed-dividend",
   "metadata": {
    "scrolled": true,
    "tags": []
   },
   "outputs": [],
   "source": [
    "import itertools\n",
    "import os\n",
    "\n",
    "import anndata\n",
    "import networkx as nx\n",
    "import numpy as np\n",
    "import scanpy as sc\n",
    "import yaml\n",
    "from matplotlib import rcParams\n",
    "\n",
    "import scglue"
   ]
  },
  {
   "cell_type": "code",
   "execution_count": null,
   "id": "indirect-street",
   "metadata": {},
   "outputs": [],
   "source": [
    "scglue.plot.set_publication_params()\n",
    "rcParams[\"figure.figsize\"] = (4, 4)\n",
    "\n",
    "PATH = \"s01_preprocessing\"\n",
    "os.makedirs(PATH, exist_ok=True)"
   ]
  },
  {
   "cell_type": "markdown",
   "id": "favorite-clark",
   "metadata": {},
   "source": [
    "# Read data"
   ]
  },
  {
   "cell_type": "code",
   "execution_count": null,
   "id": "anticipated-playback",
   "metadata": {},
   "outputs": [],
   "source": [
    "rna = anndata.read_h5ad(\"../../data/dataset/Saunders-2018.h5ad\")\n",
    "rna"
   ]
  },
  {
   "cell_type": "code",
   "execution_count": null,
   "id": "hearing-entity",
   "metadata": {},
   "outputs": [],
   "source": [
    "met = anndata.read_h5ad(\"../../data/dataset/Luo-2017.h5ad\")\n",
    "met"
   ]
  },
  {
   "cell_type": "code",
   "execution_count": null,
   "id": "excessive-triple",
   "metadata": {},
   "outputs": [],
   "source": [
    "atac = anndata.read_h5ad(\"../../data/dataset/10x-ATAC-Brain5k.h5ad\")\n",
    "atac"
   ]
  },
  {
   "cell_type": "code",
   "execution_count": null,
   "id": "blond-oklahoma",
   "metadata": {},
   "outputs": [],
   "source": [
    "with open(\"manual_colors.yaml\", \"r\") as f:\n",
    "    MANUAL_COLORS = yaml.load(f, Loader=yaml.FullLoader)"
   ]
  },
  {
   "cell_type": "markdown",
   "id": "defined-faculty",
   "metadata": {},
   "source": [
    "# Build prior graph"
   ]
  },
  {
   "cell_type": "code",
   "execution_count": null,
   "id": "decimal-pleasure",
   "metadata": {},
   "outputs": [],
   "source": [
    "graph = scglue.genomics.window_graph(\n",
    "    scglue.genomics.Bed(rna.var.assign(name=rna.var_names)).expand(2e3, 0),\n",
    "    scglue.genomics.Bed(atac.var.assign(name=atac.var_names)),\n",
    "    window_size=0, attr_fn=lambda l, r, d: {\"weight\": 1.0, \"sign\": 1}\n",
    ")"
   ]
  },
  {
   "cell_type": "code",
   "execution_count": null,
   "id": "seven-cylinder",
   "metadata": {},
   "outputs": [],
   "source": [
    "for i in met.var_names:\n",
    "    if i.endswith(\"_mCH\"):\n",
    "        j = i.replace(\"_mCH\", \"\")\n",
    "    elif i.endswith(\"_mCG\"):\n",
    "        j = i.replace(\"_mCG\", \"\")\n",
    "    else:\n",
    "        raise ValueError(\"Unexpected var name!\")\n",
    "    graph.add_edge(j, i, weight=1.0, sign=-1)"
   ]
  },
  {
   "cell_type": "code",
   "execution_count": null,
   "id": "pending-subscription",
   "metadata": {},
   "outputs": [],
   "source": [
    "hvg_reachable = scglue.graph.reachable_vertices(graph, rna.var.query(\"highly_variable\").index)"
   ]
  },
  {
   "cell_type": "code",
   "execution_count": null,
   "id": "sixth-difficulty",
   "metadata": {},
   "outputs": [],
   "source": [
    "met.var[\"highly_variable\"] = [item in hvg_reachable for item in met.var_names]\n",
    "met.var[\"highly_variable\"].sum()"
   ]
  },
  {
   "cell_type": "code",
   "execution_count": null,
   "id": "unsigned-honduras",
   "metadata": {},
   "outputs": [],
   "source": [
    "atac.var[\"highly_variable\"] = [item in hvg_reachable for item in atac.var_names]\n",
    "atac.var[\"highly_variable\"].sum()"
   ]
  },
  {
   "cell_type": "code",
   "execution_count": null,
   "id": "welcome-pencil",
   "metadata": {},
   "outputs": [],
   "source": [
    "graph = scglue.graph.compose_multigraph(graph, graph.reverse())\n",
    "for i in itertools.chain(rna.var_names, met.var_names, atac.var_names):\n",
    "    graph.add_edge(i, i, weight=1.0, sign=1)"
   ]
  },
  {
   "cell_type": "code",
   "execution_count": null,
   "id": "familiar-number",
   "metadata": {},
   "outputs": [],
   "source": [
    "subgraph = graph.subgraph(hvg_reachable)"
   ]
  },
  {
   "cell_type": "code",
   "execution_count": null,
   "id": "surprising-progress",
   "metadata": {},
   "outputs": [],
   "source": [
    "nx.write_graphml(graph, f\"{PATH}/full.graphml.gz\")\n",
    "nx.write_graphml(subgraph, f\"{PATH}/sub.graphml.gz\")"
   ]
  },
  {
   "cell_type": "markdown",
   "id": "swedish-documentation",
   "metadata": {},
   "source": [
    "# RNA"
   ]
  },
  {
   "cell_type": "code",
   "execution_count": null,
   "id": "located-sweden",
   "metadata": {},
   "outputs": [],
   "source": [
    "rna.layers[\"raw_count\"] = rna.X.copy()\n",
    "sc.pp.normalize_total(rna)\n",
    "sc.pp.log1p(rna)\n",
    "sc.pp.scale(rna, max_value=10)\n",
    "sc.tl.pca(rna, n_comps=100, use_highly_variable=True, svd_solver=\"auto\")"
   ]
  },
  {
   "cell_type": "code",
   "execution_count": null,
   "id": "neither-basketball",
   "metadata": {},
   "outputs": [],
   "source": [
    "rna.X = rna.layers[\"raw_count\"]\n",
    "del rna.layers[\"raw_count\"]"
   ]
  },
  {
   "cell_type": "code",
   "execution_count": null,
   "id": "robust-bible",
   "metadata": {},
   "outputs": [],
   "source": [
    "sc.pp.neighbors(rna, n_pcs=100, metric=\"cosine\")\n",
    "sc.tl.umap(rna)"
   ]
  },
  {
   "cell_type": "code",
   "execution_count": null,
   "id": "forced-albuquerque",
   "metadata": {},
   "outputs": [],
   "source": [
    "rna.obs[\"cell_type\"].cat.set_categories([\n",
    "    \"Layer2/3\", \"Layer5a\", \"Layer5\", \"Layer5b\", \"Layer6\",\n",
    "    \"Claustrum\", \"CGE\", \"MGE\"\n",
    "], inplace=True)\n",
    "rna.uns[\"cell_type_colors\"] = [MANUAL_COLORS[item] for item in rna.obs[\"cell_type\"].cat.categories]"
   ]
  },
  {
   "cell_type": "code",
   "execution_count": null,
   "id": "hundred-mounting",
   "metadata": {},
   "outputs": [],
   "source": [
    "fig = sc.pl.umap(rna, color=\"cell_type\", title=\"scRNA-seq cell type\", return_fig=True)\n",
    "fig.savefig(f\"{PATH}/rna_ct.pdf\")"
   ]
  },
  {
   "cell_type": "markdown",
   "id": "integrated-darwin",
   "metadata": {},
   "source": [
    "# Methylation"
   ]
  },
  {
   "cell_type": "code",
   "execution_count": null,
   "id": "documented-shannon",
   "metadata": {},
   "outputs": [],
   "source": [
    "met.X = met.layers[\"norm\"].copy()\n",
    "sc.pp.log1p(met)\n",
    "sc.pp.scale(met, max_value=10)\n",
    "sc.tl.pca(met, n_comps=100, use_highly_variable=True, svd_solver=\"auto\")"
   ]
  },
  {
   "cell_type": "code",
   "execution_count": null,
   "id": "precious-narrative",
   "metadata": {},
   "outputs": [],
   "source": [
    "met.X = met.layers[\"norm\"]\n",
    "del met.layers[\"norm\"]"
   ]
  },
  {
   "cell_type": "code",
   "execution_count": null,
   "id": "satisfactory-rhythm",
   "metadata": {},
   "outputs": [],
   "source": [
    "sc.pp.neighbors(met, n_pcs=100, metric=\"cosine\")\n",
    "sc.tl.umap(met)"
   ]
  },
  {
   "cell_type": "code",
   "execution_count": null,
   "id": "academic-adelaide",
   "metadata": {},
   "outputs": [],
   "source": [
    "met.obs[\"cell_type\"].cat.set_categories([\n",
    "    \"mL2/3\", \"mL4\", \"mL5-1\", \"mDL-1\", \"mDL-2\", \"mL5-2\",\n",
    "    \"mL6-1\", \"mL6-2\", \"mDL-3\", \"mIn-1\", \"mVip\",\n",
    "    \"mNdnf-1\", \"mNdnf-2\", \"mPv\", \"mSst-1\", \"mSst-2\"\n",
    "], inplace=True)\n",
    "met.uns[\"cell_type_colors\"] = [MANUAL_COLORS[item] for item in met.obs[\"cell_type\"].cat.categories]"
   ]
  },
  {
   "cell_type": "code",
   "execution_count": null,
   "id": "domestic-indian",
   "metadata": {},
   "outputs": [],
   "source": [
    "fig = sc.pl.umap(met, color=\"cell_type\", title=\"snmC-seq cell type\", return_fig=True)\n",
    "fig.savefig(f\"{PATH}/met_ct.pdf\")"
   ]
  },
  {
   "cell_type": "markdown",
   "id": "greatest-delhi",
   "metadata": {},
   "source": [
    "# ATAC"
   ]
  },
  {
   "cell_type": "code",
   "execution_count": null,
   "id": "fixed-increase",
   "metadata": {},
   "outputs": [],
   "source": [
    "scglue.data.lsi(atac, n_components=100, use_highly_variable=False, n_iter=15)"
   ]
  },
  {
   "cell_type": "code",
   "execution_count": null,
   "id": "living-affiliate",
   "metadata": {},
   "outputs": [],
   "source": [
    "sc.pp.neighbors(atac, n_pcs=100, use_rep=\"X_lsi\", metric=\"cosine\")\n",
    "sc.tl.umap(atac)"
   ]
  },
  {
   "cell_type": "code",
   "execution_count": null,
   "id": "solved-customer",
   "metadata": {},
   "outputs": [],
   "source": [
    "atac.obs[\"cell_type\"].cat.set_categories([\n",
    "    \"L2/3 IT\", \"L4\", \"L5 IT\", \"L6 IT\", \"L5 PT\",\n",
    "    \"NP\", \"L6 CT\", \"Vip\", \"Pvalb\", \"Sst\"\n",
    "], inplace=True)\n",
    "atac.uns[\"cell_type_colors\"] = [MANUAL_COLORS[item] for item in atac.obs[\"cell_type\"].cat.categories]"
   ]
  },
  {
   "cell_type": "code",
   "execution_count": null,
   "id": "soviet-cattle",
   "metadata": {},
   "outputs": [],
   "source": [
    "fig = sc.pl.umap(atac, color=\"cell_type\", title=\"scATAC-seq cell type\", return_fig=True)\n",
    "fig.savefig(f\"{PATH}/atac_ct.pdf\")"
   ]
  },
  {
   "cell_type": "markdown",
   "id": "rural-surge",
   "metadata": {},
   "source": [
    "# Convert data for marker analysis"
   ]
  },
  {
   "cell_type": "markdown",
   "id": "thousand-chorus",
   "metadata": {},
   "source": [
    "## ATAC-to-RNA"
   ]
  },
  {
   "cell_type": "code",
   "execution_count": null,
   "id": "fitting-republican",
   "metadata": {},
   "outputs": [],
   "source": [
    "biadj = nx.algorithms.bipartite.biadjacency_matrix(graph, atac.var_names, rna.var_names)\n",
    "atac2rna = anndata.AnnData(X=atac.X @ biadj, obs=atac.obs, var=rna.var)"
   ]
  },
  {
   "cell_type": "markdown",
   "id": "happy-equation",
   "metadata": {},
   "source": [
    "## MET-to-RNA"
   ]
  },
  {
   "cell_type": "code",
   "execution_count": null,
   "id": "judicial-malta",
   "metadata": {},
   "outputs": [],
   "source": [
    "biadj = nx.algorithms.bipartite.biadjacency_matrix(graph, met.var_names, rna.var_names)\n",
    "met2rna = anndata.AnnData(X=met.X @ biadj, obs=met.obs, var=rna.var)"
   ]
  },
  {
   "cell_type": "markdown",
   "id": "experienced-buffalo",
   "metadata": {},
   "source": [
    "# Save results"
   ]
  },
  {
   "cell_type": "code",
   "execution_count": null,
   "id": "reliable-tulsa",
   "metadata": {},
   "outputs": [],
   "source": [
    "rna.write(f\"{PATH}/rna.h5ad\", compression=\"gzip\")\n",
    "met.write(f\"{PATH}/met.h5ad\", compression=\"gzip\")\n",
    "atac.write(f\"{PATH}/atac.h5ad\", compression=\"gzip\")\n",
    "atac2rna.write(f\"{PATH}/atac2rna.h5ad\", compression=\"gzip\")\n",
    "met2rna.write(f\"{PATH}/met2rna.h5ad\", compression=\"gzip\")"
   ]
  }
 ],
 "metadata": {
  "kernelspec": {
   "display_name": "Python 3",
   "language": "python",
   "name": "python3"
  },
  "language_info": {
   "codemirror_mode": {
    "name": "ipython",
    "version": 3
   },
   "file_extension": ".py",
   "mimetype": "text/x-python",
   "name": "python",
   "nbconvert_exporter": "python",
   "pygments_lexer": "ipython3",
   "version": "3.8.5"
  }
 },
 "nbformat": 4,
 "nbformat_minor": 5
}
