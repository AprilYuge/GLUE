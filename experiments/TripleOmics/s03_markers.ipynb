{
 "cells": [
  {
   "cell_type": "code",
   "execution_count": null,
   "id": "declared-minutes",
   "metadata": {},
   "outputs": [],
   "source": [
    "import os\n",
    "from collections import defaultdict\n",
    "from math import ceil\n",
    "\n",
    "import anndata\n",
    "import matplotlib.pyplot as plt\n",
    "import numpy as np\n",
    "import pandas as pd\n",
    "import plotly.io as pio\n",
    "import scanpy as sc\n",
    "import seaborn as sns\n",
    "import statsmodels\n",
    "import yaml\n",
    "import matplotlib_venn\n",
    "from matplotlib import rcParams\n",
    "\n",
    "import scglue"
   ]
  },
  {
   "cell_type": "code",
   "execution_count": null,
   "id": "hairy-cream",
   "metadata": {},
   "outputs": [],
   "source": [
    "scglue.plot.set_publication_params()\n",
    "rcParams[\"figure.figsize\"] = (4, 4)\n",
    "\n",
    "PATH = \"s03_markers\"\n",
    "os.makedirs(PATH, exist_ok=True)"
   ]
  },
  {
   "cell_type": "code",
   "execution_count": null,
   "id": "regulation-munich",
   "metadata": {},
   "outputs": [],
   "source": [
    "%load_ext rpy2.ipython"
   ]
  },
  {
   "cell_type": "code",
   "execution_count": null,
   "id": "removed-handle",
   "metadata": {},
   "outputs": [],
   "source": [
    "%%R\n",
    "suppressPackageStartupMessages({\n",
    "    source(\".Rprofile\")\n",
    "    library(dplyr)\n",
    "    library(SuperExactTest)\n",
    "})"
   ]
  },
  {
   "cell_type": "markdown",
   "id": "conscious-crazy",
   "metadata": {},
   "source": [
    "# Read data"
   ]
  },
  {
   "cell_type": "code",
   "execution_count": null,
   "id": "amended-client",
   "metadata": {},
   "outputs": [],
   "source": [
    "rna = anndata.read_h5ad(\"s02_glue/rna.h5ad\")\n",
    "met = anndata.read_h5ad(\"s02_glue/met2rna.h5ad\")\n",
    "atac = anndata.read_h5ad(\"s02_glue/atac2rna.h5ad\")\n",
    "combined = anndata.read_h5ad(\"s02_glue/combined.h5ad\")"
   ]
  },
  {
   "cell_type": "code",
   "execution_count": null,
   "id": "political-april",
   "metadata": {},
   "outputs": [],
   "source": [
    "with open(\"manual_colors.yaml\", \"r\") as f:\n",
    "    MANUAL_COLORS = yaml.load(f, Loader=yaml.FullLoader)"
   ]
  },
  {
   "cell_type": "markdown",
   "id": "christian-inquiry",
   "metadata": {},
   "source": [
    "# Transfer labels"
   ]
  },
  {
   "cell_type": "code",
   "execution_count": null,
   "id": "bibliographic-mumbai",
   "metadata": {
    "scrolled": true,
    "tags": []
   },
   "outputs": [],
   "source": [
    "met.obs[\"common_cell_type\"] = met.obs[\"cell_type\"].replace({\n",
    "    \"mNdnf-1\": \"mNdnf\",\n",
    "    \"mNdnf-2\": \"mNdnf\",\n",
    "    \"mSst-1\": \"mSst\",\n",
    "    \"mSst-2\": \"mSst\"\n",
    "})\n",
    "met.obs[\"common_cell_type\"] = pd.Categorical(met.obs[\"common_cell_type\"], categories=[\n",
    "    \"mL2/3\", \"mL4\", \"mL5-1\", \"mDL-1\", \"mDL-2\", \"mL5-2\",\n",
    "    \"mL6-1\", \"mL6-2\", \"mDL-3\", \"mIn-1\", \"mVip\",\n",
    "    \"mNdnf\", \"mPv\", \"mSst\"\n",
    "])\n",
    "met.uns[\"common_cell_type_colors\"] = [MANUAL_COLORS[item] for item in met.obs[\"common_cell_type\"].cat.categories]"
   ]
  },
  {
   "cell_type": "code",
   "execution_count": null,
   "id": "bigger-depth",
   "metadata": {},
   "outputs": [],
   "source": [
    "fig = sc.pl.embedding(\n",
    "    met, \"X_glue_umap\", color=\"common_cell_type\",\n",
    "    title=\"snmC-seq common cell type\", return_fig=True\n",
    ")\n",
    "fig.axes[0].set_xlabel(\"UMAP1\")\n",
    "fig.axes[0].set_ylabel(\"UMAP2\")\n",
    "fig.savefig(f\"{PATH}/met_cmct.pdf\")"
   ]
  },
  {
   "cell_type": "code",
   "execution_count": null,
   "id": "contrary-passion",
   "metadata": {},
   "outputs": [],
   "source": [
    "link_cutoff = ceil(met.shape[0] * 0.001)\n",
    "link_color_map = defaultdict(lambda: \"#CCCCCC\")\n",
    "link_color_map.update({\n",
    "    (\"mNdnf-1\", \"mNdnf\"): MANUAL_COLORS[\"CGE\"],\n",
    "    (\"mNdnf-2\", \"mNdnf\"): MANUAL_COLORS[\"CGE\"],\n",
    "    (\"mVip\", \"mVip\"): MANUAL_COLORS[\"CGE\"],\n",
    "    (\"mSst-1\", \"mSst\"): MANUAL_COLORS[\"MGE\"],\n",
    "    (\"mSst-2\", \"mSst\"): MANUAL_COLORS[\"MGE\"],\n",
    "    (\"mPv\", \"mPv\"): MANUAL_COLORS[\"MGE\"],\n",
    "    (\"mDL-3\", \"mDL-3\"): MANUAL_COLORS[\"Claustrum\"]\n",
    "})\n",
    "fig = scglue.plot.sankey(\n",
    "    met.obs[\"cell_type\"], met.obs[\"common_cell_type\"],\n",
    "    title=\"snmC-seq cell type mapping\",\n",
    "    left_color=lambda x: MANUAL_COLORS[x],\n",
    "    right_color=lambda x: MANUAL_COLORS[x],\n",
    "    link_color=lambda x: \"rgba(0.9,0.9,0.9,0.2)\" if x[\"value\"] <= link_cutoff \\\n",
    "        else link_color_map[(x[\"left\"], x[\"right\"])]\n",
    ")\n",
    "pio.write_image(fig, f\"{PATH}/met_sankey.png\", scale=10)"
   ]
  },
  {
   "cell_type": "code",
   "execution_count": null,
   "id": "better-afghanistan",
   "metadata": {},
   "outputs": [],
   "source": [
    "scglue.data.transfer_labels(met, rna, \"common_cell_type\", use_rep=\"X_glue\", metric=\"cosine\")\n",
    "rna.uns[\"common_cell_type_colors\"] = met.uns[\"common_cell_type_colors\"]"
   ]
  },
  {
   "cell_type": "code",
   "execution_count": null,
   "id": "dependent-physiology",
   "metadata": {},
   "outputs": [],
   "source": [
    "fig = sc.pl.embedding(\n",
    "    rna, \"X_glue_umap\", color=\"common_cell_type\",\n",
    "    title=\"scRNA-seq common cell type\", return_fig=True\n",
    ")\n",
    "fig.axes[0].set_xlabel(\"UMAP1\")\n",
    "fig.axes[0].set_ylabel(\"UMAP2\")\n",
    "fig.savefig(f\"{PATH}/rna_cmct.pdf\")"
   ]
  },
  {
   "cell_type": "code",
   "execution_count": null,
   "id": "spatial-appliance",
   "metadata": {},
   "outputs": [],
   "source": [
    "link_cutoff = ceil(rna.shape[0] * 0.001)\n",
    "link_color_map = defaultdict(lambda: \"#CCCCCC\")\n",
    "link_color_map.update({\n",
    "    (\"CGE\", \"mNdnf\"): MANUAL_COLORS[\"CGE\"],\n",
    "    (\"CGE\", \"mVip\"): MANUAL_COLORS[\"CGE\"],\n",
    "    (\"MGE\", \"mSst\"): MANUAL_COLORS[\"MGE\"],\n",
    "    (\"MGE\", \"mPv\"): MANUAL_COLORS[\"MGE\"],\n",
    "    (\"Claustrum\", \"mDL-3\"): MANUAL_COLORS[\"Claustrum\"]\n",
    "})\n",
    "fig = scglue.plot.sankey(\n",
    "    rna.obs[\"cell_type\"], rna.obs[\"common_cell_type\"],\n",
    "    title=\"scRNA-seq cell type mapping\",\n",
    "    left_color=lambda x: MANUAL_COLORS[x],\n",
    "    right_color=lambda x: MANUAL_COLORS[x],\n",
    "    link_color=lambda x: \"rgba(0.9,0.9,0.9,0.2)\" if x[\"value\"] <= link_cutoff \\\n",
    "        else link_color_map[(x[\"left\"], x[\"right\"])]\n",
    ")\n",
    "pio.write_image(fig, f\"{PATH}/rna_sankey.png\", scale=10)"
   ]
  },
  {
   "cell_type": "code",
   "execution_count": null,
   "id": "effective-holiday",
   "metadata": {},
   "outputs": [],
   "source": [
    "scglue.data.transfer_labels(met, atac, \"common_cell_type\", use_rep=\"X_glue\", metric=\"cosine\")\n",
    "atac.uns[\"common_cell_type_colors\"] = met.uns[\"common_cell_type_colors\"]"
   ]
  },
  {
   "cell_type": "code",
   "execution_count": null,
   "id": "continuing-mailman",
   "metadata": {},
   "outputs": [],
   "source": [
    "fig = sc.pl.embedding(\n",
    "    atac, \"X_glue_umap\", color=\"common_cell_type\",\n",
    "    title=\"scATAC-seq common cell type\", return_fig=True\n",
    ")\n",
    "fig.axes[0].set_xlabel(\"UMAP1\")\n",
    "fig.axes[0].set_ylabel(\"UMAP2\")\n",
    "fig.savefig(f\"{PATH}/atac_cmct.pdf\")"
   ]
  },
  {
   "cell_type": "code",
   "execution_count": null,
   "id": "prerequisite-wyoming",
   "metadata": {},
   "outputs": [],
   "source": [
    "link_cutoff = ceil(atac.shape[0] * 0.001)\n",
    "link_color_map = defaultdict(lambda: \"#CCCCCC\")\n",
    "link_color_map.update({\n",
    "    (\"Vip\", \"mNdnf\"): MANUAL_COLORS[\"CGE\"],\n",
    "    (\"Vip\", \"mVip\"): MANUAL_COLORS[\"CGE\"],\n",
    "    (\"Sst\", \"mSst\"): MANUAL_COLORS[\"MGE\"],\n",
    "    (\"Pvalb\", \"mPv\"): MANUAL_COLORS[\"MGE\"],\n",
    "    (\"L6 IT\", \"mDL-3\"): MANUAL_COLORS[\"Claustrum\"]\n",
    "})\n",
    "fig = scglue.plot.sankey(\n",
    "    atac.obs[\"cell_type\"], atac.obs[\"common_cell_type\"],\n",
    "    title=\"scATAC-seq cell type mapping\",\n",
    "    left_color=lambda x: MANUAL_COLORS[x],\n",
    "    right_color=lambda x: MANUAL_COLORS[x],\n",
    "    link_color=lambda x: \"rgba(0.9,0.9,0.9,0.2)\" if x[\"value\"] <= link_cutoff \\\n",
    "        else link_color_map[(x[\"left\"], x[\"right\"])]\n",
    ")\n",
    "pio.write_image(fig, f\"{PATH}/atac_sankey.png\", scale=10)"
   ]
  },
  {
   "cell_type": "markdown",
   "id": "photographic-manner",
   "metadata": {},
   "source": [
    "# Marker identification"
   ]
  },
  {
   "cell_type": "markdown",
   "id": "banner-bracelet",
   "metadata": {},
   "source": [
    "## Normalization and filtering"
   ]
  },
  {
   "cell_type": "code",
   "execution_count": null,
   "id": "everyday-future",
   "metadata": {},
   "outputs": [],
   "source": [
    "sc.pp.normalize_total(rna)\n",
    "sc.pp.log1p(rna)\n",
    "\n",
    "# sc.pp.normalize_total(met)\n",
    "sc.pp.log1p(met)\n",
    "\n",
    "sc.pp.normalize_total(atac)\n",
    "sc.pp.log1p(atac)"
   ]
  },
  {
   "cell_type": "code",
   "execution_count": null,
   "id": "hybrid-greensboro",
   "metadata": {},
   "outputs": [],
   "source": [
    "rna = rna[:, rna.X.sum(axis=0).A1 != 0]\n",
    "met = met[:, met.X.sum(axis=0) != 0]\n",
    "atac = atac[:, atac.X.sum(axis=0).A1 != 0]"
   ]
  },
  {
   "cell_type": "code",
   "execution_count": null,
   "id": "plastic-harvey",
   "metadata": {},
   "outputs": [],
   "source": [
    "common_genes = list(set(rna.var_names).intersection(met.var_names).intersection(atac.var_names))\n",
    "len(common_genes)"
   ]
  },
  {
   "cell_type": "code",
   "execution_count": null,
   "id": "operating-raising",
   "metadata": {},
   "outputs": [],
   "source": [
    "rna = rna[:, common_genes].copy()\n",
    "met = met[:, common_genes].copy()\n",
    "atac = atac[:, common_genes].copy()"
   ]
  },
  {
   "cell_type": "code",
   "execution_count": null,
   "id": "silver-defense",
   "metadata": {},
   "outputs": [],
   "source": [
    "rna.write(f\"{PATH}/rna_filtered.h5ad\", compression=\"gzip\")\n",
    "met.write(f\"{PATH}/met_filtered.h5ad\", compression=\"gzip\")\n",
    "atac.write(f\"{PATH}/atac_filtered.h5ad\", compression=\"gzip\")"
   ]
  },
  {
   "cell_type": "markdown",
   "id": "committed-default",
   "metadata": {},
   "source": [
    "## Differential expression"
   ]
  },
  {
   "cell_type": "code",
   "execution_count": null,
   "id": "orange-design",
   "metadata": {},
   "outputs": [],
   "source": [
    "sc.tl.rank_genes_groups(rna, \"common_cell_type\", method=\"wilcoxon\")"
   ]
  },
  {
   "cell_type": "code",
   "execution_count": null,
   "id": "increased-chorus",
   "metadata": {},
   "outputs": [],
   "source": [
    "rna_marker_df = scglue.data.extract_rank_genes_groups(\n",
    "    rna, rna.obs[\"common_cell_type\"].cat.categories,\n",
    "    filter_by=\"pvals_adj < 0.05 & logfoldchanges > 0\",\n",
    "    sort_by=\"logfoldchanges\", ascending=False\n",
    ").assign(domain=\"scRNA-seq\")\n",
    "rna_marker_df.head()"
   ]
  },
  {
   "cell_type": "code",
   "execution_count": null,
   "id": "qualified-enclosure",
   "metadata": {},
   "outputs": [],
   "source": [
    "sc.tl.rank_genes_groups(met, \"common_cell_type\", method=\"wilcoxon\")"
   ]
  },
  {
   "cell_type": "code",
   "execution_count": null,
   "id": "large-ontario",
   "metadata": {},
   "outputs": [],
   "source": [
    "met_marker_df = scglue.data.extract_rank_genes_groups(\n",
    "    met, met.obs[\"common_cell_type\"].cat.categories,\n",
    "    filter_by=\"pvals_adj < 0.05 & logfoldchanges < 0\",\n",
    "    sort_by=\"logfoldchanges\", ascending=True\n",
    ").assign(domain=\"snmC-seq\")\n",
    "met_marker_df.head()"
   ]
  },
  {
   "cell_type": "code",
   "execution_count": null,
   "id": "opened-movie",
   "metadata": {},
   "outputs": [],
   "source": [
    "sc.tl.rank_genes_groups(atac, \"common_cell_type\", method=\"wilcoxon\")"
   ]
  },
  {
   "cell_type": "code",
   "execution_count": null,
   "id": "catholic-conjunction",
   "metadata": {},
   "outputs": [],
   "source": [
    "atac_marker_df = scglue.data.extract_rank_genes_groups(\n",
    "    atac, atac.obs[\"common_cell_type\"].cat.categories,\n",
    "    filter_by=\"pvals_adj < 0.05 & logfoldchanges > 0\",\n",
    "    sort_by=\"logfoldchanges\", ascending=False\n",
    ").assign(domain=\"scATAC-seq\")\n",
    "atac_marker_df.head()"
   ]
  },
  {
   "cell_type": "markdown",
   "id": "several-forum",
   "metadata": {},
   "source": [
    "## Significance of intersection"
   ]
  },
  {
   "cell_type": "code",
   "execution_count": null,
   "id": "oriental-vintage",
   "metadata": {},
   "outputs": [],
   "source": [
    "combined_marker_df = pd.concat([rna_marker_df, met_marker_df, atac_marker_df])\n",
    "combined_marker_df[\"domain\"] = pd.Categorical(combined_marker_df[\"domain\"], categories=[\"scRNA-seq\", \"snmC-seq\", \"scATAC-seq\"])\n",
    "combined_marker_df[\"group_domain\"] = pd.Categorical(\n",
    "    combined_marker_df[\"group\"].astype(str) + \"_\" + combined_marker_df[\"domain\"].astype(str),\n",
    "    categories=[\n",
    "        f\"{g}_{d}\"\n",
    "        for g in combined_marker_df[\"group\"].cat.categories\n",
    "        for d in combined_marker_df[\"domain\"].cat.categories\n",
    "    ]\n",
    ")"
   ]
  },
  {
   "cell_type": "code",
   "execution_count": null,
   "id": "frequent-exhibition",
   "metadata": {},
   "outputs": [],
   "source": [
    "%%R -i combined_marker_df -i common_genes -o res\n",
    "combined_marker_sets <- split(combined_marker_df$names, combined_marker_df$group_domain)\n",
    "empty_sets <- setdiff(levels(combined_marker_df$group_domain), names(combined_marker_sets))\n",
    "for (empty_set in empty_sets) {\n",
    "    combined_marker_sets[[empty_set]] <- character()\n",
    "}  # Add empty marker sets for completeness\n",
    "res <- supertest(combined_marker_sets, n=length(common_genes), degree=3)  # Test all 3-set intersections\n",
    "res <- summary(res)$Table\n",
    "rownames(res) <- NULL"
   ]
  },
  {
   "cell_type": "code",
   "execution_count": null,
   "id": "higher-homework",
   "metadata": {},
   "outputs": [],
   "source": [
    "intersections = pd.DataFrame.from_records(\n",
    "    res[\"Intersections\"].str.split(\" & \").map(lambda x: {\n",
    "        item.split(\"_\")[1]: item.split(\"_\")[0]\n",
    "        for item in x\n",
    "    }), index=res.index\n",
    ")\n",
    "res = res.join(intersections).dropna(\n",
    "    subset=intersections.columns\n",
    ")  # Dropped are those involving intersection within the same domains\n",
    "res[\"FDR\"] = statsmodels.stats.multitest.fdrcorrection(res[\"P.value\"])[1]\n",
    "res[\"-log10 P.value\"] = -np.log10(res[\"P.value\"])\n",
    "res[\"-log10 FDR\"] = -np.log10(res[\"FDR\"])\n",
    "res = res.sort_values(\"FDR\")\n",
    "res.to_csv(f\"{PATH}/marker_intersection_test.csv\", index=False)"
   ]
  },
  {
   "cell_type": "code",
   "execution_count": null,
   "id": "double-amplifier",
   "metadata": {},
   "outputs": [],
   "source": [
    "res_samect = res.query(\"`scRNA-seq` == `snmC-seq` == `scATAC-seq`\")\n",
    "res_samect"
   ]
  },
  {
   "cell_type": "code",
   "execution_count": null,
   "id": "independent-playback",
   "metadata": {
    "scrolled": true,
    "tags": []
   },
   "outputs": [],
   "source": [
    "for g, fdr in zip(res_samect[\"scRNA-seq\"], res_samect[\"FDR\"]):\n",
    "    current_df = combined_marker_df.query(f\"group == '{g}'\")\n",
    "    fig, ax = plt.subplots(figsize=(4, 4))\n",
    "    sets, set_labels, set_colors = [], [], []\n",
    "    for d, c in zip(combined.obs[\"domain\"].cat.categories, combined.uns[\"domain_colors\"]):\n",
    "        s = set(current_df.query(f\"domain == '{d}'\")[\"names\"])\n",
    "        if len(s):\n",
    "            sets.append(s)\n",
    "            set_labels.append(d)\n",
    "            set_colors.append(c)\n",
    "    if len(sets) <= 1:\n",
    "        continue\n",
    "    venn = getattr(matplotlib_venn, f\"venn{len(sets)}\")(\n",
    "        sets, set_labels=set_labels, set_colors=set_colors, alpha=0.75, ax=ax\n",
    "    )\n",
    "    for item in venn.set_labels:\n",
    "        item.set_fontsize(15)\n",
    "    ax.set_title(f\"{g} (FDR = {fdr:.3e})\")\n",
    "    fig.savefig(f\"{PATH}/venn/{g.replace('/', '&')}.pdf\")\n",
    "    plt.close()  # Too long, do not show in here"
   ]
  },
  {
   "cell_type": "code",
   "execution_count": null,
   "id": "vertical-bahamas",
   "metadata": {},
   "outputs": [],
   "source": [
    "fig, ax = plt.subplots(figsize=(6, 4))\n",
    "ax = sns.barplot(\n",
    "    x=\"-log10 FDR\", y=\"scRNA-seq\", data=res_samect, \n",
    "    palette=MANUAL_COLORS, saturation=1.0, ax=ax\n",
    ")\n",
    "ax.set_ylabel(\"Cell type\")\n",
    "ax.axvline(x=2, c=\"black\", ls=\"--\")\n",
    "ax.spines[\"top\"].set_visible(False)\n",
    "ax.spines[\"right\"].set_visible(False)\n",
    "fig.savefig(f\"{PATH}/marker_intersection_logfdr.pdf\")"
   ]
  },
  {
   "cell_type": "markdown",
   "id": "valuable-destiny",
   "metadata": {},
   "source": [
    "## Select consensus markers"
   ]
  },
  {
   "cell_type": "code",
   "execution_count": null,
   "id": "pacific-synthesis",
   "metadata": {},
   "outputs": [],
   "source": [
    "consensus_marker_sets = {\n",
    "    g: set(elements.split(\", \"))\n",
    "    for elements, g in zip(res_samect[\"Elements\"], res_samect[\"scRNA-seq\"])\n",
    "}\n",
    "mask = [\n",
    "    name in consensus_marker_sets[g]\n",
    "    for name, g in zip(combined_marker_df[\"names\"], combined_marker_df[\"group\"])\n",
    "]\n",
    "consensus_marker_df = combined_marker_df.loc[mask].copy()\n",
    "consensus_marker_df.head()"
   ]
  },
  {
   "cell_type": "code",
   "execution_count": null,
   "id": "internal-mustang",
   "metadata": {},
   "outputs": [],
   "source": [
    "consensus_marker_df[\"scores\"] = consensus_marker_df[\"scores\"].abs()\n",
    "consensus_marker_df[\"logfoldchanges\"] = consensus_marker_df[\"logfoldchanges\"].abs()\n",
    "consensus_marker_df = consensus_marker_df.groupby([\"names\", \"group\"]).mean().reset_index().dropna()\n",
    "consensus_marker_df = consensus_marker_df.sort_values([\"group\", \"logfoldchanges\"], ascending=[True, False])\n",
    "consensus_marker_df.head()"
   ]
  },
  {
   "cell_type": "markdown",
   "id": "radio-england",
   "metadata": {},
   "source": [
    "# Visualization"
   ]
  },
  {
   "cell_type": "markdown",
   "id": "annoying-chinese",
   "metadata": {},
   "source": [
    "## Heatmap"
   ]
  },
  {
   "cell_type": "code",
   "execution_count": null,
   "id": "studied-seafood",
   "metadata": {},
   "outputs": [],
   "source": [
    "selected_marker_df = consensus_marker_df.groupby(\"group\").head(n=5).copy()\n",
    "selected_marker_df[\"group\"].cat.remove_unused_categories(inplace=True)"
   ]
  },
  {
   "cell_type": "code",
   "execution_count": null,
   "id": "fifth-allocation",
   "metadata": {},
   "outputs": [],
   "source": [
    "fig = sc.pl.matrixplot(\n",
    "    rna[rna.obs[\"common_cell_type\"] != \"mIn-1\"],\n",
    "    selected_marker_df[\"names\"], \"common_cell_type\",\n",
    "    dendrogram=False, standard_scale=\"var\", cmap=\"viridis\",\n",
    "    var_group_positions=[(\n",
    "        selected_marker_df[\"group\"].searchsorted(g),\n",
    "        selected_marker_df[\"group\"].searchsorted(g, side=\"right\") - 1\n",
    "    ) for g in selected_marker_df[\"group\"].cat.categories],\n",
    "    var_group_labels=selected_marker_df[\"group\"].cat.categories,\n",
    "    var_group_rotation=45,\n",
    "    return_fig=True\n",
    ")\n",
    "fig.legend(title=\"Mean expression\\nin group\")\n",
    "fig.savefig(f\"{PATH}/rna_cmct_consensus_heatmap.pdf\")"
   ]
  },
  {
   "cell_type": "code",
   "execution_count": null,
   "id": "laden-innocent",
   "metadata": {},
   "outputs": [],
   "source": [
    "fig = sc.pl.matrixplot(\n",
    "    met[met.obs[\"common_cell_type\"] != \"mIn-1\"],\n",
    "    selected_marker_df[\"names\"], \"common_cell_type\",\n",
    "    dendrogram=False, standard_scale=\"var\", cmap=\"viridis_r\",\n",
    "    var_group_positions=[(\n",
    "        selected_marker_df[\"group\"].searchsorted(g),\n",
    "        selected_marker_df[\"group\"].searchsorted(g, side=\"right\") - 1\n",
    "    ) for g in selected_marker_df[\"group\"].cat.categories],\n",
    "    var_group_labels=selected_marker_df[\"group\"].cat.categories,\n",
    "    var_group_rotation=45,\n",
    "    return_fig=True\n",
    ")\n",
    "fig.legend(title=\"Mean methylation\\nin group\")\n",
    "fig.savefig(f\"{PATH}/met_cmct_consensus_heatmap.pdf\")"
   ]
  },
  {
   "cell_type": "code",
   "execution_count": null,
   "id": "proved-reply",
   "metadata": {},
   "outputs": [],
   "source": [
    "fig = sc.pl.matrixplot(\n",
    "    atac[atac.obs[\"common_cell_type\"] != \"mIn-1\"],\n",
    "    selected_marker_df[\"names\"], \"common_cell_type\",\n",
    "    dendrogram=False, standard_scale=\"var\", cmap=\"viridis\",\n",
    "    var_group_positions=[(\n",
    "        selected_marker_df[\"group\"].searchsorted(g),\n",
    "        selected_marker_df[\"group\"].searchsorted(g, side=\"right\") - 1\n",
    "    ) for g in selected_marker_df[\"group\"].cat.categories],\n",
    "    var_group_labels=selected_marker_df[\"group\"].cat.categories,\n",
    "    var_group_rotation=45,\n",
    "    return_fig=True\n",
    ")\n",
    "fig.legend(title=\"Mean accessibility\\nin group\")\n",
    "fig.savefig(f\"{PATH}/atac_cmct_consensus_heatmap.pdf\")"
   ]
  },
  {
   "cell_type": "markdown",
   "id": "ancient-evolution",
   "metadata": {},
   "source": [
    "## Feature plot"
   ]
  },
  {
   "cell_type": "code",
   "execution_count": null,
   "id": "simplified-negotiation",
   "metadata": {},
   "outputs": [],
   "source": [
    "selected_marker_df = consensus_marker_df.groupby(\"group\").head(n=1).copy()\n",
    "selected_marker_df[\"group\"].cat.remove_unused_categories(inplace=True)\n",
    "selected_marker_df"
   ]
  },
  {
   "cell_type": "code",
   "execution_count": null,
   "id": "legal-trustee",
   "metadata": {},
   "outputs": [],
   "source": [
    "rcParams[\"figure.figsize\"] = (3, 3)"
   ]
  },
  {
   "cell_type": "code",
   "execution_count": null,
   "id": "quantitative-morning",
   "metadata": {},
   "outputs": [],
   "source": [
    "fig = sc.pl.embedding(rna, \"X_glue_umap\", color=selected_marker_df[\"names\"], return_fig=True)\n",
    "for i, ax in enumerate(fig.axes):\n",
    "    if i % 2 == 0:\n",
    "        ax.set_xlabel(\"UMAP1\")\n",
    "        ax.set_ylabel(\"UMAP2\")\n",
    "fig.savefig(f\"{PATH}/rna_cmct_consensus_featureplot.pdf\")"
   ]
  },
  {
   "cell_type": "code",
   "execution_count": null,
   "id": "automated-pavilion",
   "metadata": {},
   "outputs": [],
   "source": [
    "fig = sc.pl.embedding(met, \"X_glue_umap\", color=selected_marker_df[\"names\"], return_fig=True)\n",
    "for i, ax in enumerate(fig.axes):\n",
    "    if i % 2 == 0:\n",
    "        ax.set_xlabel(\"UMAP1\")\n",
    "        ax.set_ylabel(\"UMAP2\")\n",
    "fig.savefig(f\"{PATH}/met_cmct_consensus_featureplot.pdf\")"
   ]
  },
  {
   "cell_type": "code",
   "execution_count": null,
   "id": "happy-criterion",
   "metadata": {},
   "outputs": [],
   "source": [
    "fig = sc.pl.embedding(atac, \"X_glue_umap\", color=selected_marker_df[\"names\"], return_fig=True)\n",
    "for i, ax in enumerate(fig.axes):\n",
    "    if i % 2 == 0:\n",
    "        ax.set_xlabel(\"UMAP1\")\n",
    "        ax.set_ylabel(\"UMAP2\")\n",
    "fig.savefig(f\"{PATH}/atac_cmct_consensus_featureplot.pdf\")"
   ]
  }
 ],
 "metadata": {
  "kernelspec": {
   "display_name": "Python 3",
   "language": "python",
   "name": "python3"
  },
  "language_info": {
   "codemirror_mode": {
    "name": "ipython",
    "version": 3
   },
   "file_extension": ".py",
   "mimetype": "text/x-python",
   "name": "python",
   "nbconvert_exporter": "python",
   "pygments_lexer": "ipython3",
   "version": "3.8.5"
  },
  "toc-autonumbering": true
 },
 "nbformat": 4,
 "nbformat_minor": 5
}
