{
 "cells": [
  {
   "cell_type": "code",
   "execution_count": null,
   "metadata": {},
   "outputs": [],
   "source": [
    "import os\n",
    "\n",
    "import anndata\n",
    "import matplotlib.pyplot as plt\n",
    "import networkx as nx\n",
    "import numpy as np\n",
    "import pandas as pd\n",
    "import scanpy as sc\n",
    "import seaborn as sns\n",
    "from matplotlib import rcParams\n",
    "\n",
    "import scglue"
   ]
  },
  {
   "cell_type": "code",
   "execution_count": null,
   "metadata": {},
   "outputs": [],
   "source": [
    "scglue.plot.set_publication_params()\n",
    "rcParams[\"figure.figsize\"] = (4, 4)\n",
    "\n",
    "PATH = \"s02_glue\"\n",
    "os.makedirs(PATH, exist_ok=True)"
   ]
  },
  {
   "cell_type": "markdown",
   "metadata": {},
   "source": [
    "# Read data"
   ]
  },
  {
   "cell_type": "code",
   "execution_count": null,
   "metadata": {},
   "outputs": [],
   "source": [
    "rna = anndata.read_h5ad(\"s01_preprocessing/rna.h5ad\")\n",
    "met = anndata.read_h5ad(\"s01_preprocessing/met.h5ad\")\n",
    "atac = anndata.read_h5ad(\"s01_preprocessing/atac.h5ad\")\n",
    "met2rna = anndata.read_h5ad(\"s01_preprocessing/met2rna.h5ad\")\n",
    "atac2rna = anndata.read_h5ad(\"s01_preprocessing/atac2rna.h5ad\")\n",
    "prior = nx.read_graphml(\"s01_preprocessing/sub.graphml.gz\")"
   ]
  },
  {
   "cell_type": "markdown",
   "metadata": {},
   "source": [
    "# GLUE"
   ]
  },
  {
   "cell_type": "code",
   "execution_count": null,
   "metadata": {},
   "outputs": [],
   "source": [
    "vertices = sorted(prior.nodes)\n",
    "scglue.models.configure_dataset(rna, \"NB\", use_highly_variable=True, use_rep=\"X_pca\")\n",
    "scglue.models.configure_dataset(met, \"ZILN\", use_highly_variable=True, use_rep=\"X_pca\")\n",
    "scglue.models.configure_dataset(atac, \"NB\", use_highly_variable=True, use_rep=\"X_lsi\")\n",
    "glue = scglue.models.SCGLUEModel(\n",
    "    {\"rna\": rna, \"met\": met, \"atac\": atac}, vertices,\n",
    "    random_seed=0\n",
    ")"
   ]
  },
  {
   "cell_type": "code",
   "execution_count": null,
   "metadata": {
    "tags": []
   },
   "outputs": [],
   "source": [
    "glue.compile()\n",
    "glue.fit(\n",
    "    {\"rna\": rna, \"met\": met, \"atac\": atac},\n",
    "    prior, edge_weight=\"weight\", edge_sign=\"sign\",\n",
    "    directory=PATH\n",
    ")\n",
    "glue.save(f\"{PATH}/final.dill\")"
   ]
  },
  {
   "cell_type": "markdown",
   "metadata": {},
   "source": [
    "# Visualization"
   ]
  },
  {
   "cell_type": "code",
   "execution_count": null,
   "metadata": {
    "scrolled": true
   },
   "outputs": [],
   "source": [
    "rna.obsm[\"X_glue\"] = glue.encode_data(\"rna\", rna)\n",
    "met.obsm[\"X_glue\"] = glue.encode_data(\"met\", met)\n",
    "atac.obsm[\"X_glue\"] = glue.encode_data(\"atac\", atac)\n",
    "met2rna.obsm[\"X_glue\"] = met.obsm[\"X_glue\"]\n",
    "atac2rna.obsm[\"X_glue\"] = atac.obsm[\"X_glue\"]"
   ]
  },
  {
   "cell_type": "code",
   "execution_count": null,
   "metadata": {},
   "outputs": [],
   "source": [
    "combined = anndata.AnnData(\n",
    "    obs=pd.concat([rna.obs, met.obs, atac.obs], join=\"inner\"),\n",
    "    obsm={\"X_glue\": np.concatenate([\n",
    "        rna.obsm[\"X_glue\"], met.obsm[\"X_glue\"], atac.obsm[\"X_glue\"]\n",
    "    ])}\n",
    ")\n",
    "combined.obs[\"domain\"] = pd.Categorical(\n",
    "    combined.obs[\"domain\"],\n",
    "    categories=[\"scRNA-seq\", \"scATAC-seq\", \"snmC-seq\"]\n",
    ")\n",
    "combined.uns[\"domain_colors\"] = list(sns.color_palette(n_colors=3).as_hex())\n",
    "combined"
   ]
  },
  {
   "cell_type": "code",
   "execution_count": null,
   "metadata": {},
   "outputs": [],
   "source": [
    "sc.pp.neighbors(combined, n_pcs=50, use_rep=\"X_glue\", metric=\"cosine\")\n",
    "sc.tl.umap(combined)"
   ]
  },
  {
   "cell_type": "code",
   "execution_count": null,
   "metadata": {},
   "outputs": [],
   "source": [
    "rna.obsm[\"X_glue_umap\"] = combined[rna.obs_names, :].obsm[\"X_umap\"]\n",
    "met.obsm[\"X_glue_umap\"] = combined[met.obs_names, :].obsm[\"X_umap\"]\n",
    "atac.obsm[\"X_glue_umap\"] = combined[atac.obs_names, :].obsm[\"X_umap\"]\n",
    "met2rna.obsm[\"X_glue_umap\"] = met.obsm[\"X_glue_umap\"]\n",
    "atac2rna.obsm[\"X_glue_umap\"] = atac.obsm[\"X_glue_umap\"]"
   ]
  },
  {
   "cell_type": "code",
   "execution_count": null,
   "metadata": {},
   "outputs": [],
   "source": [
    "rna.shape[0] / atac.shape[0]"
   ]
  },
  {
   "cell_type": "code",
   "execution_count": null,
   "metadata": {},
   "outputs": [],
   "source": [
    "atac.shape[0]"
   ]
  },
  {
   "cell_type": "code",
   "execution_count": null,
   "metadata": {},
   "outputs": [],
   "source": [
    "rna.shape[0] / met.shape[0]"
   ]
  },
  {
   "cell_type": "code",
   "execution_count": null,
   "metadata": {},
   "outputs": [],
   "source": [
    "met.shape[0]"
   ]
  },
  {
   "cell_type": "code",
   "execution_count": null,
   "metadata": {},
   "outputs": [],
   "source": [
    "fig, ax = plt.subplots()\n",
    "ax.scatter(\n",
    "    x=rna.obsm[\"X_glue_umap\"][:, 0], y=rna.obsm[\"X_glue_umap\"][:, 1],\n",
    "    label=\"scRNA-seq\", s=0.5, c=combined.uns[\"domain_colors\"][0],\n",
    "    edgecolor=None, rasterized=True\n",
    ")\n",
    "ax.scatter(\n",
    "    x=atac.obsm[\"X_glue_umap\"][:, 0], y=atac.obsm[\"X_glue_umap\"][:, 1],\n",
    "    label=\"scATAC-seq\", s=1.0, c=combined.uns[\"domain_colors\"][1],\n",
    "    edgecolor=None, rasterized=True\n",
    ")\n",
    "ax.scatter(\n",
    "    x=met.obsm[\"X_glue_umap\"][:, 0], y=met.obsm[\"X_glue_umap\"][:, 1],\n",
    "    label=\"snmC-seq\", s=0.7, c=combined.uns[\"domain_colors\"][2],\n",
    "    edgecolor=None, rasterized=True\n",
    ")\n",
    "ax.set_xticks([])\n",
    "ax.set_yticks([])\n",
    "ax.set_xlabel(\"UMAP1\")\n",
    "ax.set_ylabel(\"UMAP2\")\n",
    "ax.set_title(\"Omics layer\")\n",
    "lgnd = ax.legend(frameon=False, loc=\"center left\", bbox_to_anchor=(1.0, 0.5))\n",
    "for handle in lgnd.legendHandles:\n",
    "    handle.set_sizes([30.0])\n",
    "fig.savefig(f\"{PATH}/combined_domain.pdf\")"
   ]
  },
  {
   "cell_type": "code",
   "execution_count": null,
   "metadata": {},
   "outputs": [],
   "source": [
    "fig = sc.pl.embedding(rna, \"X_glue_umap\", color=\"cell_type\", title=\"scRNA-seq cell type\", return_fig=True)\n",
    "fig.axes[0].set_xlabel(\"UMAP1\")\n",
    "fig.axes[0].set_ylabel(\"UMAP2\")\n",
    "fig.savefig(f\"{PATH}/rna_ct.pdf\")"
   ]
  },
  {
   "cell_type": "code",
   "execution_count": null,
   "metadata": {},
   "outputs": [],
   "source": [
    "fig = sc.pl.embedding(met, \"X_glue_umap\", color=\"cell_type\", title=\"snmC-seq cell type\", return_fig=True)\n",
    "fig.axes[0].set_xlabel(\"UMAP1\")\n",
    "fig.axes[0].set_ylabel(\"UMAP2\")\n",
    "fig.savefig(f\"{PATH}/met_ct.pdf\")"
   ]
  },
  {
   "cell_type": "code",
   "execution_count": null,
   "metadata": {},
   "outputs": [],
   "source": [
    "fig = sc.pl.embedding(atac, \"X_glue_umap\", color=\"cell_type\", title=\"scATAC-seq cell type\", return_fig=True)\n",
    "fig.axes[0].set_xlabel(\"UMAP1\")\n",
    "fig.axes[0].set_ylabel(\"UMAP2\")\n",
    "fig.savefig(f\"{PATH}/atac_ct.pdf\")"
   ]
  },
  {
   "cell_type": "code",
   "execution_count": null,
   "metadata": {},
   "outputs": [],
   "source": [
    "rna.write(f\"{PATH}/rna.h5ad\", compression=\"gzip\")\n",
    "met.write(f\"{PATH}/met.h5ad\", compression=\"gzip\")\n",
    "atac.write(f\"{PATH}/atac.h5ad\", compression=\"gzip\")\n",
    "met2rna.write(f\"{PATH}/met2rna.h5ad\", compression=\"gzip\")\n",
    "atac2rna.write(f\"{PATH}/atac2rna.h5ad\", compression=\"gzip\")\n",
    "combined.write(f\"{PATH}/combined.h5ad\", compression=\"gzip\")"
   ]
  }
 ],
 "metadata": {
  "kernelspec": {
   "display_name": "Python 3",
   "language": "python",
   "name": "python3"
  },
  "language_info": {
   "codemirror_mode": {
    "name": "ipython",
    "version": 3
   },
   "file_extension": ".py",
   "mimetype": "text/x-python",
   "name": "python",
   "nbconvert_exporter": "python",
   "pygments_lexer": "ipython3",
   "version": "3.8.5"
  },
  "output_auto_scroll": true,
  "toc-autonumbering": true
 },
 "nbformat": 4,
 "nbformat_minor": 4
}
