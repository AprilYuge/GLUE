{
 "cells": [
  {
   "cell_type": "code",
   "execution_count": null,
   "id": "expected-compatibility",
   "metadata": {},
   "outputs": [],
   "source": [
    "import os\n",
    "from collections import defaultdict\n",
    "\n",
    "import anndata\n",
    "import faiss\n",
    "import matplotlib.pyplot as plt\n",
    "import numpy as np\n",
    "import pandas as pd\n",
    "import scanpy as sc\n",
    "import scipy.stats\n",
    "import seaborn as sns\n",
    "import statsmodels.api as sm\n",
    "import yaml\n",
    "from matplotlib import rcParams\n",
    "from sklearn.linear_model import LinearRegression\n",
    "from statsmodels.nonparametric.smoothers_lowess import lowess\n",
    "from tqdm.notebook import tqdm\n",
    "\n",
    "import scglue"
   ]
  },
  {
   "cell_type": "code",
   "execution_count": null,
   "id": "steady-spiritual",
   "metadata": {},
   "outputs": [],
   "source": [
    "scglue.plot.set_publication_params()\n",
    "rcParams[\"figure.figsize\"] = (4, 4)\n",
    "\n",
    "PATH = \"s04_reg_contrib\"\n",
    "os.makedirs(PATH, exist_ok=True)"
   ]
  },
  {
   "cell_type": "markdown",
   "id": "natural-magazine",
   "metadata": {},
   "source": [
    "# Read data"
   ]
  },
  {
   "cell_type": "code",
   "execution_count": null,
   "id": "surrounded-nicholas",
   "metadata": {},
   "outputs": [],
   "source": [
    "rna = anndata.read_h5ad(\"s02_glue/rna.h5ad\")\n",
    "met = anndata.read_h5ad(\"s02_glue/met.h5ad\")\n",
    "atac = anndata.read_h5ad(\"s02_glue/atac2rna.h5ad\")\n",
    "combined = anndata.read_h5ad(\"s02_glue/combined.h5ad\")"
   ]
  },
  {
   "cell_type": "code",
   "execution_count": null,
   "id": "constitutional-robin",
   "metadata": {},
   "outputs": [],
   "source": [
    "rna.obs[\"common_cell_type\"] = anndata.read_h5ad(\"s03_markers/rna_filtered.h5ad\", backed=\"r\").obs[\"common_cell_type\"]\n",
    "met.obs[\"common_cell_type\"] = anndata.read_h5ad(\"s03_markers/met_filtered.h5ad\", backed=\"r\").obs[\"common_cell_type\"]\n",
    "atac.obs[\"common_cell_type\"] = anndata.read_h5ad(\"s03_markers/atac_filtered.h5ad\", backed=\"r\").obs[\"common_cell_type\"]"
   ]
  },
  {
   "cell_type": "code",
   "execution_count": null,
   "id": "hispanic-restriction",
   "metadata": {},
   "outputs": [],
   "source": [
    "with open(\"manual_colors.yaml\", \"r\") as f:\n",
    "    MANUAL_COLORS = yaml.load(f, Loader=yaml.FullLoader)"
   ]
  },
  {
   "cell_type": "markdown",
   "id": "innocent-avenue",
   "metadata": {},
   "source": [
    "# Clustering pseudocells"
   ]
  },
  {
   "cell_type": "code",
   "execution_count": null,
   "id": "exact-album",
   "metadata": {},
   "outputs": [],
   "source": [
    "kmeans = faiss.Kmeans(combined.obsm[\"X_glue\"].shape[1], 200, gpu=False, seed=0)\n",
    "kmeans.train(combined.obsm[\"X_glue\"])\n",
    "_, combined.obs[\"pseudocell\"] = kmeans.index.search(combined.obsm[\"X_glue\"], 1)"
   ]
  },
  {
   "cell_type": "code",
   "execution_count": null,
   "id": "necessary-manor",
   "metadata": {},
   "outputs": [],
   "source": [
    "combined.obs[\"pseudocell\"] = pd.Categorical(combined.obs[\"pseudocell\"])\n",
    "combined.obs[\"pseudocell\"].cat.rename_categories(lambda x: f\"pseudocell-{x}\", inplace=True)"
   ]
  },
  {
   "cell_type": "code",
   "execution_count": null,
   "id": "union-audience",
   "metadata": {},
   "outputs": [],
   "source": [
    "rna.obs[\"pseudocell\"] = combined.obs[\"pseudocell\"].loc[rna.obs_names].cat.remove_unused_categories()\n",
    "met.obs[\"pseudocell\"] = combined.obs[\"pseudocell\"].loc[met.obs_names].cat.remove_unused_categories()\n",
    "atac.obs[\"pseudocell\"] = combined.obs[\"pseudocell\"].loc[atac.obs_names].cat.remove_unused_categories()\n",
    "rna.obs[\"n_cells\"] = 1\n",
    "met.obs[\"n_cells\"] = 1\n",
    "atac.obs[\"n_cells\"] = 1"
   ]
  },
  {
   "cell_type": "code",
   "execution_count": null,
   "id": "hindu-nancy",
   "metadata": {},
   "outputs": [],
   "source": [
    "mCH = met[:, [item.endswith(\"_mCH\") for item in met.var_names]]\n",
    "mCG = met[:, [item.endswith(\"_mCG\") for item in met.var_names]]\n",
    "mCH.var_names = mCH.var_names.str.replace(\"_mCH\", \"\")\n",
    "mCG.var_names = mCG.var_names.str.replace(\"_mCG\", \"\")"
   ]
  },
  {
   "cell_type": "code",
   "execution_count": null,
   "id": "superb-coordination",
   "metadata": {},
   "outputs": [],
   "source": [
    "rna_agg = scglue.data.aggregate_obs(\n",
    "    rna, by=\"pseudocell\", X_agg=\"sum\",\n",
    "    obs_agg={\"common_cell_type\": \"majority\", \"domain\": \"majority\", \"n_cells\": \"sum\"},\n",
    "    obsm_agg={\"X_glue\": \"mean\", \"X_glue_umap\": \"mean\"}\n",
    ")\n",
    "rna_agg"
   ]
  },
  {
   "cell_type": "code",
   "execution_count": null,
   "id": "respective-valentine",
   "metadata": {},
   "outputs": [],
   "source": [
    "mCH_agg = scglue.data.aggregate_obs(\n",
    "    mCH, by=\"pseudocell\", X_agg=\"mean\",\n",
    "    obs_agg={\"common_cell_type\": \"majority\", \"domain\": \"majority\", \"n_cells\": \"sum\"},\n",
    "    obsm_agg={\"X_glue\": \"mean\", \"X_glue_umap\": \"mean\"}\n",
    ")\n",
    "mCH_agg"
   ]
  },
  {
   "cell_type": "code",
   "execution_count": null,
   "id": "offensive-honduras",
   "metadata": {},
   "outputs": [],
   "source": [
    "mCG_agg = scglue.data.aggregate_obs(\n",
    "    mCG, by=\"pseudocell\", X_agg=\"mean\",\n",
    "    obs_agg={\"common_cell_type\": \"majority\", \"domain\": \"majority\", \"n_cells\": \"sum\"},\n",
    "    obsm_agg={\"X_glue\": \"mean\", \"X_glue_umap\": \"mean\"}\n",
    ")\n",
    "mCG_agg"
   ]
  },
  {
   "cell_type": "code",
   "execution_count": null,
   "id": "electric-voluntary",
   "metadata": {},
   "outputs": [],
   "source": [
    "atac_agg = scglue.data.aggregate_obs(\n",
    "    atac, by=\"pseudocell\", X_agg=\"sum\",\n",
    "    obs_agg={\"common_cell_type\": \"majority\", \"domain\": \"majority\", \"n_cells\": \"sum\"},\n",
    "    obsm_agg={\"X_glue\": \"mean\", \"X_glue_umap\": \"mean\"}\n",
    ")\n",
    "atac_agg"
   ]
  },
  {
   "cell_type": "code",
   "execution_count": null,
   "id": "ongoing-influence",
   "metadata": {},
   "outputs": [],
   "source": [
    "common_pseudocells = set(rna_agg.obs_names).intersection(\n",
    "    mCH_agg.obs_names\n",
    ").intersection(\n",
    "    mCG_agg.obs_names\n",
    ").intersection(\n",
    "    atac_agg.obs_names\n",
    ")\n",
    "rna_agg = rna_agg[[item in common_pseudocells for item in rna_agg.obs_names], :].copy()\n",
    "mCH_agg = mCH_agg[[item in common_pseudocells for item in mCH_agg.obs_names], :].copy()\n",
    "mCG_agg = mCG_agg[[item in common_pseudocells for item in mCG_agg.obs_names], :].copy()\n",
    "atac_agg = atac_agg[[item in common_pseudocells for item in atac_agg.obs_names], :].copy()"
   ]
  },
  {
   "cell_type": "markdown",
   "id": "tribal-roads",
   "metadata": {},
   "source": [
    "# Normalization and filtering"
   ]
  },
  {
   "cell_type": "code",
   "execution_count": null,
   "id": "bulgarian-stereo",
   "metadata": {},
   "outputs": [],
   "source": [
    "sc.pp.normalize_total(rna_agg)\n",
    "sc.pp.log1p(rna_agg)\n",
    "\n",
    "# sc.pp.normalize_total(mCH_agg)\n",
    "sc.pp.log1p(mCH_agg)\n",
    "\n",
    "# sc.pp.normalize_total(mCG_agg)\n",
    "sc.pp.log1p(mCG_agg)\n",
    "\n",
    "sc.pp.normalize_total(atac_agg)\n",
    "sc.pp.log1p(atac_agg)"
   ]
  },
  {
   "cell_type": "code",
   "execution_count": null,
   "id": "lucky-wichita",
   "metadata": {},
   "outputs": [],
   "source": [
    "rna_agg_stat = pd.DataFrame({\n",
    "    \"mean\": rna_agg.X.mean(axis=0).A1,\n",
    "    \"std\": np.sqrt(scglue.num.col_var(rna_agg.X))\n",
    "}, index=rna_agg.var_names)\n",
    "mCH_agg_stat = pd.DataFrame({\n",
    "    \"mean\": mCH_agg.X.mean(axis=0),\n",
    "    \"std\": mCH_agg.X.std(axis=0)\n",
    "}, index=mCH_agg.var_names)\n",
    "mCG_agg_stat = pd.DataFrame({\n",
    "    \"mean\": mCG_agg.X.mean(axis=0),\n",
    "    \"std\": mCG_agg.X.std(axis=0)\n",
    "}, index=mCG_agg.var_names)\n",
    "atac_agg_stat = pd.DataFrame({\n",
    "    \"mean\": atac_agg.X.mean(axis=0).A1,\n",
    "    \"std\": np.sqrt(scglue.num.col_var(atac_agg.X))\n",
    "}, index=atac_agg.var_names)"
   ]
  },
  {
   "cell_type": "code",
   "execution_count": null,
   "id": "interracial-dictionary",
   "metadata": {},
   "outputs": [],
   "source": [
    "rna_agg_stat[\"std_lowess\"] = lowess(rna_agg_stat[\"std\"], rna_agg_stat[\"mean\"], frac=0.3, return_sorted=False)\n",
    "rna_agg_stat[\"std_remain\"] = rna_agg_stat[\"std\"] - rna_agg_stat[\"std_lowess\"]\n",
    "\n",
    "mCH_agg_stat[\"std_lowess\"] = lowess(mCH_agg_stat[\"std\"], mCH_agg_stat[\"mean\"], frac=0.3, return_sorted=False)\n",
    "mCH_agg_stat[\"std_remain\"] = mCH_agg_stat[\"std\"] - mCH_agg_stat[\"std_lowess\"]\n",
    "\n",
    "mCG_agg_stat[\"std_lowess\"] = lowess(mCG_agg_stat[\"std\"], mCG_agg_stat[\"mean\"], frac=0.3, return_sorted=False)\n",
    "mCG_agg_stat[\"std_remain\"] = mCG_agg_stat[\"std\"] - mCG_agg_stat[\"std_lowess\"]\n",
    "\n",
    "atac_agg_stat[\"std_lowess\"] = lowess(atac_agg_stat[\"std\"], atac_agg_stat[\"mean\"], frac=0.3, return_sorted=False)\n",
    "atac_agg_stat[\"std_remain\"] = atac_agg_stat[\"std\"] - atac_agg_stat[\"std_lowess\"]\n",
    "\n",
    "stats = [rna_agg_stat, mCH_agg_stat, mCG_agg_stat, atac_agg_stat]"
   ]
  },
  {
   "cell_type": "code",
   "execution_count": null,
   "id": "moral-cassette",
   "metadata": {},
   "outputs": [],
   "source": [
    "fig, axes = plt.subplots(figsize=(16, 3), ncols=4, gridspec_kw=dict(wspace=0.5))\n",
    "for ax, stat in zip(axes, stats):\n",
    "    ax = sns.scatterplot(x=\"mean\", y=\"std\", data=stat, edgecolor=None, s=3, ax=ax)\n",
    "    ax = sns.scatterplot(x=\"mean\", y=\"std_lowess\", data=stat, edgecolor=None, s=3, ax=ax)"
   ]
  },
  {
   "cell_type": "code",
   "execution_count": null,
   "id": "commercial-piano",
   "metadata": {},
   "outputs": [],
   "source": [
    "mean_cutoffs = [0.5, 0.1, 0.1, 0.5]\n",
    "std_cutoffs = [-0.02, -0.02, -0.02, -0.02]"
   ]
  },
  {
   "cell_type": "code",
   "execution_count": null,
   "id": "unknown-inside",
   "metadata": {},
   "outputs": [],
   "source": [
    "fig, axes = plt.subplots(figsize=(16, 3), ncols=4, gridspec_kw=dict(wspace=0.5))\n",
    "for ax, stat, mean_cutoff, std_cutoff in zip(axes, stats, mean_cutoffs, std_cutoffs):\n",
    "    ax = sns.scatterplot(x=\"mean\", y=\"std_remain\", data=stat, edgecolor=None, s=3, ax=ax)\n",
    "    ax.axvline(x=mean_cutoff, c=\"darkred\", ls=\"--\")\n",
    "    ax.axhline(y=std_cutoff, c=\"darkred\", ls=\"--\")"
   ]
  },
  {
   "cell_type": "code",
   "execution_count": null,
   "id": "fundamental-split",
   "metadata": {},
   "outputs": [],
   "source": [
    "rna_agg_use = rna_agg[:, np.logical_and(\n",
    "    rna_agg_stat[\"mean\"] >= mean_cutoffs[0],\n",
    "    rna_agg_stat[\"std_remain\"] >= std_cutoffs[0]\n",
    ")]\n",
    "mCH_agg_use = mCH_agg[:, np.logical_and(\n",
    "    mCH_agg_stat[\"mean\"] >= mean_cutoffs[1],\n",
    "    mCH_agg_stat[\"std_remain\"] >= std_cutoffs[1]\n",
    ")]\n",
    "mCG_agg_use = mCG_agg[:, np.logical_and(\n",
    "    mCG_agg_stat[\"mean\"] >= mean_cutoffs[2],\n",
    "    mCG_agg_stat[\"std_remain\"] >= std_cutoffs[2]\n",
    ")]\n",
    "atac_agg_use = atac_agg[:, np.logical_and(\n",
    "    atac_agg_stat[\"mean\"] >= mean_cutoffs[3],\n",
    "    atac_agg_stat[\"std_remain\"] >= std_cutoffs[3]\n",
    ")]"
   ]
  },
  {
   "cell_type": "code",
   "execution_count": null,
   "id": "federal-wells",
   "metadata": {},
   "outputs": [],
   "source": [
    "common_genes = list(set(\n",
    "    rna_agg_use.var_names\n",
    ").intersection(\n",
    "    mCH_agg_use.var_names\n",
    ").intersection(\n",
    "    mCG_agg_use.var_names\n",
    ").intersection(\n",
    "    atac_agg_use.var_names\n",
    "))\n",
    "len(common_genes)"
   ]
  },
  {
   "cell_type": "code",
   "execution_count": null,
   "id": "junior-interface",
   "metadata": {},
   "outputs": [],
   "source": [
    "rna_agg_use = rna_agg_use[:, common_genes].copy()\n",
    "mCH_agg_use = mCH_agg_use[:, common_genes].copy()\n",
    "mCG_agg_use = mCG_agg_use[:, common_genes].copy()\n",
    "atac_agg_use = atac_agg_use[:, common_genes].copy()"
   ]
  },
  {
   "cell_type": "code",
   "execution_count": null,
   "id": "narrow-setup",
   "metadata": {},
   "outputs": [],
   "source": [
    "rna_X = rna_agg_use.X.toarray()\n",
    "mCH_X = mCH_agg_use.X\n",
    "mCG_X = mCG_agg_use.X\n",
    "atac_X = atac_agg_use.X.toarray()"
   ]
  },
  {
   "cell_type": "markdown",
   "id": "cheap-butler",
   "metadata": {},
   "source": [
    "# Global"
   ]
  },
  {
   "cell_type": "markdown",
   "id": "inclusive-feelings",
   "metadata": {},
   "source": [
    "## Correlation"
   ]
  },
  {
   "cell_type": "code",
   "execution_count": null,
   "id": "retired-nursery",
   "metadata": {},
   "outputs": [],
   "source": [
    "corr = []\n",
    "for i in tqdm(range(rna_X.shape[1])):\n",
    "    corr.append([\n",
    "        scipy.stats.spearmanr(rna_X[:, i], mCH_X[:, i]).correlation,\n",
    "        scipy.stats.spearmanr(rna_X[:, i], mCG_X[:, i]).correlation,\n",
    "        scipy.stats.spearmanr(rna_X[:, i], atac_X[:, i]).correlation,\n",
    "    ])\n",
    "corr = pd.DataFrame(corr, index=common_genes, columns=[\"mCH\", \"mCG\", \"ATAC\"])\n",
    "corr.head()"
   ]
  },
  {
   "cell_type": "code",
   "execution_count": null,
   "id": "specific-stability",
   "metadata": {},
   "outputs": [],
   "source": [
    "def offdiag_func(x, y, ax=None, **kwargs):\n",
    "    ax = ax or plt.gca()\n",
    "    ax.axvline(x=0, c=\"darkred\", ls=\"--\")\n",
    "    ax.axhline(y=0, c=\"darkred\", ls=\"--\")\n",
    "\n",
    "g = sns.pairplot(\n",
    "    corr, diag_kind=\"kde\", height=2,\n",
    "    plot_kws=dict(s=3, edgecolor=None, alpha=0.5, rasterized=True)\n",
    ").map_offdiag(offdiag_func)\n",
    "g.savefig(f\"{PATH}/corr_cmp.pdf\")"
   ]
  },
  {
   "cell_type": "code",
   "execution_count": null,
   "id": "subsequent-renaissance",
   "metadata": {},
   "outputs": [],
   "source": [
    "gene_stat = rna_agg_stat.loc[common_genes, :].assign(\n",
    "    gene_length=np.log10(\n",
    "        rna.var.loc[common_genes, \"chromEnd\"] -\n",
    "        rna.var.loc[common_genes, \"chromStart\"]\n",
    "    )\n",
    ")\n",
    "gene_stat.head()"
   ]
  },
  {
   "cell_type": "code",
   "execution_count": null,
   "id": "steady-chemical",
   "metadata": {},
   "outputs": [],
   "source": [
    "gene_stat_corr = pd.DataFrame(\n",
    "    scglue.num.spr_mat(\n",
    "        gene_stat.loc[:, [\"gene_length\", \"mean\", \"std_remain\"]], corr\n",
    "    ), index=[\"Length\", \"Expr mean\", \"Expr variability\"], columns=corr.columns\n",
    ").abs()\n",
    "gene_stat_corr.index.name = \"Gene stat\"\n",
    "gene_stat_corr = gene_stat_corr.reset_index().melt(\n",
    "    id_vars=[\"Gene stat\"], var_name=\"Omics layer\", value_name=\"Association\"\n",
    ")\n",
    "gene_stat_corr"
   ]
  },
  {
   "cell_type": "code",
   "execution_count": null,
   "id": "lasting-plasma",
   "metadata": {
    "tags": []
   },
   "outputs": [],
   "source": [
    "ax = sns.lineplot(\n",
    "    x=\"Omics layer\", y=\"Association\", hue=\"Gene stat\",\n",
    "    data=gene_stat_corr, lw=2, legend=False\n",
    ")\n",
    "ax = sns.scatterplot(\n",
    "    x=\"Omics layer\", y=\"Association\", hue=\"Gene stat\",\n",
    "    data=gene_stat_corr, edgecolor=None, ax=ax\n",
    ")\n",
    "ax.spines[\"top\"].set_visible(False)\n",
    "ax.spines[\"right\"].set_visible(False)\n",
    "ax.legend(title=\"Gene stat\", loc=\"center left\", bbox_to_anchor=(1.05, 0.5), frameon=False)\n",
    "ax.get_figure().savefig(f\"{PATH}/gene_stat_corr.pdf\")"
   ]
  },
  {
   "cell_type": "markdown",
   "id": "interior-rotation",
   "metadata": {},
   "source": [
    "## R square"
   ]
  },
  {
   "cell_type": "code",
   "execution_count": null,
   "id": "occasional-python",
   "metadata": {},
   "outputs": [],
   "source": [
    "rsquare = defaultdict(list)\n",
    "\n",
    "for i in range(rna_X.shape[1]):\n",
    "    y_ = rna_X[:, i]\n",
    "\n",
    "    X_ = np.stack([mCH_X[:, i], mCG_X[:, i], atac_X[:, i]], axis=1)\n",
    "    lm = LinearRegression().fit(X_, y_)\n",
    "    rsquare[\"Combined\"].append(lm.score(X_, y_))\n",
    "\n",
    "    X_ = np.expand_dims(mCH_X[:, i], axis=1)\n",
    "    lm = LinearRegression().fit(X_, y_)\n",
    "    rsquare[\"mCH\"].append(lm.score(X_, y_))\n",
    "\n",
    "    X_ = np.expand_dims(mCG_X[:, i], axis=1)\n",
    "    lm = LinearRegression().fit(X_, y_)\n",
    "    rsquare[\"mCG\"].append(lm.score(X_, y_))\n",
    "\n",
    "    X_ = np.expand_dims(atac_X[:, i], axis=1)\n",
    "    lm = LinearRegression().fit(X_, y_)\n",
    "    rsquare[\"ATAC\"].append(lm.score(X_, y_))\n",
    "\n",
    "rsquare = pd.DataFrame(rsquare, index=common_genes)\n",
    "rsquare_melt = rsquare.melt(var_name=\"Omics layer\", value_name=\"rsquare\")"
   ]
  },
  {
   "cell_type": "code",
   "execution_count": null,
   "id": "sought-amateur",
   "metadata": {},
   "outputs": [],
   "source": [
    "ax = sns.boxplot(\n",
    "    x=\"Omics layer\", y=\"rsquare\", data=rsquare_melt,\n",
    "    saturation=1.0, width=0.6, showmeans=True,\n",
    "    meanprops=dict(marker=\"^\", markerfacecolor=\"white\", markeredgecolor=\"black\"),\n",
    "    boxprops=dict(edgecolor=\"black\"), medianprops=dict(color=\"black\"),\n",
    "    whiskerprops=dict(color=\"black\"), capprops=dict(color=\"black\"),\n",
    "    flierprops=dict(marker=\".\", markerfacecolor=\"black\", markeredgecolor=\"none\", markersize=3),\n",
    ")\n",
    "ax.set_ylabel(\"Gene expression $R^2$\")\n",
    "ax.spines[\"top\"].set_visible(False)\n",
    "ax.spines[\"right\"].set_visible(False)\n",
    "ax.get_figure().savefig(f\"{PATH}/rsquare.pdf\")"
   ]
  },
  {
   "cell_type": "code",
   "execution_count": null,
   "id": "opponent-chess",
   "metadata": {},
   "outputs": [],
   "source": [
    "rsquare.mean(axis=0)"
   ]
  },
  {
   "cell_type": "markdown",
   "id": "measured-friendship",
   "metadata": {},
   "source": [
    "# Per cell type"
   ]
  },
  {
   "cell_type": "code",
   "execution_count": null,
   "id": "rotary-modern",
   "metadata": {},
   "outputs": [],
   "source": [
    "common_cell_types = pd.DataFrame({\n",
    "    \"rna\": rna_agg_use.obs[\"common_cell_type\"],\n",
    "    \"mCH\": mCH_agg_use.obs[\"common_cell_type\"],\n",
    "    \"mCG\": mCG_agg_use.obs[\"common_cell_type\"],\n",
    "    \"atac\": atac_agg_use.obs[\"common_cell_type\"]\n",
    "})\n",
    "common_cell_types[\"n_ct\"] = common_cell_types.apply(lambda x: len(set(x)), axis=1)\n",
    "common_cell_types.head()"
   ]
  },
  {
   "cell_type": "code",
   "execution_count": null,
   "id": "worldwide-stock",
   "metadata": {},
   "outputs": [],
   "source": [
    "consistent_pseudocells = common_cell_types.query(\"n_ct == 1\").index\n",
    "rna_agg_use = rna_agg_use[consistent_pseudocells, :]\n",
    "mCH_agg_use = mCH_agg_use[consistent_pseudocells, :]\n",
    "mCG_agg_use = mCG_agg_use[consistent_pseudocells, :]\n",
    "atac_agg_use = atac_agg_use[consistent_pseudocells, :]"
   ]
  },
  {
   "cell_type": "code",
   "execution_count": null,
   "id": "buried-river",
   "metadata": {},
   "outputs": [],
   "source": [
    "rna_X = rna_agg_use.X.toarray()\n",
    "mCH_X = mCH_agg_use.X\n",
    "mCG_X = mCG_agg_use.X\n",
    "atac_X = atac_agg_use.X.toarray()"
   ]
  },
  {
   "cell_type": "code",
   "execution_count": null,
   "id": "differential-posting",
   "metadata": {},
   "outputs": [],
   "source": [
    "ct_sizes = rna_agg_use.obs[\"common_cell_type\"].value_counts()\n",
    "ct_sizes"
   ]
  },
  {
   "cell_type": "code",
   "execution_count": null,
   "id": "acute-concept",
   "metadata": {},
   "outputs": [],
   "source": [
    "min_size = 10\n",
    "used_cts = ct_sizes.index[ct_sizes >= min_size].to_numpy()\n",
    "used_cts"
   ]
  },
  {
   "cell_type": "markdown",
   "id": "quarterly-indonesia",
   "metadata": {},
   "source": [
    "## R square"
   ]
  },
  {
   "cell_type": "code",
   "execution_count": null,
   "id": "fresh-runner",
   "metadata": {},
   "outputs": [],
   "source": [
    "rsquare = {}\n",
    "n_subsample = 20\n",
    "rs = np.random.RandomState(0)\n",
    "\n",
    "for ct in used_cts:\n",
    "    ct_idx_all = np.where(rna_agg_use.obs[\"common_cell_type\"].to_numpy() == ct)[0]\n",
    "    rsquare_ct_list = []\n",
    "\n",
    "    for _ in tqdm(range(n_subsample), desc=ct):\n",
    "        ct_idx = rs.choice(ct_idx_all, min_size, replace=False)\n",
    "        rsquare_ct = defaultdict(list)\n",
    "\n",
    "        for i in range(rna_X.shape[1]):\n",
    "            y_ = rna_X[ct_idx, i]\n",
    "\n",
    "            X_ = np.expand_dims(mCH_X[ct_idx, i], axis=1)\n",
    "            lm = LinearRegression().fit(X_, y_)\n",
    "            rsquare_ct[\"mCH\"].append(lm.score(X_, y_))\n",
    "\n",
    "            X_ = np.expand_dims(mCG_X[ct_idx, i], axis=1)\n",
    "            lm = LinearRegression().fit(X_, y_)\n",
    "            rsquare_ct[\"mCG\"].append(lm.score(X_, y_))\n",
    "\n",
    "            X_ = np.expand_dims(atac_X[ct_idx, i], axis=1)\n",
    "            lm = LinearRegression().fit(X_, y_)\n",
    "            rsquare_ct[\"ATAC\"].append(lm.score(X_, y_))\n",
    "\n",
    "        rsquare_ct_list.append(rsquare_ct)\n",
    "    \n",
    "    rsquare[ct] = {\n",
    "        k: np.stack([rsquare_ct_list[i][k] for i in range(n_subsample)]).mean(axis=0)\n",
    "        for k in (\"mCH\", \"mCG\", \"ATAC\")\n",
    "    }\n",
    "\n",
    "rsquare = pd.concat({\n",
    "    ct: pd.DataFrame(d, index=common_genes)\n",
    "    for ct, d in rsquare.items()\n",
    "})\n",
    "rsquare.index.names = [\"Cell type\", \"Gene\"]\n",
    "rsquare.reset_index(inplace=True)\n",
    "rsquare[\"Cell type\"] = pd.Categorical(\n",
    "    rsquare[\"Cell type\"],\n",
    "    categories=[\"mL2/3\", \"mL4\", \"mL5-1\", \"mDL-2\", \"mL6-2\"],\n",
    "    ordered=True\n",
    ")\n",
    "rsquare_melt = rsquare.melt(\n",
    "    id_vars=[\"Cell type\", \"Gene\"],\n",
    "    var_name=\"Omics layer\", value_name=\"rsquare\"\n",
    ")"
   ]
  },
  {
   "cell_type": "code",
   "execution_count": null,
   "id": "caring-scanner",
   "metadata": {},
   "outputs": [],
   "source": [
    "coefs = {}\n",
    "pvals = {}\n",
    "for k in (\"mCH\", \"mCG\", \"ATAC\"):\n",
    "    regress_data = rsquare_melt.query(f\"`Omics layer` == '{k}'\")\n",
    "    X = regress_data[\"Cell type\"].cat.codes\n",
    "    X = sm.add_constant(X)\n",
    "    y = regress_data[\"rsquare\"]\n",
    "    model = sm.OLS(y, X)\n",
    "    results = model.fit()\n",
    "    coefs[k] = results.params.loc[0]\n",
    "    pvals[k] = results.pvalues.loc[0]"
   ]
  },
  {
   "cell_type": "code",
   "execution_count": null,
   "id": "elder-repeat",
   "metadata": {},
   "outputs": [],
   "source": [
    "fig, ax = plt.subplots(figsize=(6, 5))\n",
    "ax = sns.boxplot(\n",
    "    x=\"Omics layer\", y=\"rsquare\", hue=\"Cell type\", data=rsquare_melt,\n",
    "    saturation=1.0, width=0.8, showmeans=True,\n",
    "    meanprops=dict(marker=\"^\", markerfacecolor=\"white\", markeredgecolor=\"black\"),\n",
    "    boxprops=dict(edgecolor=\"black\"), medianprops=dict(color=\"black\"),\n",
    "    whiskerprops=dict(color=\"black\"), capprops=dict(color=\"black\"),\n",
    "    flierprops=dict(marker=\".\", markerfacecolor=\"black\", markeredgecolor=\"none\", markersize=3),\n",
    "    palette=MANUAL_COLORS, ax=ax\n",
    ")\n",
    "text_kws = dict(\n",
    "    size=12, ha=\"center\", va=\"center\",\n",
    "    bbox=dict(facecolor=\"white\", alpha=0.8, edgecolor=\"lightgrey\")\n",
    ")\n",
    "ax.text(0.0, 0.95, f\"$\\\\beta$ = {coefs['mCH']:.2e}\\n$P$ = {pvals['mCH']:.2e}\", **text_kws)\n",
    "ax.text(1.0, 0.95, f\"$\\\\beta$ = {coefs['mCG']:.2e}\\n$P$ = {pvals['mCG']:.2e}\", **text_kws)\n",
    "ax.text(2.0, 0.95, f\"$\\\\beta$ = {coefs['ATAC']:.2e}\\n$P$ = {pvals['ATAC']:.2e}\", **text_kws)\n",
    "ax.set_ylabel(\"Gene expression $R^2$\")\n",
    "ax.spines[\"top\"].set_visible(False)\n",
    "ax.spines[\"right\"].set_visible(False)\n",
    "ax.legend(frameon=False, loc=\"center left\", bbox_to_anchor=(1.05, 0.5), title=\"Cell type\")\n",
    "fig.savefig(f\"{PATH}/rsquare_ct.pdf\")"
   ]
  }
 ],
 "metadata": {
  "kernelspec": {
   "display_name": "Python 3",
   "language": "python",
   "name": "python3"
  },
  "language_info": {
   "codemirror_mode": {
    "name": "ipython",
    "version": 3
   },
   "file_extension": ".py",
   "mimetype": "text/x-python",
   "name": "python",
   "nbconvert_exporter": "python",
   "pygments_lexer": "ipython3",
   "version": "3.8.5"
  },
  "toc-autonumbering": true
 },
 "nbformat": 4,
 "nbformat_minor": 5
}
