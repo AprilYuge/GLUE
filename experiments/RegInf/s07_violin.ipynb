{
 "cells": [
  {
   "cell_type": "code",
   "execution_count": null,
   "id": "arabic-signal",
   "metadata": {},
   "outputs": [],
   "source": [
    "import os\n",
    "\n",
    "import anndata\n",
    "import matplotlib.pyplot as plt\n",
    "import scanpy as sc\n",
    "from matplotlib import rcParams\n",
    "\n",
    "import scglue"
   ]
  },
  {
   "cell_type": "code",
   "execution_count": null,
   "id": "intermediate-sociology",
   "metadata": {},
   "outputs": [],
   "source": [
    "scglue.plot.set_publication_params()\n",
    "rcParams[\"figure.figsize\"] = (6, 4)\n",
    "\n",
    "PATH = \"s07_violin\"\n",
    "os.makedirs(PATH, exist_ok=True)"
   ]
  },
  {
   "cell_type": "code",
   "execution_count": null,
   "id": "related-stevens",
   "metadata": {},
   "outputs": [],
   "source": [
    "rna = anndata.read_h5ad(\"s01_preprocessing/rna.h5ad\")\n",
    "sc.pp.normalize_total(rna)\n",
    "sc.pp.log1p(rna)"
   ]
  },
  {
   "cell_type": "code",
   "execution_count": null,
   "id": "funded-incentive",
   "metadata": {},
   "outputs": [],
   "source": [
    "fig, ax = plt.subplots()\n",
    "sc.pl.violin(rna, \"NCF2\", groupby=\"cell_type\", rotation=70, show=False, ax=ax)\n",
    "for item in ax.collections[10:]:\n",
    "    item.set_rasterized(True)\n",
    "ax.spines[\"top\"].set_visible(False)\n",
    "ax.spines[\"right\"].set_visible(False)\n",
    "fig.savefig(f\"{PATH}/NCF2.pdf\")"
   ]
  },
  {
   "cell_type": "code",
   "execution_count": null,
   "id": "limiting-detection",
   "metadata": {},
   "outputs": [],
   "source": [
    "fig, ax = plt.subplots()\n",
    "sc.pl.violin(rna, \"SPI1\", groupby=\"cell_type\", rotation=70, show=False, ax=ax)\n",
    "for item in ax.collections[10:]:\n",
    "    item.set_rasterized(True)\n",
    "ax.spines[\"top\"].set_visible(False)\n",
    "ax.spines[\"right\"].set_visible(False)\n",
    "fig.savefig(f\"{PATH}/SPI1.pdf\")"
   ]
  },
  {
   "cell_type": "code",
   "execution_count": null,
   "id": "acceptable-hardware",
   "metadata": {},
   "outputs": [],
   "source": [
    "fig, ax = plt.subplots()\n",
    "sc.pl.violin(rna, \"CD83\", groupby=\"cell_type\", rotation=70, show=False, ax=ax)\n",
    "for item in ax.collections[10:]:\n",
    "    item.set_rasterized(True)\n",
    "ax.spines[\"top\"].set_visible(False)\n",
    "ax.spines[\"right\"].set_visible(False)\n",
    "fig.savefig(f\"{PATH}/CD83.pdf\")"
   ]
  },
  {
   "cell_type": "code",
   "execution_count": null,
   "id": "activated-classics",
   "metadata": {},
   "outputs": [],
   "source": [
    "fig, ax = plt.subplots()\n",
    "sc.pl.violin(rna, \"BCL11A\", groupby=\"cell_type\", rotation=70, show=False, ax=ax)\n",
    "for item in ax.collections[10:]:\n",
    "    item.set_rasterized(True)\n",
    "ax.spines[\"top\"].set_visible(False)\n",
    "ax.spines[\"right\"].set_visible(False)\n",
    "fig.savefig(f\"{PATH}/BCL11A.pdf\")"
   ]
  },
  {
   "cell_type": "code",
   "execution_count": null,
   "id": "heard-placement",
   "metadata": {},
   "outputs": [],
   "source": [
    "fig, ax = plt.subplots()\n",
    "sc.pl.violin(rna, \"PAX5\", groupby=\"cell_type\", rotation=70, show=False, ax=ax)\n",
    "for item in ax.collections[10:]:\n",
    "    item.set_rasterized(True)\n",
    "ax.spines[\"top\"].set_visible(False)\n",
    "ax.spines[\"right\"].set_visible(False)\n",
    "fig.savefig(f\"{PATH}/PAX5.pdf\")"
   ]
  },
  {
   "cell_type": "code",
   "execution_count": null,
   "id": "subject-lotus",
   "metadata": {},
   "outputs": [],
   "source": [
    "fig, ax = plt.subplots()\n",
    "sc.pl.violin(rna, \"RELB\", groupby=\"cell_type\", rotation=70, show=False, ax=ax)\n",
    "for item in ax.collections[10:]:\n",
    "    item.set_rasterized(True)\n",
    "ax.spines[\"top\"].set_visible(False)\n",
    "ax.spines[\"right\"].set_visible(False)\n",
    "fig.savefig(f\"{PATH}/RELB.pdf\")"
   ]
  }
 ],
 "metadata": {
  "kernelspec": {
   "display_name": "Python 3",
   "language": "python",
   "name": "python3"
  },
  "language_info": {
   "codemirror_mode": {
    "name": "ipython",
    "version": 3
   },
   "file_extension": ".py",
   "mimetype": "text/x-python",
   "name": "python",
   "nbconvert_exporter": "python",
   "pygments_lexer": "ipython3",
   "version": "3.8.5"
  }
 },
 "nbformat": 4,
 "nbformat_minor": 5
}
