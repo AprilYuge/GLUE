{
 "cells": [
  {
   "cell_type": "code",
   "execution_count": null,
   "metadata": {},
   "outputs": [],
   "source": [
    "import functools\n",
    "import operator\n",
    "import os\n",
    "\n",
    "import anndata\n",
    "import faiss\n",
    "import networkx as nx\n",
    "import matplotlib.pyplot as plt\n",
    "import numpy as np\n",
    "import pandas as pd\n",
    "import scanpy as sc\n",
    "import scipy.stats\n",
    "import seaborn as sns\n",
    "import sklearn.cluster\n",
    "import sklearn.linear_model\n",
    "import sklearn.preprocessing\n",
    "import sklearn.metrics\n",
    "import yaml\n",
    "from matplotlib import rcParams\n",
    "from networkx.algorithms.bipartite import biadjacency_matrix\n",
    "\n",
    "import scglue\n",
    "import utils"
   ]
  },
  {
   "cell_type": "code",
   "execution_count": null,
   "metadata": {},
   "outputs": [],
   "source": [
    "scglue.plot.set_publication_params()\n",
    "DIST_BINS = [0, 25, 50, 75, 100, 125, 150]  # in KB\n",
    "\n",
    "PATH = \"s03_peak_gene_validation\"\n",
    "os.makedirs(PATH, exist_ok=True)\n",
    "\n",
    "np.random.seed(0)"
   ]
  },
  {
   "cell_type": "code",
   "execution_count": null,
   "metadata": {},
   "outputs": [],
   "source": [
    "with open(\"../../evaluation/config/display.yaml\", \"r\") as f:\n",
    "    palette = yaml.load(f, Loader=yaml.Loader)[\"palette\"]\n",
    "palette[\"Cicero\"] = \"#8C564B\"\n",
    "palette[\"Spearman\"] = \"#17BECF\""
   ]
  },
  {
   "cell_type": "markdown",
   "metadata": {},
   "source": [
    "# Read data"
   ]
  },
  {
   "cell_type": "code",
   "execution_count": null,
   "metadata": {},
   "outputs": [],
   "source": [
    "rna = anndata.read_h5ad(\"s01_preprocessing/rna.h5ad\")\n",
    "atac = anndata.read_h5ad(\"s01_preprocessing/atac.h5ad\")"
   ]
  },
  {
   "cell_type": "code",
   "execution_count": null,
   "metadata": {},
   "outputs": [],
   "source": [
    "genes = scglue.genomics.Bed(rna.var.assign(name=rna.var_names).query(\"d_highly_variable\"))\n",
    "peaks = scglue.genomics.Bed(atac.var.assign(name=atac.var_names).query(\"d_highly_variable\"))\n",
    "tss = genes.strand_specific_start_site()\n",
    "promoters = tss.expand(2000, 0)"
   ]
  },
  {
   "cell_type": "code",
   "execution_count": null,
   "metadata": {},
   "outputs": [],
   "source": [
    "dist_graph = nx.read_graphml(\"s01_preprocessing/dist.graphml.gz\")\n",
    "pchic_graph = nx.read_graphml(\"s01_preprocessing/pchic.graphml.gz\")\n",
    "eqtl_graph = nx.read_graphml(\"s01_preprocessing/eqtl.graphml.gz\")"
   ]
  },
  {
   "cell_type": "markdown",
   "metadata": {},
   "source": [
    "# Gene-peak linkage"
   ]
  },
  {
   "cell_type": "markdown",
   "metadata": {},
   "source": [
    "## Distance"
   ]
  },
  {
   "cell_type": "code",
   "execution_count": null,
   "metadata": {},
   "outputs": [],
   "source": [
    "dist = pd.DataFrame(\n",
    "    biadjacency_matrix(dist_graph, genes.index, peaks.index, weight=\"dist\", dtype=np.float32).toarray(),\n",
    "    index=genes.index, columns=peaks.index\n",
    ")"
   ]
  },
  {
   "cell_type": "markdown",
   "metadata": {},
   "source": [
    "## pcHi-C"
   ]
  },
  {
   "cell_type": "code",
   "execution_count": null,
   "metadata": {},
   "outputs": [],
   "source": [
    "pchic = pd.DataFrame(\n",
    "    biadjacency_matrix(pchic_graph, genes.index, peaks.index, weight=None, dtype=np.float32).toarray(),\n",
    "    index=genes.index, columns=peaks.index\n",
    ")"
   ]
  },
  {
   "cell_type": "markdown",
   "metadata": {},
   "source": [
    "## eQTL"
   ]
  },
  {
   "cell_type": "code",
   "execution_count": null,
   "metadata": {},
   "outputs": [],
   "source": [
    "eqtl = pd.DataFrame(\n",
    "    biadjacency_matrix(eqtl_graph, genes.index, peaks.index, weight=None, dtype=np.float32).toarray(),\n",
    "    index=genes.index, columns=peaks.index\n",
    ")"
   ]
  },
  {
   "cell_type": "markdown",
   "metadata": {},
   "source": [
    "## Correlation"
   ]
  },
  {
   "cell_type": "code",
   "execution_count": null,
   "metadata": {},
   "outputs": [],
   "source": [
    "rna_ = rna.copy()\n",
    "atac_ = atac.copy()\n",
    "corr = utils.pseudocell_corr(\n",
    "    rna_, atac_, \"X_pca\", n_pseudocells=200,\n",
    "    genes=genes.index, peaks=peaks.index, paired=True\n",
    ").fillna(0).astype(np.float32)\n",
    "del rna_, atac_"
   ]
  },
  {
   "cell_type": "markdown",
   "metadata": {},
   "source": [
    "## GLUE"
   ]
  },
  {
   "cell_type": "code",
   "execution_count": null,
   "metadata": {},
   "outputs": [],
   "source": [
    "glue_list = []\n",
    "for i in range(4):\n",
    "    feature_embedding = pd.read_csv(f\"s02_glue/prior:d/seed:{i}/feature_embeddings.csv\", header=None, index_col=0)\n",
    "    feature_embedding /= np.linalg.norm(feature_embedding, axis=1, keepdims=True)\n",
    "    glue_list.append(pd.DataFrame(\n",
    "        feature_embedding.loc[genes.index].to_numpy() @ feature_embedding.loc[peaks.index].to_numpy().T,\n",
    "        index=genes.index, columns=peaks.index\n",
    "    ).astype(np.float32))\n",
    "glue = functools.reduce(operator.add, glue_list) / len(glue_list)\n",
    "glue.iloc[:5, :5]"
   ]
  },
  {
   "cell_type": "code",
   "execution_count": null,
   "metadata": {},
   "outputs": [],
   "source": [
    "ax = sns.histplot(np.random.choice(glue.to_numpy().ravel(), 10000, replace=True))"
   ]
  },
  {
   "cell_type": "markdown",
   "metadata": {},
   "source": [
    "## Cicero"
   ]
  },
  {
   "cell_type": "code",
   "execution_count": null,
   "metadata": {},
   "outputs": [],
   "source": [
    "cicero = pd.read_csv(\"e01_cicero/cicero_conns.csv.gz\").dropna().query(\"coaccess != 0\")\n",
    "cicero[\"Peak1\"] = cicero[\"Peak1\"].str.split(\"_\").map(lambda x: f\"{x[0]}:{x[1]}-{x[2]}\")\n",
    "cicero[\"Peak2\"] = cicero[\"Peak2\"].str.split(\"_\").map(lambda x: f\"{x[0]}:{x[1]}-{x[2]}\")\n",
    "cicero.head()"
   ]
  },
  {
   "cell_type": "code",
   "execution_count": null,
   "metadata": {},
   "outputs": [],
   "source": [
    "peak_gene_mapping = scglue.genomics.window_graph(peaks, promoters, 0)\n",
    "peak_gene_mapping = nx.DiGraph(peak_gene_mapping)\n",
    "peak_gene_mapping = nx.to_pandas_edgelist(\n",
    "    peak_gene_mapping, source=\"Peak1\", target=\"Gene\"\n",
    ").loc[:, [\"Peak1\", \"Gene\"]]"
   ]
  },
  {
   "cell_type": "code",
   "execution_count": null,
   "metadata": {},
   "outputs": [],
   "source": [
    "cicero = pd.merge(cicero, peak_gene_mapping)\n",
    "cicero = nx.from_pandas_edgelist(\n",
    "    cicero.dropna(), source=\"Gene\", target=\"Peak2\",\n",
    "    edge_attr=\"coaccess\", create_using=nx.DiGraph\n",
    ")\n",
    "cicero = pd.DataFrame(\n",
    "    biadjacency_matrix(cicero, genes.index, peaks.index, weight=\"coaccess\", dtype=np.float32).toarray(),\n",
    "    index=genes.index, columns=peaks.index\n",
    ")"
   ]
  },
  {
   "cell_type": "markdown",
   "metadata": {},
   "source": [
    "# Windowing"
   ]
  },
  {
   "cell_type": "code",
   "execution_count": null,
   "metadata": {},
   "outputs": [],
   "source": [
    "window = biadjacency_matrix(\n",
    "    dist_graph, genes.index, peaks.index, weight=None\n",
    ").astype(np.float32).tocoo()"
   ]
  },
  {
   "cell_type": "code",
   "execution_count": null,
   "metadata": {},
   "outputs": [],
   "source": [
    "dist_mat = window.multiply(dist)\n",
    "pchic_mat = window.multiply(pchic)\n",
    "eqtl_mat = window.multiply(eqtl)\n",
    "cicero_mat = window.multiply(cicero)\n",
    "corr_mat = window.multiply(corr)\n",
    "\n",
    "glue_mat = window.multiply(glue)\n",
    "glue_mat_list = [window.multiply(item) for item in glue_list]\n",
    "\n",
    "for mat in (dist_mat, pchic_mat, eqtl_mat, cicero_mat, corr_mat, glue_mat):\n",
    "    assert np.all(window.row == mat.row)\n",
    "    assert np.all(window.col == mat.col)"
   ]
  },
  {
   "cell_type": "code",
   "execution_count": null,
   "metadata": {},
   "outputs": [],
   "source": [
    "df = pd.DataFrame({\n",
    "    \"dist\": dist_mat.data.astype(int),\n",
    "    \"pchic\": pchic_mat.data.astype(bool),\n",
    "    \"eqtl\": eqtl_mat.data.astype(bool),\n",
    "    \"cicero\": cicero_mat.data,\n",
    "    \"corr\": corr_mat.data,\n",
    "\n",
    "    \"glue\": glue_mat.data,\n",
    "    **{f\"glue{i}\": item.data for i, item in enumerate(glue_mat_list)}\n",
    "})\n",
    "df[\"pchic\"] = pd.Categorical(df[\"pchic\"], categories=[False, True])\n",
    "df[\"eqtl\"] = pd.Categorical(df[\"eqtl\"], categories=[False, True])\n",
    "df[\"dist_bin\"] = utils.make_dist_bins(df[\"dist\"], bins=DIST_BINS)"
   ]
  },
  {
   "cell_type": "markdown",
   "metadata": {},
   "source": [
    "# Comparisons"
   ]
  },
  {
   "cell_type": "markdown",
   "metadata": {},
   "source": [
    "## Different random seeds"
   ]
  },
  {
   "cell_type": "code",
   "execution_count": null,
   "metadata": {},
   "outputs": [],
   "source": [
    "def corrfunc(x, y, ax=None, **kwargs):\n",
    "    r\"\"\"\n",
    "    Adapted from https://stackoverflow.com/questions/50832204/show-correlation-values-in-pairplot-using-seaborn-in-python\n",
    "    \"\"\"\n",
    "    r, _ = scipy.stats.pearsonr(x, y)\n",
    "    ax = ax or plt.gca()\n",
    "    ax.annotate(f'r = {r:.3f}', xy=(0.1, 0.9), xycoords=ax.transAxes)"
   ]
  },
  {
   "cell_type": "code",
   "execution_count": null,
   "metadata": {},
   "outputs": [],
   "source": [
    "g = sns.pairplot(\n",
    "    df.loc[:, [f\"glue{i}\" for i in range(4)]].rename(\n",
    "        columns=lambda x: x.replace(\"glue\", \"Seed = \")\n",
    "    ).sample(frac=0.3),\n",
    "    diag_kind=\"kde\", height=2,\n",
    "    plot_kws=dict(s=1, edgecolor=None, alpha=0.2, rasterized=True)\n",
    ").map_lower(corrfunc).map_upper(corrfunc)\n",
    "g.fig.savefig(f\"{PATH}/glue_pairplot.pdf\")"
   ]
  },
  {
   "cell_type": "markdown",
   "metadata": {},
   "source": [
    "## GLUE vs genomic distance"
   ]
  },
  {
   "cell_type": "code",
   "execution_count": null,
   "metadata": {},
   "outputs": [],
   "source": [
    "ax = sns.boxplot(\n",
    "    x=\"dist_bin\", y=\"glue\", data=df.sample(frac=0.3),\n",
    "    color=\"grey\", width=0.7, showmeans=True,\n",
    "    meanprops=dict(marker=\"^\", markerfacecolor=\"white\", markeredgecolor=\"black\"),\n",
    "    boxprops=dict(edgecolor=\"black\"), medianprops=dict(color=\"black\"),\n",
    "    whiskerprops=dict(color=\"black\"), capprops=dict(color=\"black\"),\n",
    "    flierprops=dict(marker=\".\", markerfacecolor=\"black\", markeredgecolor=\"none\", markersize=3)\n",
    ")\n",
    "ax.set_xlabel(\"Genomic distance\")\n",
    "ax.set_ylabel(\"GLUE regulatory score\")\n",
    "for item in ax.get_xticklabels():\n",
    "    item.set_rotation(67.5)\n",
    "ax.spines[\"top\"].set_visible(False)\n",
    "ax.spines[\"right\"].set_visible(False)\n",
    "ax.get_figure().savefig(f\"{PATH}/dist_binned_glue.pdf\")"
   ]
  },
  {
   "cell_type": "markdown",
   "metadata": {},
   "source": [
    "## GLUE vs correlation"
   ]
  },
  {
   "cell_type": "code",
   "execution_count": null,
   "metadata": {},
   "outputs": [],
   "source": [
    "g = sns.jointplot(\n",
    "    x=\"corr\", y=\"glue\", hue=\"pchic\", data=df.sample(frac=0.3),\n",
    "    kind=\"kde\", height=5,\n",
    "    joint_kws=dict(common_norm=False, levels=6),\n",
    "    marginal_kws=dict(common_norm=False, fill=True)\n",
    ").plot_joint(sns.scatterplot, s=1, edgecolor=None, alpha=0.5, rasterized=True)\n",
    "g.ax_joint.set_xlabel(\"Spearman correlation\")\n",
    "g.ax_joint.set_ylabel(\"GLUE regulatory score\")\n",
    "g.ax_joint.get_legend().set_title(\"pcHi-C\")\n",
    "g.fig.savefig(f\"{PATH}/corr_glue_pchic.pdf\")"
   ]
  },
  {
   "cell_type": "code",
   "execution_count": null,
   "metadata": {},
   "outputs": [],
   "source": [
    "g = sns.jointplot(\n",
    "    x=\"corr\", y=\"glue\", hue=\"eqtl\", data=df.sample(frac=0.3),\n",
    "    kind=\"kde\", height=5,\n",
    "    joint_kws=dict(common_norm=False, levels=6),\n",
    "    marginal_kws=dict(common_norm=False, fill=True)\n",
    ").plot_joint(sns.scatterplot, s=1, edgecolor=None, alpha=0.5, rasterized=True)\n",
    "g.ax_joint.set_xlabel(\"Spearman correlation\")\n",
    "g.ax_joint.set_ylabel(\"GLUE regulatory score\")\n",
    "g.ax_joint.get_legend().set_title(\"eQTL\")\n",
    "g.fig.savefig(f\"{PATH}/corr_glue_eqtl.pdf\")"
   ]
  },
  {
   "cell_type": "code",
   "execution_count": null,
   "metadata": {},
   "outputs": [],
   "source": [
    "scipy.stats.spearmanr(df[\"corr\"], df[\"glue\"])"
   ]
  },
  {
   "cell_type": "markdown",
   "metadata": {},
   "source": [
    "## GLUE vs pcHi-C"
   ]
  },
  {
   "cell_type": "code",
   "execution_count": null,
   "metadata": {},
   "outputs": [],
   "source": [
    "g = utils.boxplot(x=\"dist_bin\", y=\"glue\", hue=\"pchic\", data=df)\n",
    "g.ax_joint.legend(loc=\"center left\", bbox_to_anchor=(1.25, 0.5), frameon=False, title=\"pcHi-C\")\n",
    "g.ax_joint.set_xlabel(\"Genomic distance\")\n",
    "g.ax_joint.set_ylabel(\"GLUE regulatory score\")\n",
    "for item in g.ax_joint.get_xticklabels():\n",
    "    item.set_rotation(67.5)\n",
    "g.fig.savefig(f\"{PATH}/dist_binned_glue_pchic.pdf\")"
   ]
  },
  {
   "cell_type": "markdown",
   "metadata": {},
   "source": [
    "## GLUE vs eQTL"
   ]
  },
  {
   "cell_type": "code",
   "execution_count": null,
   "metadata": {},
   "outputs": [],
   "source": [
    "g = utils.boxplot(x=\"dist_bin\", y=\"glue\", hue=\"eqtl\", data=df)\n",
    "g.ax_joint.legend(loc=\"center left\", bbox_to_anchor=(1.25, 0.5), frameon=False, title=\"eQTL\")\n",
    "g.ax_joint.set_xlabel(\"Genomic distance\")\n",
    "g.ax_joint.set_ylabel(\"GLUE regulatory score\")\n",
    "for item in g.ax_joint.get_xticklabels():\n",
    "    item.set_rotation(67.5)\n",
    "g.fig.savefig(f\"{PATH}/dist_binned_glue_eqtl.pdf\")"
   ]
  },
  {
   "cell_type": "markdown",
   "metadata": {},
   "source": [
    "# ROC"
   ]
  },
  {
   "cell_type": "code",
   "execution_count": null,
   "metadata": {},
   "outputs": [],
   "source": [
    "rcParams[\"figure.figsize\"] = (4, 4)"
   ]
  },
  {
   "cell_type": "code",
   "execution_count": null,
   "metadata": {},
   "outputs": [],
   "source": [
    "cicero_auc = sklearn.metrics.roc_auc_score(df[\"pchic\"].astype(bool), df[\"cicero\"])\n",
    "corr_auc = sklearn.metrics.roc_auc_score(df[\"pchic\"].astype(bool), df[\"corr\"])\n",
    "glue_auc = sklearn.metrics.roc_auc_score(df[\"pchic\"].astype(bool), df[\"glue\"])\n",
    "ax = scglue.plot.roc(df[\"pchic\"].astype(bool), df[\"cicero\"], label=f\"Cicero (AUC = {cicero_auc:.3f})\", color=palette[\"Cicero\"])\n",
    "ax = scglue.plot.roc(df[\"pchic\"].astype(bool), df[\"corr\"], label=f\"Spearman (AUC = {corr_auc:.3f})\", color=palette[\"Spearman\"], ax=ax)\n",
    "ax = scglue.plot.roc(df[\"pchic\"].astype(bool), df[\"glue\"], label=f\"GLUE (AUC = {glue_auc:.3f})\", color=palette[\"GLUE\"], ax=ax)\n",
    "ax.set_title(\"pcHi-C prediction\")\n",
    "ax.axline((0, 0), (1, 1), ls=\"--\", c=\"grey\")\n",
    "ax.spines[\"top\"].set_visible(False)\n",
    "ax.spines[\"right\"].set_visible(False)\n",
    "ax.legend(loc=\"center left\", bbox_to_anchor=(1.05, 0.5), frameon=False)\n",
    "ax.get_figure().savefig(f\"{PATH}/pchic_roc.pdf\")"
   ]
  },
  {
   "cell_type": "code",
   "execution_count": null,
   "metadata": {},
   "outputs": [],
   "source": [
    "cicero_auc = sklearn.metrics.roc_auc_score(df[\"eqtl\"].astype(bool), df[\"cicero\"])\n",
    "corr_auc = sklearn.metrics.roc_auc_score(df[\"eqtl\"].astype(bool), df[\"corr\"])\n",
    "glue_auc = sklearn.metrics.roc_auc_score(df[\"eqtl\"].astype(bool), df[\"glue\"])\n",
    "ax = scglue.plot.roc(df[\"eqtl\"].astype(bool), df[\"cicero\"], label=f\"Cicero (AUC = {cicero_auc:.3f})\", color=palette[\"Cicero\"])\n",
    "ax = scglue.plot.roc(df[\"eqtl\"].astype(bool), df[\"corr\"], label=f\"Spearman (AUC = {corr_auc:.3f})\", color=palette[\"Spearman\"], ax=ax)\n",
    "ax = scglue.plot.roc(df[\"eqtl\"].astype(bool), df[\"glue\"], label=f\"GLUE (AUC = {glue_auc:.3f})\", color=palette[\"GLUE\"], ax=ax)\n",
    "ax.set_title(\"eQTL prediction\")\n",
    "ax.axline((0, 0), (1, 1), ls=\"--\", c=\"grey\")\n",
    "ax.spines[\"top\"].set_visible(False)\n",
    "ax.spines[\"right\"].set_visible(False)\n",
    "ax.legend(loc=\"center left\", bbox_to_anchor=(1.05, 0.5), frameon=False)\n",
    "ax.get_figure().savefig(f\"{PATH}/eqtl_roc.pdf\")"
   ]
  }
 ],
 "metadata": {
  "kernelspec": {
   "display_name": "Python 3",
   "language": "python",
   "name": "python3"
  },
  "language_info": {
   "codemirror_mode": {
    "name": "ipython",
    "version": 3
   },
   "file_extension": ".py",
   "mimetype": "text/x-python",
   "name": "python",
   "nbconvert_exporter": "python",
   "pygments_lexer": "ipython3",
   "version": "3.8.5"
  },
  "toc-autonumbering": true
 },
 "nbformat": 4,
 "nbformat_minor": 4
}
