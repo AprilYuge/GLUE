{
 "cells": [
  {
   "cell_type": "code",
   "execution_count": null,
   "metadata": {},
   "outputs": [],
   "source": [
    "import functools\n",
    "import gc\n",
    "import itertools\n",
    "import operator\n",
    "import os\n",
    "from math import ceil\n",
    "\n",
    "import anndata\n",
    "import matplotlib.pyplot as plt\n",
    "import networkx as nx\n",
    "import numpy as np\n",
    "import pandas as pd\n",
    "import scanpy as sc\n",
    "import scipy.sparse\n",
    "import scipy.stats\n",
    "import seaborn as sns\n",
    "from matplotlib import rcParams\n",
    "from networkx.algorithms.bipartite import biadjacency_matrix\n",
    "from scipy.cluster.hierarchy import linkage\n",
    "from scipy.spatial.distance import pdist, squareform\n",
    "\n",
    "import scglue\n",
    "import utils"
   ]
  },
  {
   "cell_type": "code",
   "execution_count": null,
   "metadata": {},
   "outputs": [],
   "source": [
    "scglue.plot.set_publication_params()\n",
    "rcParams[\"figure.figsize\"] = (4, 4)\n",
    "\n",
    "PATH = \"s04_infer_gene_tf\"\n",
    "os.makedirs(PATH, exist_ok=True)\n",
    "\n",
    "np.random.seed(0)"
   ]
  },
  {
   "cell_type": "markdown",
   "metadata": {},
   "source": [
    "# Read data"
   ]
  },
  {
   "cell_type": "code",
   "execution_count": null,
   "metadata": {},
   "outputs": [],
   "source": [
    "rna = anndata.read_h5ad(\"s01_preprocessing/rna.h5ad\")\n",
    "atac = anndata.read_h5ad(\"s01_preprocessing/atac.h5ad\")"
   ]
  },
  {
   "cell_type": "code",
   "execution_count": null,
   "metadata": {},
   "outputs": [],
   "source": [
    "genes = scglue.genomics.Bed(rna.var.assign(name=rna.var_names).query(\"dcq_highly_variable\"))\n",
    "peaks = scglue.genomics.Bed(atac.var.assign(name=atac.var_names).query(\"dcq_highly_variable\"))\n",
    "tss = genes.strand_specific_start_site()\n",
    "promoters = tss.expand(2000, 0)\n",
    "flanks = tss.expand(500, 500)"
   ]
  },
  {
   "cell_type": "code",
   "execution_count": null,
   "metadata": {},
   "outputs": [],
   "source": [
    "dist_graph = nx.read_graphml(\"s01_preprocessing/dist.graphml.gz\")  # Serves as genomic windows\n",
    "pchic_graph = nx.read_graphml(\"s01_preprocessing/pchic.graphml.gz\")\n",
    "eqtl_graph = nx.read_graphml(\"s01_preprocessing/eqtl.graphml.gz\")"
   ]
  },
  {
   "cell_type": "code",
   "execution_count": null,
   "metadata": {},
   "outputs": [],
   "source": [
    "chip = scglue.genomics.read_bed(\"../../data/chip/ENCODE/TF-human/combined-GRCh38.bed.gz\")\n",
    "tfs = scglue.genomics.Bed(rna.var.loc[np.intersect1d(np.unique(chip[\"name\"]), rna.var_names), :])\n",
    "tfs.index.name = \"tfs\""
   ]
  },
  {
   "cell_type": "markdown",
   "metadata": {},
   "source": [
    "# SCENIC: coexpression network"
   ]
  },
  {
   "cell_type": "code",
   "execution_count": null,
   "metadata": {},
   "outputs": [],
   "source": [
    "rna[:, np.union1d(genes.index, tfs.index)].write_loom(f\"{PATH}/rna.loom\")\n",
    "np.savetxt(f\"{PATH}/tfs.txt\", tfs.index, fmt=\"%s\")"
   ]
  },
  {
   "cell_type": "code",
   "execution_count": null,
   "metadata": {
    "scrolled": true,
    "tags": []
   },
   "outputs": [],
   "source": [
    "!pyscenic grn {PATH}/rna.loom {PATH}/tfs.txt \\\n",
    "    -o {PATH}/scenic_grn.csv --seed 0 --num_workers 20 \\\n",
    "    --cell_id_attribute cells --gene_attribute genes"
   ]
  },
  {
   "cell_type": "code",
   "execution_count": null,
   "metadata": {},
   "outputs": [],
   "source": [
    "scenic_grn = pd.read_csv(f\"{PATH}/scenic_grn.csv\")\n",
    "orphan_tfs = set(tfs.index).difference(genes.index)  # When treated as target genes cannot be included in cis-regulatory rankings\n",
    "scenic_grn = scenic_grn.loc[[item not in orphan_tfs for item in scenic_grn[\"target\"]], :]\n",
    "scenic_grn.to_csv(f\"{PATH}/scenic_grn.csv\", index=False)"
   ]
  },
  {
   "cell_type": "markdown",
   "metadata": {},
   "source": [
    "# Gene-peak connection"
   ]
  },
  {
   "cell_type": "markdown",
   "metadata": {},
   "source": [
    "## Distance"
   ]
  },
  {
   "cell_type": "code",
   "execution_count": null,
   "metadata": {},
   "outputs": [],
   "source": [
    "dist = pd.DataFrame(\n",
    "    biadjacency_matrix(dist_graph, genes.index, peaks.index, weight=\"dist\", dtype=np.float32).toarray(),\n",
    "    index=genes.index, columns=peaks.index\n",
    ")"
   ]
  },
  {
   "cell_type": "markdown",
   "metadata": {},
   "source": [
    "## pcHi-C"
   ]
  },
  {
   "cell_type": "code",
   "execution_count": null,
   "metadata": {},
   "outputs": [],
   "source": [
    "pchic = pd.DataFrame(\n",
    "    biadjacency_matrix(pchic_graph, genes.index, peaks.index, weight=\"weight\", dtype=np.float32).toarray(),\n",
    "    index=genes.index, columns=peaks.index\n",
    ")"
   ]
  },
  {
   "cell_type": "markdown",
   "metadata": {},
   "source": [
    "## eQTL"
   ]
  },
  {
   "cell_type": "code",
   "execution_count": null,
   "metadata": {},
   "outputs": [],
   "source": [
    "eqtl = pd.DataFrame(\n",
    "    biadjacency_matrix(eqtl_graph, genes.index, peaks.index, weight=\"weight\", dtype=np.float32).toarray(),\n",
    "    index=genes.index, columns=peaks.index\n",
    ")"
   ]
  },
  {
   "cell_type": "markdown",
   "metadata": {},
   "source": [
    "## Correlation"
   ]
  },
  {
   "cell_type": "code",
   "execution_count": null,
   "metadata": {},
   "outputs": [],
   "source": [
    "rna_ = rna.copy()\n",
    "atac_ = atac.copy()\n",
    "corr = utils.pseudocell_corr(\n",
    "    rna_, atac_, \"X_pca\", n_pseudocells=200,\n",
    "    genes=genes.index, peaks=peaks.index, paired=True\n",
    ").fillna(0).astype(np.float32)\n",
    "del rna_, atac_"
   ]
  },
  {
   "cell_type": "markdown",
   "metadata": {},
   "source": [
    "## GLUE"
   ]
  },
  {
   "cell_type": "code",
   "execution_count": null,
   "metadata": {},
   "outputs": [],
   "source": [
    "glue = []\n",
    "for i in range(4):\n",
    "    feature_embedding = pd.read_csv(f\"s02_glue/prior:dcq/seed:{i}/feature_embeddings.csv\", header=None, index_col=0)\n",
    "    feature_embedding /= np.linalg.norm(feature_embedding, axis=1, keepdims=True)\n",
    "    glue.append(pd.DataFrame(\n",
    "        feature_embedding.loc[genes.index].to_numpy() @ feature_embedding.loc[peaks.index].to_numpy().T,\n",
    "        index=genes.index, columns=peaks.index\n",
    "    ).astype(np.float32))\n",
    "    del feature_embedding\n",
    "glue = functools.reduce(operator.add, glue) / len(glue)\n",
    "glue.iloc[:5, :5]"
   ]
  },
  {
   "cell_type": "markdown",
   "metadata": {},
   "source": [
    "## Windowing"
   ]
  },
  {
   "cell_type": "code",
   "execution_count": null,
   "metadata": {},
   "outputs": [],
   "source": [
    "window = biadjacency_matrix(\n",
    "    dist_graph, genes.index, peaks.index, weight=None\n",
    ").astype(np.float32).tocoo()\n",
    "\n",
    "dist_mat = window.multiply(dist)\n",
    "pchic_mat = window.multiply(pchic)\n",
    "eqtl_mat = window.multiply(eqtl)\n",
    "corr_mat = window.multiply(corr)\n",
    "glue_mat = window.multiply(glue)\n",
    "\n",
    "for mat in (dist_mat, pchic_mat, eqtl_mat, corr_mat, glue_mat):\n",
    "    assert np.all(window.row == mat.row)\n",
    "    assert np.all(window.col == mat.col)"
   ]
  },
  {
   "cell_type": "code",
   "execution_count": null,
   "metadata": {},
   "outputs": [],
   "source": [
    "gene_peak_conn = pd.DataFrame({\n",
    "    \"gene\": genes.index[window.row],\n",
    "    \"peak\": peaks.index[window.col],\n",
    "    \"dist\": dist_mat.data.astype(int),\n",
    "    \"pchic\": pchic_mat.data.astype(bool),\n",
    "    \"eqtl\": eqtl_mat.data.astype(bool),\n",
    "    \"corr\": corr_mat.data,\n",
    "    \"glue\": glue_mat.data\n",
    "})\n",
    "# gene_peak_conn[\"pchic\"] = pd.Categorical(gene_peak_conn[\"pchic\"], categories=[False, True])\n",
    "# gene_peak_conn[\"eqtl\"] = pd.Categorical(gene_peak_conn[\"eqtl\"], categories=[False, True])\n",
    "gene_peak_conn.to_pickle(f\"{PATH}/gene_peak_conn.pkl.gz\")"
   ]
  },
  {
   "cell_type": "code",
   "execution_count": null,
   "metadata": {},
   "outputs": [],
   "source": [
    "del dist, dist_mat\n",
    "del pchic, pchic_mat\n",
    "del eqtl, eqtl_mat\n",
    "del corr, corr_mat\n",
    "del glue, glue_mat\n",
    "gc.collect()"
   ]
  },
  {
   "cell_type": "markdown",
   "metadata": {},
   "source": [
    "# Filtering gene-peak connection"
   ]
  },
  {
   "cell_type": "markdown",
   "metadata": {},
   "source": [
    "## Distance"
   ]
  },
  {
   "cell_type": "code",
   "execution_count": null,
   "metadata": {},
   "outputs": [],
   "source": [
    "dist_cutoff = np.quantile(gene_peak_conn[\"dist\"], 0.25)\n",
    "dist_cutoff"
   ]
  },
  {
   "cell_type": "code",
   "execution_count": null,
   "metadata": {},
   "outputs": [],
   "source": [
    "gene_peak_conn_dist = gene_peak_conn.query(f\"dist < {dist_cutoff}\")\n",
    "gene_peak_conn_dist.shape[0]"
   ]
  },
  {
   "cell_type": "markdown",
   "metadata": {},
   "source": [
    "## pcHi-C"
   ]
  },
  {
   "cell_type": "code",
   "execution_count": null,
   "metadata": {},
   "outputs": [],
   "source": [
    "gene_peak_conn_pchic = gene_peak_conn.query(\"pchic\")\n",
    "gene_peak_conn_pchic.shape[0]"
   ]
  },
  {
   "cell_type": "markdown",
   "metadata": {},
   "source": [
    "## eQTL"
   ]
  },
  {
   "cell_type": "code",
   "execution_count": null,
   "metadata": {},
   "outputs": [],
   "source": [
    "gene_peak_conn_eqtl = gene_peak_conn.query(\"eqtl\")\n",
    "gene_peak_conn_eqtl.shape[0]"
   ]
  },
  {
   "cell_type": "markdown",
   "metadata": {},
   "source": [
    "## Correlation"
   ]
  },
  {
   "cell_type": "code",
   "execution_count": null,
   "metadata": {},
   "outputs": [],
   "source": [
    "corr_cutoff = np.quantile(gene_peak_conn[\"corr\"], 0.75)\n",
    "corr_cutoff"
   ]
  },
  {
   "cell_type": "code",
   "execution_count": null,
   "metadata": {},
   "outputs": [],
   "source": [
    "g = sns.jointplot(\n",
    "    x=\"corr\", y=\"glue\", hue=\"pchic\", data=gene_peak_conn.sample(frac=0.3),\n",
    "    kind=\"kde\", height=5,\n",
    "    joint_kws=dict(common_norm=False, levels=6),\n",
    "    marginal_kws=dict(common_norm=False, fill=True)\n",
    ").plot_joint(sns.scatterplot, s=1, edgecolor=None, alpha=0.5, rasterized=True)\n",
    "g.ax_marg_x.axvline(x=corr_cutoff, ls=\"--\", c=\"darkred\")\n",
    "g.ax_joint.axvline(x=corr_cutoff, ls=\"--\", c=\"darkred\")\n",
    "g.ax_joint.set_xlabel(\"Spearman correlation\")\n",
    "g.ax_joint.set_ylabel(\"GLUE regulatory score\")\n",
    "g.ax_joint.get_legend().set_title(\"pcHi-C\")\n",
    "g.fig.savefig(f\"{PATH}/corr_glue_pchic_corr_cutoff.pdf\")"
   ]
  },
  {
   "cell_type": "code",
   "execution_count": null,
   "metadata": {},
   "outputs": [],
   "source": [
    "g = sns.jointplot(\n",
    "    x=\"corr\", y=\"glue\", hue=\"eqtl\", data=gene_peak_conn.sample(frac=0.3),\n",
    "    kind=\"kde\", height=5,\n",
    "    joint_kws=dict(common_norm=False, levels=6),\n",
    "    marginal_kws=dict(common_norm=False, fill=True)\n",
    ").plot_joint(sns.scatterplot, s=1, edgecolor=None, alpha=0.5, rasterized=True)\n",
    "g.ax_marg_x.axvline(x=corr_cutoff, ls=\"--\", c=\"darkred\")\n",
    "g.ax_joint.axvline(x=corr_cutoff, ls=\"--\", c=\"darkred\")\n",
    "g.ax_joint.set_xlabel(\"Spearman correlation\")\n",
    "g.ax_joint.set_ylabel(\"GLUE regulatory score\")\n",
    "g.ax_joint.get_legend().set_title(\"eQTL\")\n",
    "g.fig.savefig(f\"{PATH}/corr_glue_eqtl_corr_cutoff.pdf\")"
   ]
  },
  {
   "cell_type": "code",
   "execution_count": null,
   "metadata": {},
   "outputs": [],
   "source": [
    "gene_peak_conn_corr = gene_peak_conn.query(f\"corr > {corr_cutoff}\")\n",
    "gene_peak_conn_corr.shape[0]"
   ]
  },
  {
   "cell_type": "markdown",
   "metadata": {},
   "source": [
    "## GLUE"
   ]
  },
  {
   "cell_type": "code",
   "execution_count": null,
   "metadata": {},
   "outputs": [],
   "source": [
    "glue_cutoff = np.quantile(gene_peak_conn[\"glue\"], 0.75)\n",
    "glue_cutoff"
   ]
  },
  {
   "cell_type": "code",
   "execution_count": null,
   "metadata": {},
   "outputs": [],
   "source": [
    "g = sns.jointplot(\n",
    "    x=\"corr\", y=\"glue\", hue=\"pchic\", data=gene_peak_conn.sample(frac=0.3),\n",
    "    kind=\"kde\", height=5,\n",
    "    joint_kws=dict(common_norm=False, levels=6),\n",
    "    marginal_kws=dict(common_norm=False, fill=True)\n",
    ").plot_joint(sns.scatterplot, s=1, edgecolor=None, alpha=0.5, rasterized=True)\n",
    "g.ax_marg_y.axhline(y=glue_cutoff, ls=\"--\", c=\"darkred\")\n",
    "g.ax_joint.axhline(y=glue_cutoff, ls=\"--\", c=\"darkred\")\n",
    "g.ax_joint.set_xlabel(\"Spearman correlation\")\n",
    "g.ax_joint.set_ylabel(\"GLUE regulatory score\")\n",
    "g.ax_joint.get_legend().set_title(\"pcHi-C\")\n",
    "g.fig.savefig(f\"{PATH}/corr_glue_pchic_glue_cutoff.pdf\")"
   ]
  },
  {
   "cell_type": "code",
   "execution_count": null,
   "metadata": {},
   "outputs": [],
   "source": [
    "g = sns.jointplot(\n",
    "    x=\"corr\", y=\"glue\", hue=\"eqtl\", data=gene_peak_conn.sample(frac=0.3),\n",
    "    kind=\"kde\", height=5,\n",
    "    joint_kws=dict(common_norm=False, levels=6),\n",
    "    marginal_kws=dict(common_norm=False, fill=True)\n",
    ").plot_joint(sns.scatterplot, s=1, edgecolor=None, alpha=0.5, rasterized=True)\n",
    "g.ax_marg_y.axhline(y=glue_cutoff, ls=\"--\", c=\"darkred\")\n",
    "g.ax_joint.axhline(y=glue_cutoff, ls=\"--\", c=\"darkred\")\n",
    "g.ax_joint.set_xlabel(\"Spearman correlation\")\n",
    "g.ax_joint.set_ylabel(\"GLUE regulatory score\")\n",
    "g.ax_joint.get_legend().set_title(\"eQTL\")\n",
    "g.fig.savefig(f\"{PATH}/corr_glue_eqtl_glue_cutoff.pdf\")"
   ]
  },
  {
   "cell_type": "code",
   "execution_count": null,
   "metadata": {},
   "outputs": [],
   "source": [
    "gene_peak_conn_glue = gene_peak_conn.query(f\"glue > {glue_cutoff}\")\n",
    "gene_peak_conn_glue.shape[0]"
   ]
  },
  {
   "cell_type": "code",
   "execution_count": null,
   "metadata": {},
   "outputs": [],
   "source": [
    "glue_links = gene_peak_conn_glue.loc[:, [\"gene\", \"peak\", \"glue\"]].merge(\n",
    "    tss.df.iloc[:, :4], how=\"left\", left_on=\"gene\", right_index=True\n",
    ").merge(\n",
    "    peaks.df.iloc[:, :4], how=\"left\", left_on=\"peak\", right_index=True\n",
    ").loc[:, [\n",
    "    \"chrom_x\", \"chromStart_x\", \"chromEnd_x\",\n",
    "    \"chrom_y\", \"chromStart_y\", \"chromEnd_y\",\n",
    "    \"glue\", \"gene\"\n",
    "]]\n",
    "glue_links.to_csv(f\"{PATH}/glue.annotated_links\", sep=\"\\t\", index=False, header=False)\n",
    "del glue_links"
   ]
  },
  {
   "cell_type": "markdown",
   "metadata": {},
   "source": [
    "# TF binding"
   ]
  },
  {
   "cell_type": "markdown",
   "metadata": {},
   "source": [
    "## Flanks"
   ]
  },
  {
   "cell_type": "code",
   "execution_count": null,
   "metadata": {},
   "outputs": [],
   "source": [
    "flank_tf_binding = scglue.genomics.window_graph(flanks, chip, 0, right_sorted=True)\n",
    "flank_tf_binding = nx.to_pandas_edgelist(flank_tf_binding, source=\"flank\", target=\"tf\")\n",
    "flank_tf_binding.shape"
   ]
  },
  {
   "cell_type": "code",
   "execution_count": null,
   "metadata": {},
   "outputs": [],
   "source": [
    "s = set(tfs.index)\n",
    "flank_tf_binding = flank_tf_binding.loc[[item in s for item in flank_tf_binding[\"tf\"]], :]\n",
    "flank_tf_binding.shape"
   ]
  },
  {
   "cell_type": "code",
   "execution_count": null,
   "metadata": {},
   "outputs": [],
   "source": [
    "flank_tf_binding.to_pickle(f\"{PATH}/flank_tf_binding.pkl.gz\")\n",
    "# flank_tf_binding = pd.read_pickle(f\"{PATH}/flank_tf_binding.pkl.gz\")"
   ]
  },
  {
   "cell_type": "markdown",
   "metadata": {},
   "source": [
    "## Peaks"
   ]
  },
  {
   "cell_type": "code",
   "execution_count": null,
   "metadata": {},
   "outputs": [],
   "source": [
    "peak_tf_binding = scglue.genomics.window_graph(peaks, chip, 0, right_sorted=True)\n",
    "peak_tf_binding = nx.to_pandas_edgelist(peak_tf_binding, source=\"peak\", target=\"tf\")\n",
    "peak_tf_binding.shape"
   ]
  },
  {
   "cell_type": "code",
   "execution_count": null,
   "metadata": {},
   "outputs": [],
   "source": [
    "s = set(tfs.index)\n",
    "peak_tf_binding = peak_tf_binding.loc[[item in s for item in peak_tf_binding[\"tf\"]], :]\n",
    "peak_tf_binding.shape"
   ]
  },
  {
   "cell_type": "code",
   "execution_count": null,
   "metadata": {},
   "outputs": [],
   "source": [
    "peak_tf_binding.to_pickle(f\"{PATH}/peak_tf_binding.pkl.gz\")\n",
    "# peak_tf_binding = pd.read_pickle(f\"{PATH}/peak_tf_binding.pkl.gz\")"
   ]
  },
  {
   "cell_type": "markdown",
   "metadata": {},
   "source": [
    "# Cis-regulatory ranking"
   ]
  },
  {
   "cell_type": "markdown",
   "metadata": {},
   "source": [
    "## Flank"
   ]
  },
  {
   "cell_type": "code",
   "execution_count": null,
   "metadata": {},
   "outputs": [],
   "source": [
    "observed_flank_tf = scipy.sparse.coo_matrix((\n",
    "    np.ones(flank_tf_binding.shape[0], dtype=np.int16), (\n",
    "        flanks.index.get_indexer(flank_tf_binding[\"flank\"]),\n",
    "        tfs.index.get_indexer(flank_tf_binding[\"tf\"]),\n",
    "    )\n",
    "), shape=(flanks.index.size, tfs.index.size)).toarray()"
   ]
  },
  {
   "cell_type": "code",
   "execution_count": null,
   "metadata": {},
   "outputs": [],
   "source": [
    "rank_flank_tf = pd.DataFrame(\n",
    "    scipy.stats.rankdata(-observed_flank_tf, axis=0),\n",
    "    index=flanks.index, columns=tfs.index\n",
    ")\n",
    "rank_flank_tf.iloc[:5, :5]"
   ]
  },
  {
   "cell_type": "markdown",
   "metadata": {},
   "source": [
    "## Distance"
   ]
  },
  {
   "cell_type": "code",
   "execution_count": null,
   "metadata": {},
   "outputs": [],
   "source": [
    "enrichment_gene_tf_dist, rank_gene_tf_dist = utils.cis_regulatory_ranking(\n",
    "    gene_peak_conn_dist, peak_tf_binding,\n",
    "    genes, peaks, tfs, n_samples=1000, random_seed=0\n",
    ")"
   ]
  },
  {
   "cell_type": "code",
   "execution_count": null,
   "metadata": {},
   "outputs": [],
   "source": [
    "enrichment_gene_tf_dist.to_pickle(f\"{PATH}/enrichment_gene_tf_dist.pkl.gz\")\n",
    "rank_gene_tf_dist.to_pickle(f\"{PATH}/rank_gene_tf_dist.pkl.gz\")\n",
    "# enrichment_gene_tf_dist = pd.read_pickle(f\"{PATH}/enrichment_gene_tf_dist.pkl.gz\")\n",
    "# rank_gene_tf_dist = pd.read_pickle(f\"{PATH}/rank_gene_tf_dist.pkl.gz\")"
   ]
  },
  {
   "cell_type": "markdown",
   "metadata": {},
   "source": [
    "## pcHi-C"
   ]
  },
  {
   "cell_type": "code",
   "execution_count": null,
   "metadata": {},
   "outputs": [],
   "source": [
    "enrichment_gene_tf_pchic, rank_gene_tf_pchic = utils.cis_regulatory_ranking(\n",
    "    gene_peak_conn_pchic, peak_tf_binding,\n",
    "    genes, peaks, tfs, n_samples=1000, random_seed=0\n",
    ")"
   ]
  },
  {
   "cell_type": "code",
   "execution_count": null,
   "metadata": {},
   "outputs": [],
   "source": [
    "enrichment_gene_tf_pchic.to_pickle(f\"{PATH}/enrichment_gene_tf_pchic.pkl.gz\")\n",
    "rank_gene_tf_pchic.to_pickle(f\"{PATH}/rank_gene_tf_pchic.pkl.gz\")\n",
    "# enrichment_gene_tf_pchic = pd.read_pickle(f\"{PATH}/enrichment_gene_tf_pchic.pkl.gz\")\n",
    "# rank_gene_tf_pchic = pd.read_pickle(f\"{PATH}/rank_gene_tf_pchic.pkl.gz\")"
   ]
  },
  {
   "cell_type": "markdown",
   "metadata": {},
   "source": [
    "## eQTL"
   ]
  },
  {
   "cell_type": "code",
   "execution_count": null,
   "metadata": {},
   "outputs": [],
   "source": [
    "enrichment_gene_tf_eqtl, rank_gene_tf_eqtl = utils.cis_regulatory_ranking(\n",
    "    gene_peak_conn_eqtl, peak_tf_binding,\n",
    "    genes, peaks, tfs, n_samples=1000, random_seed=0\n",
    ")"
   ]
  },
  {
   "cell_type": "code",
   "execution_count": null,
   "metadata": {},
   "outputs": [],
   "source": [
    "enrichment_gene_tf_eqtl.to_pickle(f\"{PATH}/enrichment_gene_tf_eqtl.pkl.gz\")\n",
    "rank_gene_tf_eqtl.to_pickle(f\"{PATH}/rank_gene_tf_eqtl.pkl.gz\")\n",
    "# enrichment_gene_tf_eqtl = pd.read_pickle(f\"{PATH}/enrichment_gene_tf_eqtl.pkl.gz\")\n",
    "# rank_gene_tf_eqtl = pd.read_pickle(f\"{PATH}/rank_gene_tf_eqtl.pkl.gz\")"
   ]
  },
  {
   "cell_type": "markdown",
   "metadata": {},
   "source": [
    "## Correlation"
   ]
  },
  {
   "cell_type": "code",
   "execution_count": null,
   "metadata": {},
   "outputs": [],
   "source": [
    "enrichment_gene_tf_corr, rank_gene_tf_corr = utils.cis_regulatory_ranking(\n",
    "    gene_peak_conn_corr, peak_tf_binding,\n",
    "    genes, peaks, tfs, n_samples=1000, random_seed=0\n",
    ")"
   ]
  },
  {
   "cell_type": "code",
   "execution_count": null,
   "metadata": {},
   "outputs": [],
   "source": [
    "enrichment_gene_tf_corr.to_pickle(f\"{PATH}/enrichment_gene_tf_corr.pkl.gz\")\n",
    "rank_gene_tf_corr.to_pickle(f\"{PATH}/rank_gene_tf_corr.pkl.gz\")\n",
    "# enrichment_gene_tf_corr = pd.read_pickle(f\"{PATH}/enrichment_gene_tf_corr.pkl.gz\")\n",
    "# rank_gene_tf_corr = pd.read_pickle(f\"{PATH}/rank_gene_tf_corr.pkl.gz\")"
   ]
  },
  {
   "cell_type": "markdown",
   "metadata": {},
   "source": [
    "## GLUE"
   ]
  },
  {
   "cell_type": "code",
   "execution_count": null,
   "metadata": {},
   "outputs": [],
   "source": [
    "enrichment_gene_tf_glue, rank_gene_tf_glue = utils.cis_regulatory_ranking(\n",
    "    gene_peak_conn_glue, peak_tf_binding,\n",
    "    genes, peaks, tfs, n_samples=1000, random_seed=0\n",
    ")"
   ]
  },
  {
   "cell_type": "code",
   "execution_count": null,
   "metadata": {},
   "outputs": [],
   "source": [
    "enrichment_gene_tf_glue.to_pickle(f\"{PATH}/enrichment_gene_tf_glue.pkl.gz\")\n",
    "rank_gene_tf_glue.to_pickle(f\"{PATH}/rank_gene_tf_glue.pkl.gz\")\n",
    "# enrichment_gene_tf_glue = pd.read_pickle(f\"{PATH}/enrichment_gene_tf_glue.pkl.gz\")\n",
    "# rank_gene_tf_glue = pd.read_pickle(f\"{PATH}/rank_gene_tf_glue.pkl.gz\")"
   ]
  },
  {
   "cell_type": "markdown",
   "metadata": {},
   "source": [
    "# SCENIC: cisTarget pruning"
   ]
  },
  {
   "cell_type": "code",
   "execution_count": null,
   "metadata": {},
   "outputs": [],
   "source": [
    "ctx_annotation = pd.concat([\n",
    "    pd.DataFrame({\n",
    "        \"#motif_id\": tfs.index + \"_atac\",\n",
    "        \"gene_name\": tfs.index\n",
    "    }),\n",
    "    pd.DataFrame({\n",
    "        \"#motif_id\": tfs.index + \"_flank\",\n",
    "        \"gene_name\": tfs.index\n",
    "    })\n",
    "]).assign(\n",
    "    motif_similarity_qvalue=0.0,\n",
    "    orthologous_identity=1.0,\n",
    "    description=\"placeholder\"\n",
    ")\n",
    "ctx_annotation.to_csv(f\"{PATH}/ctx_annotation.tsv\", sep=\"\\t\", index=False)"
   ]
  },
  {
   "cell_type": "code",
   "execution_count": null,
   "metadata": {},
   "outputs": [],
   "source": [
    "flank_feather = rank_flank_tf.T\n",
    "flank_feather = flank_feather.loc[np.unique(flank_feather.index), np.unique(flank_feather.columns)].astype(np.int16)\n",
    "flank_feather.index += \"_flank\"\n",
    "flank_feather.index.name = \"features\"\n",
    "flank_feather.columns.name = None\n",
    "flank_feather = flank_feather.reset_index()\n",
    "flank_feather.to_feather(f\"{PATH}/flank_ctx_ranking.feather\")"
   ]
  },
  {
   "cell_type": "code",
   "execution_count": null,
   "metadata": {
    "tags": []
   },
   "outputs": [],
   "source": [
    "!pyscenic ctx {PATH}/scenic_grn.csv \\\n",
    "    {PATH}/flank_ctx_ranking.feather \\\n",
    "    --annotations_fname {PATH}/ctx_annotation.tsv \\\n",
    "    --expression_mtx_fname {PATH}/rna.loom \\\n",
    "    --output {PATH}/scenic_flank_reg.csv \\\n",
    "    --rank_threshold 1500 \\\n",
    "    --min_genes 6 \\\n",
    "    --num_workers 20 \\\n",
    "    --cell_id_attribute cells --gene_attribute genes 2> {PATH}/scenic_flank_reg.err"
   ]
  },
  {
   "cell_type": "code",
   "execution_count": null,
   "metadata": {
    "scrolled": true,
    "tags": []
   },
   "outputs": [],
   "source": [
    "flank_merged = pd.read_csv(f\"{PATH}/scenic_dist_reg.csv\", header=None, skiprows=3, usecols=[0, 8], names=[\"tf\", \"targets\"])\n",
    "flank_merged[\"targets\"] = flank_merged[\"targets\"].map(lambda x: set(i[0] for i in eval(x)))\n",
    "flank_merged = flank_merged.groupby(\"tf\").aggregate({\"targets\": lambda x: functools.reduce(set.union, x)})\n",
    "flank_merged[\"n_targets\"] = flank_merged[\"targets\"].map(len)\n",
    "flank_merged = flank_merged.sort_values(\"n_targets\", ascending=False)\n",
    "flank_merged"
   ]
  },
  {
   "cell_type": "code",
   "execution_count": null,
   "metadata": {},
   "outputs": [],
   "source": [
    "g = nx.DiGraph()\n",
    "for tf, row in flank_merged.iterrows():\n",
    "    for target in row[\"targets\"]:\n",
    "        g.add_edge(tf, target)\n",
    "nx.set_node_attributes(g, \"target\", name=\"type\")\n",
    "for tf in flank_merged.index:\n",
    "    g.nodes[tf][\"type\"] = \"TF\"\n",
    "nx.write_graphml(g, f\"{PATH}/flank_merged.graphml.gz\")"
   ]
  },
  {
   "cell_type": "markdown",
   "metadata": {},
   "source": [
    "## Distance"
   ]
  },
  {
   "cell_type": "code",
   "execution_count": null,
   "metadata": {},
   "outputs": [],
   "source": [
    "dist_feather = rank_gene_tf_dist.T\n",
    "dist_feather = dist_feather.loc[np.unique(dist_feather.index), np.unique(dist_feather.columns)].astype(np.int16)\n",
    "dist_feather.index += \"_atac\"\n",
    "dist_feather.index.name = \"features\"\n",
    "dist_feather.columns.name = None\n",
    "dist_feather = dist_feather.reset_index()\n",
    "dist_feather.to_feather(f\"{PATH}/dist_ctx_ranking.feather\")"
   ]
  },
  {
   "cell_type": "code",
   "execution_count": null,
   "metadata": {
    "tags": []
   },
   "outputs": [],
   "source": [
    "!pyscenic ctx {PATH}/scenic_grn.csv \\\n",
    "    {PATH}/dist_ctx_ranking.feather {PATH}/flank_ctx_ranking.feather \\\n",
    "    --annotations_fname {PATH}/ctx_annotation.tsv \\\n",
    "    --expression_mtx_fname {PATH}/rna.loom \\\n",
    "    --output {PATH}/scenic_dist_reg.csv \\\n",
    "    --rank_threshold 1500 \\\n",
    "    --min_genes 6 \\\n",
    "    --num_workers 20 \\\n",
    "    --cell_id_attribute cells --gene_attribute genes 2> {PATH}/scenic_dist_reg.err"
   ]
  },
  {
   "cell_type": "code",
   "execution_count": null,
   "metadata": {
    "scrolled": true,
    "tags": []
   },
   "outputs": [],
   "source": [
    "dist_merged = pd.read_csv(f\"{PATH}/scenic_dist_reg.csv\", header=None, skiprows=3, usecols=[0, 8], names=[\"tf\", \"targets\"])\n",
    "dist_merged[\"targets\"] = dist_merged[\"targets\"].map(lambda x: set(i[0] for i in eval(x)))\n",
    "dist_merged = dist_merged.groupby(\"tf\").aggregate({\"targets\": lambda x: functools.reduce(set.union, x)})\n",
    "dist_merged[\"n_targets\"] = dist_merged[\"targets\"].map(len)\n",
    "dist_merged = dist_merged.sort_values(\"n_targets\", ascending=False)\n",
    "dist_merged"
   ]
  },
  {
   "cell_type": "code",
   "execution_count": null,
   "metadata": {},
   "outputs": [],
   "source": [
    "g = nx.DiGraph()\n",
    "for tf, row in dist_merged.iterrows():\n",
    "    for target in row[\"targets\"]:\n",
    "        g.add_edge(tf, target)\n",
    "nx.set_node_attributes(g, \"target\", name=\"type\")\n",
    "for tf in dist_merged.index:\n",
    "    g.nodes[tf][\"type\"] = \"TF\"\n",
    "nx.write_graphml(g, f\"{PATH}/dist_merged.graphml.gz\")"
   ]
  },
  {
   "cell_type": "markdown",
   "metadata": {},
   "source": [
    "## pcHi-C"
   ]
  },
  {
   "cell_type": "code",
   "execution_count": null,
   "metadata": {},
   "outputs": [],
   "source": [
    "pchic_feather = rank_gene_tf_pchic.T\n",
    "pchic_feather = pchic_feather.loc[np.unique(pchic_feather.index), np.unique(pchic_feather.columns)].astype(np.int16)\n",
    "pchic_feather.index += \"_atac\"\n",
    "pchic_feather.index.name = \"features\"\n",
    "pchic_feather.columns.name = None\n",
    "pchic_feather = pchic_feather.reset_index()\n",
    "pchic_feather.to_feather(f\"{PATH}/pchic_ctx_ranking.feather\")"
   ]
  },
  {
   "cell_type": "code",
   "execution_count": null,
   "metadata": {
    "tags": []
   },
   "outputs": [],
   "source": [
    "!pyscenic ctx {PATH}/scenic_grn.csv \\\n",
    "    {PATH}/pchic_ctx_ranking.feather {PATH}/flank_ctx_ranking.feather \\\n",
    "    --annotations_fname {PATH}/ctx_annotation.tsv \\\n",
    "    --expression_mtx_fname {PATH}/rna.loom \\\n",
    "    --output {PATH}/scenic_pchic_reg.csv \\\n",
    "    --rank_threshold 1500 \\\n",
    "    --min_genes 6 \\\n",
    "    --num_workers 20 \\\n",
    "    --cell_id_attribute cells --gene_attribute genes 2> {PATH}/scenic_pchic_reg.err"
   ]
  },
  {
   "cell_type": "code",
   "execution_count": null,
   "metadata": {
    "scrolled": true,
    "tags": []
   },
   "outputs": [],
   "source": [
    "pchic_merged = pd.read_csv(f\"{PATH}/scenic_pchic_reg.csv\", header=None, skiprows=3, usecols=[0, 8], names=[\"tf\", \"targets\"])\n",
    "pchic_merged[\"targets\"] = pchic_merged[\"targets\"].map(lambda x: set(i[0] for i in eval(x)))\n",
    "pchic_merged = pchic_merged.groupby(\"tf\").aggregate({\"targets\": lambda x: functools.reduce(set.union, x)})\n",
    "pchic_merged[\"n_targets\"] = pchic_merged[\"targets\"].map(len)\n",
    "pchic_merged = pchic_merged.sort_values(\"n_targets\", ascending=False)\n",
    "pchic_merged"
   ]
  },
  {
   "cell_type": "code",
   "execution_count": null,
   "metadata": {},
   "outputs": [],
   "source": [
    "g = nx.DiGraph()\n",
    "for tf, row in pchic_merged.iterrows():\n",
    "    for target in row[\"targets\"]:\n",
    "        g.add_edge(tf, target)\n",
    "nx.set_node_attributes(g, \"target\", name=\"type\")\n",
    "for tf in pchic_merged.index:\n",
    "    g.nodes[tf][\"type\"] = \"TF\"\n",
    "nx.write_graphml(g, f\"{PATH}/pchic_merged.graphml.gz\")"
   ]
  },
  {
   "cell_type": "markdown",
   "metadata": {},
   "source": [
    "## eQTL"
   ]
  },
  {
   "cell_type": "code",
   "execution_count": null,
   "metadata": {},
   "outputs": [],
   "source": [
    "eqtl_feather = rank_gene_tf_eqtl.T\n",
    "eqtl_feather = eqtl_feather.loc[np.unique(eqtl_feather.index), np.unique(eqtl_feather.columns)].astype(np.int16)\n",
    "eqtl_feather.index += \"_atac\"\n",
    "eqtl_feather.index.name = \"features\"\n",
    "eqtl_feather.columns.name = None\n",
    "eqtl_feather = eqtl_feather.reset_index()\n",
    "eqtl_feather.to_feather(f\"{PATH}/eqtl_ctx_ranking.feather\")"
   ]
  },
  {
   "cell_type": "code",
   "execution_count": null,
   "metadata": {
    "tags": []
   },
   "outputs": [],
   "source": [
    "!pyscenic ctx {PATH}/scenic_grn.csv \\\n",
    "    {PATH}/eqtl_ctx_ranking.feather {PATH}/flank_ctx_ranking.feather \\\n",
    "    --annotations_fname {PATH}/ctx_annotation.tsv \\\n",
    "    --expression_mtx_fname {PATH}/rna.loom \\\n",
    "    --output {PATH}/scenic_eqtl_reg.csv \\\n",
    "    --rank_threshold 1500 \\\n",
    "    --min_genes 6 \\\n",
    "    --num_workers 20 \\\n",
    "    --cell_id_attribute cells --gene_attribute genes 2> {PATH}/scenic_eqtl_reg.err"
   ]
  },
  {
   "cell_type": "code",
   "execution_count": null,
   "metadata": {
    "scrolled": true,
    "tags": []
   },
   "outputs": [],
   "source": [
    "eqtl_merged = pd.read_csv(f\"{PATH}/scenic_eqtl_reg.csv\", header=None, skiprows=3, usecols=[0, 8], names=[\"tf\", \"targets\"])\n",
    "eqtl_merged[\"targets\"] = eqtl_merged[\"targets\"].map(lambda x: set(i[0] for i in eval(x)))\n",
    "eqtl_merged = eqtl_merged.groupby(\"tf\").aggregate({\"targets\": lambda x: functools.reduce(set.union, x)})\n",
    "eqtl_merged[\"n_targets\"] = eqtl_merged[\"targets\"].map(len)\n",
    "eqtl_merged = eqtl_merged.sort_values(\"n_targets\", ascending=False)\n",
    "eqtl_merged"
   ]
  },
  {
   "cell_type": "code",
   "execution_count": null,
   "metadata": {},
   "outputs": [],
   "source": [
    "g = nx.DiGraph()\n",
    "for tf, row in eqtl_merged.iterrows():\n",
    "    for target in row[\"targets\"]:\n",
    "        g.add_edge(tf, target)\n",
    "nx.set_node_attributes(g, \"target\", name=\"type\")\n",
    "for tf in eqtl_merged.index:\n",
    "    g.nodes[tf][\"type\"] = \"TF\"\n",
    "nx.write_graphml(g, f\"{PATH}/eqtl_merged.graphml.gz\")"
   ]
  },
  {
   "cell_type": "markdown",
   "metadata": {},
   "source": [
    "## Correlation"
   ]
  },
  {
   "cell_type": "code",
   "execution_count": null,
   "metadata": {},
   "outputs": [],
   "source": [
    "corr_feather = rank_gene_tf_corr.T\n",
    "corr_feather = corr_feather.loc[np.unique(corr_feather.index), np.unique(corr_feather.columns)].astype(np.int16)\n",
    "corr_feather.index += \"_atac\"\n",
    "corr_feather.index.name = \"features\"\n",
    "corr_feather.columns.name = None\n",
    "corr_feather = corr_feather.reset_index()\n",
    "corr_feather.to_feather(f\"{PATH}/corr_ctx_ranking.feather\")"
   ]
  },
  {
   "cell_type": "code",
   "execution_count": null,
   "metadata": {
    "tags": []
   },
   "outputs": [],
   "source": [
    "!pyscenic ctx {PATH}/scenic_grn.csv \\\n",
    "    {PATH}/corr_ctx_ranking.feather {PATH}/flank_ctx_ranking.feather \\\n",
    "    --annotations_fname {PATH}/ctx_annotation.tsv \\\n",
    "    --expression_mtx_fname {PATH}/rna.loom \\\n",
    "    --output {PATH}/scenic_corr_reg.csv \\\n",
    "    --rank_threshold 1500 \\\n",
    "    --min_genes 6 \\\n",
    "    --num_workers 20 \\\n",
    "    --cell_id_attribute cells --gene_attribute genes 2> {PATH}/scenic_corr_reg.err"
   ]
  },
  {
   "cell_type": "code",
   "execution_count": null,
   "metadata": {
    "scrolled": true,
    "tags": []
   },
   "outputs": [],
   "source": [
    "corr_merged = pd.read_csv(f\"{PATH}/scenic_corr_reg.csv\", header=None, skiprows=3, usecols=[0, 8], names=[\"tf\", \"targets\"])\n",
    "corr_merged[\"targets\"] = corr_merged[\"targets\"].map(lambda x: set(i[0] for i in eval(x)))\n",
    "corr_merged = corr_merged.groupby(\"tf\").aggregate({\"targets\": lambda x: functools.reduce(set.union, x)})\n",
    "corr_merged[\"n_targets\"] = corr_merged[\"targets\"].map(len)\n",
    "corr_merged = corr_merged.sort_values(\"n_targets\", ascending=False)\n",
    "corr_merged"
   ]
  },
  {
   "cell_type": "code",
   "execution_count": null,
   "metadata": {},
   "outputs": [],
   "source": [
    "g = nx.DiGraph()\n",
    "for tf, row in corr_merged.iterrows():\n",
    "    for target in row[\"targets\"]:\n",
    "        g.add_edge(tf, target)\n",
    "nx.set_node_attributes(g, \"target\", name=\"type\")\n",
    "for tf in corr_merged.index:\n",
    "    g.nodes[tf][\"type\"] = \"TF\"\n",
    "nx.write_graphml(g, f\"{PATH}/corr_merged.graphml.gz\")"
   ]
  },
  {
   "cell_type": "markdown",
   "metadata": {},
   "source": [
    "## GLUE"
   ]
  },
  {
   "cell_type": "code",
   "execution_count": null,
   "metadata": {},
   "outputs": [],
   "source": [
    "glue_feather = rank_gene_tf_glue.T\n",
    "glue_feather = glue_feather.loc[np.unique(glue_feather.index), np.unique(glue_feather.columns)].astype(np.int16)\n",
    "glue_feather.index += \"_atac\"\n",
    "glue_feather.index.name = \"features\"\n",
    "glue_feather.columns.name = None\n",
    "glue_feather = glue_feather.reset_index()\n",
    "glue_feather.to_feather(f\"{PATH}/glue_ctx_ranking.feather\")"
   ]
  },
  {
   "cell_type": "code",
   "execution_count": null,
   "metadata": {
    "tags": []
   },
   "outputs": [],
   "source": [
    "!pyscenic ctx {PATH}/scenic_grn.csv \\\n",
    "    {PATH}/glue_ctx_ranking.feather {PATH}/flank_ctx_ranking.feather \\\n",
    "    --annotations_fname {PATH}/ctx_annotation.tsv \\\n",
    "    --expression_mtx_fname {PATH}/rna.loom \\\n",
    "    --output {PATH}/scenic_glue_reg.csv \\\n",
    "    --rank_threshold 1500 \\\n",
    "    --min_genes 6 \\\n",
    "    --num_workers 20 \\\n",
    "    --cell_id_attribute cells --gene_attribute genes 2> {PATH}/scenic_glue_reg.err"
   ]
  },
  {
   "cell_type": "code",
   "execution_count": null,
   "metadata": {
    "scrolled": true,
    "tags": []
   },
   "outputs": [],
   "source": [
    "glue_merged = pd.read_csv(f\"{PATH}/scenic_glue_reg.csv\", header=None, skiprows=3, usecols=[0, 8], names=[\"tf\", \"targets\"])\n",
    "glue_merged[\"targets\"] = glue_merged[\"targets\"].map(lambda x: set(i[0] for i in eval(x)))\n",
    "glue_merged = glue_merged.groupby(\"tf\").aggregate({\"targets\": lambda x: functools.reduce(set.union, x)})\n",
    "glue_merged[\"n_targets\"] = glue_merged[\"targets\"].map(len)\n",
    "glue_merged = glue_merged.sort_values(\"n_targets\", ascending=False)\n",
    "glue_merged"
   ]
  },
  {
   "cell_type": "code",
   "execution_count": null,
   "metadata": {},
   "outputs": [],
   "source": [
    "g = nx.DiGraph()\n",
    "for tf, row in glue_merged.iterrows():\n",
    "    for target in row[\"targets\"]:\n",
    "        g.add_edge(tf, target)\n",
    "nx.set_node_attributes(g, \"target\", name=\"type\")\n",
    "for tf in glue_merged.index:\n",
    "    g.nodes[tf][\"type\"] = \"TF\"\n",
    "nx.write_graphml(g, f\"{PATH}/glue_merged.graphml.gz\")"
   ]
  },
  {
   "cell_type": "code",
   "execution_count": null,
   "metadata": {},
   "outputs": [],
   "source": [
    "nx.to_pandas_edgelist(\n",
    "    g, source=\"TF\", target=\"Target gene\"\n",
    ").to_csv(f\"{PATH}/glue_merged.csv\", index=False)"
   ]
  }
 ],
 "metadata": {
  "kernelspec": {
   "display_name": "Python 3",
   "language": "python",
   "name": "python3"
  },
  "language_info": {
   "codemirror_mode": {
    "name": "ipython",
    "version": 3
   },
   "file_extension": ".py",
   "mimetype": "text/x-python",
   "name": "python",
   "nbconvert_exporter": "python",
   "pygments_lexer": "ipython3",
   "version": "3.8.5"
  },
  "toc-autonumbering": true
 },
 "nbformat": 4,
 "nbformat_minor": 4
}
