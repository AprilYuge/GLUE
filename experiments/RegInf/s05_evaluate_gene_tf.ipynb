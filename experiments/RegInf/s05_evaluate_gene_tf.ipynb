{
 "cells": [
  {
   "cell_type": "code",
   "execution_count": null,
   "metadata": {},
   "outputs": [],
   "source": [
    "import os\n",
    "\n",
    "import anndata\n",
    "import numpy as np\n",
    "import pandas as pd\n",
    "import networkx as nx\n",
    "import matplotlib.pyplot as plt\n",
    "import scipy.stats\n",
    "import seaborn as sns\n",
    "from matplotlib import rcParams\n",
    "from networkx.algorithms.bipartite import biadjacency_matrix\n",
    "\n",
    "import scglue"
   ]
  },
  {
   "cell_type": "code",
   "execution_count": null,
   "metadata": {},
   "outputs": [],
   "source": [
    "scglue.plot.set_publication_params()\n",
    "rcParams[\"figure.figsize\"] = (4, 4)\n",
    "\n",
    "PATH = \"s05_evaluate_gene_tf\"\n",
    "os.makedirs(PATH, exist_ok=True)"
   ]
  },
  {
   "cell_type": "markdown",
   "metadata": {},
   "source": [
    "# Prepare TRRUST v2"
   ]
  },
  {
   "cell_type": "code",
   "execution_count": null,
   "metadata": {},
   "outputs": [],
   "source": [
    "genes = anndata.read_h5ad(\n",
    "    \"s01_preprocessing/rna.h5ad\", backed=\"r\"\n",
    ").var.query(\"dcq_highly_variable\").index.to_numpy()"
   ]
  },
  {
   "cell_type": "code",
   "execution_count": null,
   "metadata": {},
   "outputs": [],
   "source": [
    "trrust = pd.read_table(\n",
    "    \"../../data/database/TRRUST-v2/trrust_rawdata.human.tsv\",\n",
    "    header=None, names=[\"tf\", \"target\", \"direction\", \"pmid\"]\n",
    ").query(\"direction != 'Repression'\")\n",
    "trrust.head()"
   ]
  },
  {
   "cell_type": "code",
   "execution_count": null,
   "metadata": {},
   "outputs": [],
   "source": [
    "tfs = np.loadtxt(\"s04_infer_gene_tf/tfs.txt\", dtype=str)\n",
    "tfs_used = np.intersect1d(tfs, trrust[\"tf\"])"
   ]
  },
  {
   "cell_type": "code",
   "execution_count": null,
   "metadata": {},
   "outputs": [],
   "source": [
    "trrust = nx.from_pandas_edgelist(trrust, source=\"tf\", target=\"target\", create_using=nx.DiGraph)\n",
    "trrust.number_of_edges()"
   ]
  },
  {
   "cell_type": "code",
   "execution_count": null,
   "metadata": {},
   "outputs": [],
   "source": [
    "trrust_mat = biadjacency_matrix(trrust, tfs_used, genes)\n",
    "trrust_flag = trrust_mat.toarray().ravel()"
   ]
  },
  {
   "cell_type": "markdown",
   "metadata": {},
   "source": [
    "# Fisher's test"
   ]
  },
  {
   "cell_type": "code",
   "execution_count": null,
   "metadata": {},
   "outputs": [],
   "source": [
    "pvals = {}"
   ]
  },
  {
   "cell_type": "markdown",
   "metadata": {},
   "source": [
    "## Distance"
   ]
  },
  {
   "cell_type": "code",
   "execution_count": null,
   "metadata": {},
   "outputs": [],
   "source": [
    "dist_merged = nx.read_graphml(\"s04_infer_gene_tf/dist_merged.graphml.gz\")\n",
    "dist_mat = biadjacency_matrix(dist_merged, tfs_used, genes)\n",
    "dist_flag = dist_mat.toarray().ravel()"
   ]
  },
  {
   "cell_type": "code",
   "execution_count": null,
   "metadata": {},
   "outputs": [],
   "source": [
    "dist_crosstab = pd.crosstab(\n",
    "    pd.Series(dist_flag, name=\"dist\"),\n",
    "    pd.Series(trrust_flag, name=\"trrust\")\n",
    ").iloc[::-1, ::-1]\n",
    "dist_crosstab"
   ]
  },
  {
   "cell_type": "code",
   "execution_count": null,
   "metadata": {},
   "outputs": [],
   "source": [
    "pvals[\"dist\"] = scipy.stats.fisher_exact(dist_crosstab)[1]\n",
    "pvals[\"dist\"]"
   ]
  },
  {
   "cell_type": "markdown",
   "metadata": {},
   "source": [
    "## pcHi-C"
   ]
  },
  {
   "cell_type": "code",
   "execution_count": null,
   "metadata": {},
   "outputs": [],
   "source": [
    "pchic_merged = nx.read_graphml(\"s04_infer_gene_tf/pchic_merged.graphml.gz\")\n",
    "pchic_mat = biadjacency_matrix(pchic_merged, tfs_used, genes)\n",
    "pchic_flag = pchic_mat.toarray().ravel()"
   ]
  },
  {
   "cell_type": "code",
   "execution_count": null,
   "metadata": {},
   "outputs": [],
   "source": [
    "pchic_crosstab = pd.crosstab(\n",
    "    pd.Series(pchic_flag, name=\"pchic\"),\n",
    "    pd.Series(trrust_flag, name=\"trrust\")\n",
    ").iloc[::-1, ::-1]\n",
    "pchic_crosstab"
   ]
  },
  {
   "cell_type": "code",
   "execution_count": null,
   "metadata": {},
   "outputs": [],
   "source": [
    "pvals[\"pchic\"] = scipy.stats.fisher_exact(pchic_crosstab)[1]\n",
    "pvals[\"pchic\"]"
   ]
  },
  {
   "cell_type": "markdown",
   "metadata": {},
   "source": [
    "## eQTL"
   ]
  },
  {
   "cell_type": "code",
   "execution_count": null,
   "metadata": {},
   "outputs": [],
   "source": [
    "eqtl_merged = nx.read_graphml(\"s04_infer_gene_tf/eqtl_merged.graphml.gz\")\n",
    "eqtl_mat = biadjacency_matrix(eqtl_merged, tfs_used, genes)\n",
    "eqtl_flag = eqtl_mat.toarray().ravel()"
   ]
  },
  {
   "cell_type": "code",
   "execution_count": null,
   "metadata": {},
   "outputs": [],
   "source": [
    "eqtl_crosstab = pd.crosstab(\n",
    "    pd.Series(eqtl_flag, name=\"eqtl\"),\n",
    "    pd.Series(trrust_flag, name=\"trrust\")\n",
    ").iloc[::-1, ::-1]\n",
    "eqtl_crosstab"
   ]
  },
  {
   "cell_type": "code",
   "execution_count": null,
   "metadata": {},
   "outputs": [],
   "source": [
    "pvals[\"eqtl\"] = scipy.stats.fisher_exact(eqtl_crosstab)[1]\n",
    "pvals[\"eqtl\"]"
   ]
  },
  {
   "cell_type": "markdown",
   "metadata": {},
   "source": [
    "## Correlation"
   ]
  },
  {
   "cell_type": "code",
   "execution_count": null,
   "metadata": {},
   "outputs": [],
   "source": [
    "corr_merged = nx.read_graphml(\"s04_infer_gene_tf/corr_merged.graphml.gz\")\n",
    "corr_mat = biadjacency_matrix(corr_merged, tfs_used, genes)\n",
    "corr_flag = corr_mat.toarray().ravel()"
   ]
  },
  {
   "cell_type": "code",
   "execution_count": null,
   "metadata": {},
   "outputs": [],
   "source": [
    "corr_crosstab = pd.crosstab(\n",
    "    pd.Series(corr_flag, name=\"corr\"),\n",
    "    pd.Series(trrust_flag, name=\"trrust\")\n",
    ").iloc[::-1, ::-1]\n",
    "corr_crosstab"
   ]
  },
  {
   "cell_type": "code",
   "execution_count": null,
   "metadata": {},
   "outputs": [],
   "source": [
    "pvals[\"corr\"] = scipy.stats.fisher_exact(corr_crosstab)[1]\n",
    "pvals[\"corr\"]"
   ]
  },
  {
   "cell_type": "markdown",
   "metadata": {},
   "source": [
    "## GLUE"
   ]
  },
  {
   "cell_type": "code",
   "execution_count": null,
   "metadata": {},
   "outputs": [],
   "source": [
    "glue_merged = nx.read_graphml(\"s04_infer_gene_tf/glue_merged.graphml.gz\")\n",
    "glue_mat = biadjacency_matrix(glue_merged, tfs_used, genes)\n",
    "glue_flag = glue_mat.toarray().ravel()"
   ]
  },
  {
   "cell_type": "code",
   "execution_count": null,
   "metadata": {},
   "outputs": [],
   "source": [
    "glue_crosstab = pd.crosstab(\n",
    "    pd.Series(glue_flag, name=\"glue\"),\n",
    "    pd.Series(trrust_flag, name=\"trrust\")\n",
    ").iloc[::-1, ::-1]\n",
    "glue_crosstab"
   ]
  },
  {
   "cell_type": "code",
   "execution_count": null,
   "metadata": {},
   "outputs": [],
   "source": [
    "tf_idx, gene_idx = np.divmod(\n",
    "    np.where(np.logical_and(glue_flag, trrust_flag))[0], 6000\n",
    ")\n",
    "pd.DataFrame({\n",
    "    \"TF\": tfs_used[tf_idx],\n",
    "    \"gene\": genes[gene_idx]\n",
    "})"
   ]
  },
  {
   "cell_type": "code",
   "execution_count": null,
   "metadata": {},
   "outputs": [],
   "source": [
    "pvals[\"glue\"] = scipy.stats.fisher_exact(glue_crosstab)[1]\n",
    "pvals[\"glue\"]"
   ]
  },
  {
   "cell_type": "markdown",
   "metadata": {},
   "source": [
    "# Plot comparison"
   ]
  },
  {
   "cell_type": "code",
   "execution_count": null,
   "metadata": {},
   "outputs": [],
   "source": [
    "df = pd.DataFrame.from_dict(pvals, orient=\"index\", columns=[\"pval\"])\n",
    "df.index.name = \"conn\"\n",
    "df = df.reset_index()\n",
    "df[\"conn\"] = df[\"conn\"].replace({\n",
    "    \"dist\": \"Distance\", \"pchic\": \"pcHi-C\", \"eqtl\": \"eQTL\", \"corr\": \"Correlation\",\n",
    "    \"glue\": \"GLUE\"\n",
    "})\n",
    "df[\"nlog10_pval\"] = -np.log10(df[\"pval\"])"
   ]
  },
  {
   "cell_type": "code",
   "execution_count": null,
   "metadata": {},
   "outputs": [],
   "source": [
    "ax = sns.barplot(x=\"conn\", y=\"nlog10_pval\", data=df, saturation=1.0)\n",
    "ax.set_xlabel(\"Cis-regulatory region\")\n",
    "ax.set_ylabel(\"-log10 $P$-value\")\n",
    "for item in ax.get_xticklabels():\n",
    "    item.set_rotation(67.5)\n",
    "ax.spines[\"top\"].set_visible(False)\n",
    "ax.spines[\"right\"].set_visible(False)\n",
    "ax.get_figure().savefig(f\"{PATH}/trrust_pval.pdf\")"
   ]
  }
 ],
 "metadata": {
  "kernelspec": {
   "display_name": "Python 3",
   "language": "python",
   "name": "python3"
  },
  "language_info": {
   "codemirror_mode": {
    "name": "ipython",
    "version": 3
   },
   "file_extension": ".py",
   "mimetype": "text/x-python",
   "name": "python",
   "nbconvert_exporter": "python",
   "pygments_lexer": "ipython3",
   "version": "3.8.5"
  }
 },
 "nbformat": 4,
 "nbformat_minor": 4
}
