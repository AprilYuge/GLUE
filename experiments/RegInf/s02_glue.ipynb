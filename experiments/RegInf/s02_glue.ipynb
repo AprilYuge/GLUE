{
 "cells": [
  {
   "cell_type": "code",
   "execution_count": null,
   "metadata": {},
   "outputs": [],
   "source": [
    "import os\n",
    "\n",
    "import anndata\n",
    "import networkx as nx\n",
    "import numpy as np\n",
    "import pandas as pd\n",
    "import scanpy as sc\n",
    "from matplotlib import rcParams\n",
    "\n",
    "import scglue"
   ]
  },
  {
   "cell_type": "code",
   "execution_count": null,
   "metadata": {},
   "outputs": [],
   "source": [
    "scglue.plot.set_publication_params()\n",
    "rcParams[\"figure.figsize\"] = (4, 4)\n",
    "\n",
    "PATH = \"s02_glue\"\n",
    "os.makedirs(PATH, exist_ok=True)"
   ]
  },
  {
   "cell_type": "code",
   "execution_count": null,
   "metadata": {},
   "outputs": [],
   "source": [
    "PRIOR = os.environ.get(\"PRIOR\", \"d\")\n",
    "SEED = int(os.environ.get(\"SEED\", \"0\"))"
   ]
  },
  {
   "cell_type": "markdown",
   "metadata": {},
   "source": [
    "# Read data"
   ]
  },
  {
   "cell_type": "code",
   "execution_count": null,
   "metadata": {},
   "outputs": [],
   "source": [
    "rna = anndata.read_h5ad(\"s01_preprocessing/rna.h5ad\")\n",
    "atac = anndata.read_h5ad(\"s01_preprocessing/atac.h5ad\")"
   ]
  },
  {
   "cell_type": "code",
   "execution_count": null,
   "metadata": {},
   "outputs": [],
   "source": [
    "prior = nx.read_graphml(f\"s01_preprocessing/{PRIOR}_prior.graphml.gz\")"
   ]
  },
  {
   "cell_type": "markdown",
   "metadata": {},
   "source": [
    "# Assign highly variable genes"
   ]
  },
  {
   "cell_type": "code",
   "execution_count": null,
   "metadata": {},
   "outputs": [],
   "source": [
    "rna.var[\"highly_variable\"] = rna.var[f\"{PRIOR}_highly_variable\"]\n",
    "atac.var[\"highly_variable\"] = atac.var[f\"{PRIOR}_highly_variable\"]\n",
    "rna.var[\"highly_variable\"].sum(), atac.var[\"highly_variable\"].sum()"
   ]
  },
  {
   "cell_type": "markdown",
   "metadata": {},
   "source": [
    "# Train model"
   ]
  },
  {
   "cell_type": "code",
   "execution_count": null,
   "metadata": {},
   "outputs": [],
   "source": [
    "scglue.models.configure_dataset(rna, \"NB\", use_highly_variable=True, use_rep=\"X_pca\")\n",
    "scglue.models.configure_dataset(atac, \"NB\", use_highly_variable=True, use_rep=\"X_lsi\")"
   ]
  },
  {
   "cell_type": "code",
   "execution_count": null,
   "metadata": {},
   "outputs": [],
   "source": [
    "glue = scglue.models.SCGLUEModel(\n",
    "    {\"rna\": rna, \"atac\": atac}, sorted(prior.nodes),\n",
    "    random_seed=SEED\n",
    ")"
   ]
  },
  {
   "cell_type": "code",
   "execution_count": null,
   "metadata": {
    "scrolled": true,
    "tags": []
   },
   "outputs": [],
   "source": [
    "glue.compile()\n",
    "glue.fit(\n",
    "    {\"rna\": rna, \"atac\": atac},\n",
    "    prior, edge_weight=\"weight\", edge_sign=\"sign\",\n",
    "    directory=f\"{PATH}/{PRIOR}_glue/seed_{SEED}\"\n",
    ")\n",
    "glue.save(f\"{PATH}/{PRIOR}_glue/seed_{SEED}/final.dill\")"
   ]
  },
  {
   "cell_type": "markdown",
   "metadata": {},
   "source": [
    "# Embeddings"
   ]
  },
  {
   "cell_type": "markdown",
   "metadata": {},
   "source": [
    "## Cell embeddings"
   ]
  },
  {
   "cell_type": "code",
   "execution_count": null,
   "metadata": {},
   "outputs": [],
   "source": [
    "rna.obsm[\"X_glue\"] = glue.encode_data(\"rna\", rna)\n",
    "atac.obsm[\"X_glue\"] = glue.encode_data(\"atac\", atac)"
   ]
  },
  {
   "cell_type": "code",
   "execution_count": null,
   "metadata": {},
   "outputs": [],
   "source": [
    "combined = anndata.AnnData(\n",
    "    obs=pd.concat([rna.obs, atac.obs], join=\"inner\"),\n",
    "    obsm={\"X_glue\": np.concatenate([rna.obsm[\"X_glue\"], atac.obsm[\"X_glue\"]])}\n",
    ")"
   ]
  },
  {
   "cell_type": "code",
   "execution_count": null,
   "metadata": {},
   "outputs": [],
   "source": [
    "sc.pp.neighbors(combined, n_pcs=50, use_rep=\"X_glue\", metric=\"cosine\")\n",
    "sc.tl.umap(combined)"
   ]
  },
  {
   "cell_type": "code",
   "execution_count": null,
   "metadata": {},
   "outputs": [],
   "source": [
    "fig = sc.pl.umap(combined, color=\"cell_type\", title=\"Cell type\", return_fig=True)\n",
    "fig.savefig(f\"{PATH}/prior:{PRIOR}/seed:{SEED}/combined_glue_ct.pdf\")"
   ]
  },
  {
   "cell_type": "code",
   "execution_count": null,
   "metadata": {},
   "outputs": [],
   "source": [
    "fig = sc.pl.umap(combined, color=\"domain\", title=\"Omics layer\", return_fig=True)\n",
    "fig.savefig(f\"{PATH}/prior:{PRIOR}/seed:{SEED}/combined_glue_domain.pdf\")"
   ]
  },
  {
   "cell_type": "code",
   "execution_count": null,
   "metadata": {},
   "outputs": [],
   "source": [
    "rna.write(f\"{PATH}/prior:{PRIOR}/seed:{SEED}/rna_glue.h5ad\", compression=\"gzip\")\n",
    "atac.write(f\"{PATH}/prior:{PRIOR}/seed:{SEED}/atac_glue.h5ad\", compression=\"gzip\")\n",
    "combined.write(f\"{PATH}/prior:{PRIOR}/seed:{SEED}/combined_glue.h5ad\", compression=\"gzip\")"
   ]
  },
  {
   "cell_type": "markdown",
   "metadata": {},
   "source": [
    "## Feature embeddings"
   ]
  },
  {
   "cell_type": "code",
   "execution_count": null,
   "metadata": {},
   "outputs": [],
   "source": [
    "feature_embeddings = pd.DataFrame(\n",
    "    glue.encode_graph(prior, \"weight\", \"sign\"),\n",
    "    index=glue.vertices\n",
    ")\n",
    "feature_embeddings.iloc[:5, :5]"
   ]
  },
  {
   "cell_type": "code",
   "execution_count": null,
   "metadata": {},
   "outputs": [],
   "source": [
    "feature_embeddings.to_csv(f\"{PATH}/prior:{PRIOR}/seed:{SEED}/feature_embeddings.csv\", index=True, header=False)"
   ]
  }
 ],
 "metadata": {
  "kernelspec": {
   "display_name": "Python 3",
   "language": "python",
   "name": "python3"
  },
  "language_info": {
   "codemirror_mode": {
    "name": "ipython",
    "version": 3
   },
   "file_extension": ".py",
   "mimetype": "text/x-python",
   "name": "python",
   "nbconvert_exporter": "python",
   "pygments_lexer": "ipython3",
   "version": "3.8.5"
  },
  "output_auto_scroll": true,
  "toc-autonumbering": true
 },
 "nbformat": 4,
 "nbformat_minor": 4
}
