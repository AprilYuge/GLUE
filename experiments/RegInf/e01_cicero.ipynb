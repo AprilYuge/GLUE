{
 "cells": [
  {
   "cell_type": "code",
   "execution_count": null,
   "metadata": {},
   "outputs": [],
   "source": [
    "suppressPackageStartupMessages({\n",
    "    source(\".Rprofile\")\n",
    "    library(dplyr)\n",
    "    library(cicero)\n",
    "})"
   ]
  },
  {
   "cell_type": "code",
   "execution_count": null,
   "metadata": {},
   "outputs": [],
   "source": [
    "PATH <- \"e01_cicero\"\n",
    "if (!dir.exists(PATH)) {\n",
    "    dir.create(PATH)\n",
    "}"
   ]
  },
  {
   "cell_type": "markdown",
   "metadata": {},
   "source": [
    "# Read data"
   ]
  },
  {
   "cell_type": "code",
   "execution_count": null,
   "metadata": {},
   "outputs": [],
   "source": [
    "atac <- read_h5ad(\"s01_preprocessing/atac.h5ad\")"
   ]
  },
  {
   "cell_type": "code",
   "execution_count": null,
   "metadata": {},
   "outputs": [],
   "source": [
    "cellinfo <- atac$obs\n",
    "head(cellinfo, n = 2)"
   ]
  },
  {
   "cell_type": "code",
   "execution_count": null,
   "metadata": {},
   "outputs": [],
   "source": [
    "peakinfo <- atac$var %>% select(\n",
    "    chr = chrom, bp1 = chromStart, bp2 = chromEnd\n",
    ") %>% mutate(\n",
    "    site_name = paste(chr, bp1, bp2, sep = \"_\")\n",
    ")\n",
    "rownames(peakinfo) <- peakinfo$site_name\n",
    "head(peakinfo, n = 2)"
   ]
  },
  {
   "cell_type": "code",
   "execution_count": null,
   "metadata": {},
   "outputs": [],
   "source": [
    "indata <- t(atac$X)\n",
    "indata@x[indata@x > 0] <- 1\n",
    "rownames(indata) <- rownames(peakinfo)\n",
    "colnames(indata) <- rownames(cellinfo)"
   ]
  },
  {
   "cell_type": "code",
   "execution_count": null,
   "metadata": {},
   "outputs": [],
   "source": [
    "input_cds <- newCellDataSet(\n",
    "    indata,\n",
    "    phenoData = methods::new(\"AnnotatedDataFrame\", data = cellinfo),\n",
    "    featureData = methods::new(\"AnnotatedDataFrame\", data = peakinfo),\n",
    "    expressionFamily = VGAM::binomialff(),\n",
    "    lowerDetectionLimit = 0\n",
    ")"
   ]
  },
  {
   "cell_type": "markdown",
   "metadata": {},
   "source": [
    "# Cicero"
   ]
  },
  {
   "cell_type": "code",
   "execution_count": null,
   "metadata": {},
   "outputs": [],
   "source": [
    "set.seed(2021)\n",
    "input_cds <- detectGenes(input_cds)\n",
    "input_cds <- estimateSizeFactors(input_cds)\n",
    "input_cds <- reduceDimension(\n",
    "    input_cds, max_components = 2, num_dim = 6,\n",
    "    reduction_method = \"tSNE\", norm_method = \"none\"\n",
    ")"
   ]
  },
  {
   "cell_type": "code",
   "execution_count": null,
   "metadata": {},
   "outputs": [],
   "source": [
    "tsne_coords <- t(reducedDimA(input_cds))\n",
    "row.names(tsne_coords) <- row.names(pData(input_cds))\n",
    "cicero_cds <- make_cicero_cds(input_cds, reduced_coordinates = tsne_coords)"
   ]
  },
  {
   "cell_type": "code",
   "execution_count": null,
   "metadata": {},
   "outputs": [],
   "source": [
    "human.hg38.genome <- read.table(\"../../data/genome/GRCh38.p12.genome.fa.fai\", stringsAsFactors = TRUE)[, 1:2]"
   ]
  },
  {
   "cell_type": "code",
   "execution_count": null,
   "metadata": {},
   "outputs": [],
   "source": [
    "conns <- run_cicero(cicero_cds, human.hg38.genome, window=3e5)\n",
    "head(conns)"
   ]
  },
  {
   "cell_type": "code",
   "execution_count": null,
   "metadata": {},
   "outputs": [],
   "source": [
    "write.csv(conns, gzfile(file.path(PATH, \"cicero_conns.csv.gz\")), row.names = FALSE, quote = FALSE)"
   ]
  }
 ],
 "metadata": {
  "kernelspec": {
   "display_name": "R 4.0.2",
   "language": "R",
   "name": "ir_4.0.2"
  },
  "language_info": {
   "codemirror_mode": "r",
   "file_extension": ".r",
   "mimetype": "text/x-r-source",
   "name": "R",
   "pygments_lexer": "r",
   "version": "4.0.2"
  }
 },
 "nbformat": 4,
 "nbformat_minor": 4
}
