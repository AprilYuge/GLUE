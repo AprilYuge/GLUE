{
 "cells": [
  {
   "cell_type": "code",
   "execution_count": null,
   "id": "stretch-professor",
   "metadata": {},
   "outputs": [],
   "source": [
    "import os\n",
    "from configparser import ConfigParser\n",
    "\n",
    "import anndata\n",
    "import pandas as pd\n",
    "\n",
    "import scglue"
   ]
  },
  {
   "cell_type": "code",
   "execution_count": null,
   "id": "executive-afghanistan",
   "metadata": {},
   "outputs": [],
   "source": [
    "PATH = \"s06_genomic_tracks\"\n",
    "os.makedirs(PATH, exist_ok=True)"
   ]
  },
  {
   "cell_type": "markdown",
   "id": "ready-luxembourg",
   "metadata": {},
   "source": [
    "# Read data"
   ]
  },
  {
   "cell_type": "code",
   "execution_count": null,
   "id": "freelance-transsexual",
   "metadata": {},
   "outputs": [],
   "source": [
    "rna = anndata.read_h5ad(\"s01_preprocessing/rna.h5ad\", backed=\"r\")\n",
    "genes = scglue.genomics.Bed(rna.var.assign(name=rna.var_names))\n",
    "tss = genes.strand_specific_start_site()"
   ]
  },
  {
   "cell_type": "code",
   "execution_count": null,
   "id": "photographic-chain",
   "metadata": {},
   "outputs": [],
   "source": [
    "gene_peak_conn = pd.read_pickle(\"s04_infer_gene_tf/gene_peak_conn.pkl.gz\")"
   ]
  },
  {
   "cell_type": "markdown",
   "id": "worthy-amsterdam",
   "metadata": {},
   "source": [
    "# Plot tracks"
   ]
  },
  {
   "cell_type": "code",
   "execution_count": null,
   "id": "mysterious-intensity",
   "metadata": {},
   "outputs": [],
   "source": [
    "def plot_tracks(gene, tfs):\n",
    "    vis_peaks = gene_peak_conn.query(f\"gene == '{gene}'\").loc[:, [\"peak\", \"corr\"]]\n",
    "    vis_peaks[\"peak_info\"] = vis_peaks[\"peak\"].str.split(\":\")\n",
    "    vis_peaks[\"chrom\"] = vis_peaks[\"peak_info\"].map(lambda x: x[0])\n",
    "    vis_peaks[\"peak_info\"] = vis_peaks[\"peak_info\"].map(lambda x: x[1].split(\"-\"))\n",
    "    vis_peaks[\"chromStart\"] = vis_peaks[\"peak_info\"].map(lambda x: x[0])\n",
    "    vis_peaks[\"chromEnd\"] = vis_peaks[\"peak_info\"].map(lambda x: x[1])\n",
    "    vis_peaks = vis_peaks.loc[:, [\"chrom\", \"chromStart\", \"chromEnd\", \"peak\", \"corr\"]]\n",
    "    vis_range = vis_peaks[\"corr\"].abs().max()\n",
    "    vis_peaks.to_csv(f\"{PATH}/vis_peaks.bed\", sep=\"\\t\", header=False, index=False)\n",
    "\n",
    "    !grep -w '{gene}$' s01_preprocessing/pchic.annotated_links | cut -f1-7 > {PATH}/pchic.links\n",
    "    !grep -w '{gene}$' s01_preprocessing/eqtl.annotated_links | cut -f1-7 > {PATH}/eqtl.links\n",
    "    !grep -w '{gene}$' s04_infer_gene_tf/glue.annotated_links | cut -f1-7 > {PATH}/glue.links\n",
    "    \n",
    "    config = ConfigParser()\n",
    "    config.add_section(\"spacer\")\n",
    "    link_kws = {\n",
    "        \"links_type\": \"arcs\", \"line_width\": 1, \"line_style\": \"solid\",\n",
    "        \"compact_arcs_level\": 2, \"use_middle\": True, \"file_type\": \"links\"\n",
    "    }\n",
    "    config[\"GLUE\"] = {\n",
    "        \"file\": \"s06_genomic_tracks/glue.links\",\n",
    "        \"title\": \"GLUE\", \"height\": 2, \"color\": \"YlGnBu\", \"min_value\": 0, **link_kws\n",
    "    }\n",
    "    config[\"pcHi-C\"] = {\n",
    "        \"file\": \"s06_genomic_tracks/pchic.links\",\n",
    "        \"title\": \"pcHi-C\", \"color\": \"darkblue\", \"height\": 1.5, **link_kws\n",
    "    }\n",
    "    config[\"eQTL\"] = {\n",
    "        \"file\": \"s06_genomic_tracks/eqtl.links\",\n",
    "        \"title\": \"eQTL\", \"color\": \"darkgreen\", \"height\": 1.5, **link_kws\n",
    "    }\n",
    "    bed_kws = {\n",
    "        \"display\": \"collapsed\", \"border_color\": \"none\",\n",
    "        \"labels\": False, \"file_type\": \"bed\"\n",
    "    }\n",
    "    config[\"ATAC\"] = {\n",
    "        \"file\": \"s06_genomic_tracks/vis_peaks.bed\",\n",
    "        \"title\": \"ATAC\", \"color\": \"bwr\", \"height\": 1,\n",
    "        \"min_value\": -vis_range, \"max_value\": vis_range, **bed_kws\n",
    "    }\n",
    "    for tf in tfs:\n",
    "        config[f\"{tf} ChIP\"] = {\n",
    "            \"file\": f\"../../data/chip/ENCODE/TF-human/targets-GRCh38/{tf}.bed.gz\",\n",
    "            \"title\": f\"{tf} ChIP\", \"color\": \"darkred\", \"height\": 0.7, **bed_kws\n",
    "        }\n",
    "    config[\"Genes\"] = {\n",
    "        \"file\": \"../../data/genome/gencode.v35.chr_patch_hapl_scaff.annotation.gtf.gz\",\n",
    "        \"title\": \"Genes\", \"prefered_name\": \"gene_name\", \"merge_transcripts\": True,\n",
    "        \"fontsize\": 10, \"height\": 5, \"labels\": True, \"max_labels\": 100,\n",
    "        \"all_labels_inside\": True, \"style\": \"UCSC\", \"file_type\": \"gtf\"\n",
    "    }\n",
    "    config[\"x-axis\"] = {\"fontsize\": 12}\n",
    "    with open(f\"{PATH}/tracks-{gene}.ini\", \"w\") as f:\n",
    "        config.write(f)\n",
    "\n",
    "    chrom, chromStart, chromEnd = tss.loc[gene, [\"chrom\", \"chromStart\", \"chromEnd\"]]\n",
    "    chromStart -= 200000\n",
    "    chromEnd += 200000\n",
    "    !pyGenomeTracks --tracks {PATH}/tracks-{gene}.ini --region {chrom}:{chromStart}-{chromEnd} \\\n",
    "        -t 'Target gene: {gene}' --dpi 600 --width 22 --fontSize 10 \\\n",
    "        --outFileName {PATH}/tracks-{gene}.pdf 2> /dev/null\n",
    "    !rm {PATH}/vis_peaks.bed {PATH}/*.links"
   ]
  },
  {
   "cell_type": "code",
   "execution_count": null,
   "id": "together-plane",
   "metadata": {},
   "outputs": [],
   "source": [
    "GENE_TF_DICT = {\n",
    "    \"FCER2\": [\"PAX5\", \"IRF4\", \"EBF1\", \"BCL11A\", \"MEF2C\"],\n",
    "    \"NCF2\": [\"SPI1\"],\n",
    "    \"IFIT3\": [\"SPI1\", \"HMGA2\"],\n",
    "    \"ITGAX\": [\"SPI1\", \"IRF4\"],\n",
    "    \"CYBB\": [\"SPI1\"],\n",
    "\n",
    "    \"CD83\": [\"BCL11A\", \"PAX5\", \"RELB\"],\n",
    "    \"CCL4\": [\"BATF\", \"TBX21\"],\n",
    "    \"ATXN1\": [\"BATF\", \"TBX21\"],\n",
    "    \"KLRD1\": [\"BATF\", \"TBX21\"],\n",
    "    \"IL2RB\": [\"TBX21\"],\n",
    "    \"GBP2\": [\"IRF1\"],\n",
    "    \"GCH1\": [\"IRF1\"]\n",
    "}"
   ]
  },
  {
   "cell_type": "code",
   "execution_count": null,
   "id": "guided-hydrogen",
   "metadata": {},
   "outputs": [],
   "source": [
    "for gene, tfs in GENE_TF_DICT.items():\n",
    "    print(f\"Dealing with {gene}...\")\n",
    "    plot_tracks(gene, tfs)"
   ]
  }
 ],
 "metadata": {
  "kernelspec": {
   "display_name": "Python 3",
   "language": "python",
   "name": "python3"
  },
  "language_info": {
   "codemirror_mode": {
    "name": "ipython",
    "version": 3
   },
   "file_extension": ".py",
   "mimetype": "text/x-python",
   "name": "python",
   "nbconvert_exporter": "python",
   "pygments_lexer": "ipython3",
   "version": "3.8.5"
  }
 },
 "nbformat": 4,
 "nbformat_minor": 5
}
