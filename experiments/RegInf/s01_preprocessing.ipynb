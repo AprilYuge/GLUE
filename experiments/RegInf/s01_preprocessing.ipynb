{
 "cells": [
  {
   "cell_type": "code",
   "execution_count": null,
   "metadata": {},
   "outputs": [],
   "source": [
    "import functools\n",
    "import itertools\n",
    "import os\n",
    "\n",
    "import anndata\n",
    "import networkx as nx\n",
    "import numpy as np\n",
    "import pandas as pd\n",
    "import scanpy as sc\n",
    "from matplotlib import rcParams\n",
    "from networkx.algorithms.bipartite import biadjacency_matrix\n",
    "\n",
    "import scglue"
   ]
  },
  {
   "cell_type": "code",
   "execution_count": null,
   "metadata": {},
   "outputs": [],
   "source": [
    "scglue.plot.set_publication_params()\n",
    "rcParams[\"figure.figsize\"] = (4, 4)\n",
    "\n",
    "PATH = \"s01_preprocessing\"\n",
    "os.makedirs(PATH, exist_ok=True)"
   ]
  },
  {
   "cell_type": "markdown",
   "metadata": {},
   "source": [
    "# Read data"
   ]
  },
  {
   "cell_type": "code",
   "execution_count": null,
   "metadata": {},
   "outputs": [],
   "source": [
    "rna = anndata.read_h5ad(\"../../data/dataset/10x-Multiome-Pbmc10k-RNA.h5ad\")\n",
    "rna"
   ]
  },
  {
   "cell_type": "code",
   "execution_count": null,
   "metadata": {},
   "outputs": [],
   "source": [
    "atac = anndata.read_h5ad(\"../../data/dataset/10x-Multiome-Pbmc10k-ATAC.h5ad\")\n",
    "atac"
   ]
  },
  {
   "cell_type": "code",
   "execution_count": null,
   "metadata": {},
   "outputs": [],
   "source": [
    "rna.obs[\"cell_type\"].cat.categories"
   ]
  },
  {
   "cell_type": "code",
   "execution_count": null,
   "metadata": {},
   "outputs": [],
   "source": [
    "used_cts = {\n",
    "    \"CD4 Naive\", \"CD4 TCM\", \"CD4 TEM\", \"CD8 Naive\", \"CD8 TEM_1\", \"CD8 TEM_2\",\n",
    "    \"CD14 Mono\", \"CD16 Mono\", \"Memory B\", \"Naive B\"\n",
    "}  # To match cell types covered in PC Hi-C\n",
    "used_chroms = {f\"chr{x}\" for x in range(1, 23)}.union({\"chrX\"})"
   ]
  },
  {
   "cell_type": "code",
   "execution_count": null,
   "metadata": {},
   "outputs": [],
   "source": [
    "rna = rna[\n",
    "    [item in used_cts for item in rna.obs[\"cell_type\"]],\n",
    "    [item in used_chroms for item in rna.var[\"chrom\"]]\n",
    "]\n",
    "sc.pp.filter_genes(rna, min_counts=1)\n",
    "rna.obs_names += \"-RNA\"\n",
    "rna"
   ]
  },
  {
   "cell_type": "code",
   "execution_count": null,
   "metadata": {},
   "outputs": [],
   "source": [
    "atac = atac[\n",
    "    [item in used_cts for item in atac.obs[\"cell_type\"]],\n",
    "    [item in used_chroms for item in atac.var[\"chrom\"]]\n",
    "]\n",
    "sc.pp.filter_genes(atac, min_counts=1)\n",
    "atac.obs_names += \"-ATAC\"\n",
    "atac"
   ]
  },
  {
   "cell_type": "code",
   "execution_count": null,
   "metadata": {},
   "outputs": [],
   "source": [
    "genes = scglue.genomics.Bed(rna.var.assign(name=rna.var_names))\n",
    "peaks = scglue.genomics.Bed(atac.var.assign(name=atac.var_names))\n",
    "tss = genes.strand_specific_start_site()\n",
    "promoters = tss.expand(2000, 0)"
   ]
  },
  {
   "cell_type": "markdown",
   "metadata": {},
   "source": [
    "# RNA"
   ]
  },
  {
   "cell_type": "code",
   "execution_count": null,
   "metadata": {},
   "outputs": [],
   "source": [
    "rna.layers[\"raw_counts\"] = rna.X.copy()\n",
    "sc.pp.highly_variable_genes(rna, n_top_genes=6000, flavor=\"seurat_v3\")\n",
    "sc.pp.normalize_total(rna)\n",
    "sc.pp.log1p(rna)\n",
    "sc.pp.scale(rna, max_value=10)\n",
    "sc.tl.pca(rna, n_comps=100, use_highly_variable=True, svd_solver=\"auto\")\n",
    "sc.pp.neighbors(rna, n_pcs=100, metric=\"cosine\")\n",
    "sc.tl.umap(rna)"
   ]
  },
  {
   "cell_type": "code",
   "execution_count": null,
   "metadata": {},
   "outputs": [],
   "source": [
    "rna.X = rna.layers[\"raw_counts\"]\n",
    "del rna.layers[\"raw_counts\"]"
   ]
  },
  {
   "cell_type": "code",
   "execution_count": null,
   "metadata": {},
   "outputs": [],
   "source": [
    "fig = sc.pl.umap(rna, color=\"cell_type\", title=\"scRNA-seq cell type\", return_fig=True)\n",
    "fig.savefig(f\"{PATH}/rna_ct.pdf\")"
   ]
  },
  {
   "cell_type": "markdown",
   "metadata": {},
   "source": [
    "# ATAC"
   ]
  },
  {
   "cell_type": "code",
   "execution_count": null,
   "metadata": {},
   "outputs": [],
   "source": [
    "scglue.data.lsi(atac, n_components=100, use_highly_variable=False, n_iter=15)\n",
    "sc.pp.neighbors(atac, n_pcs=100, use_rep=\"X_lsi\", metric=\"cosine\")\n",
    "sc.tl.umap(atac)"
   ]
  },
  {
   "cell_type": "code",
   "execution_count": null,
   "metadata": {},
   "outputs": [],
   "source": [
    "fig = sc.pl.umap(atac, color=\"cell_type\", title=\"scATAC-seq cell type\", return_fig=True)\n",
    "fig.savefig(f\"{PATH}/atac_ct.pdf\")"
   ]
  },
  {
   "cell_type": "markdown",
   "metadata": {},
   "source": [
    "# Build graph"
   ]
  },
  {
   "cell_type": "markdown",
   "metadata": {},
   "source": [
    "## Overlap"
   ]
  },
  {
   "cell_type": "code",
   "execution_count": null,
   "metadata": {},
   "outputs": [],
   "source": [
    "overlap_graph = scglue.genomics.window_graph(\n",
    "    genes.expand(2000, 0), peaks, 0,\n",
    "    attr_fn=lambda l, r, d: {\n",
    "        \"weight\": 1.0,\n",
    "        \"type\": \"overlap\"\n",
    "    }\n",
    ")\n",
    "overlap_graph = nx.DiGraph(overlap_graph)\n",
    "overlap_graph.number_of_edges()"
   ]
  },
  {
   "cell_type": "markdown",
   "metadata": {},
   "source": [
    "## Genomic distance"
   ]
  },
  {
   "cell_type": "code",
   "execution_count": null,
   "metadata": {},
   "outputs": [],
   "source": [
    "dist_graph = scglue.genomics.window_graph(\n",
    "    promoters, peaks, 150000,\n",
    "    attr_fn=lambda l, r, d: {\n",
    "        \"dist\": abs(d),\n",
    "        \"weight\": scglue.genomics.dist_power_decay(abs(d)),\n",
    "        \"type\": \"dist\"\n",
    "    }\n",
    ")\n",
    "dist_graph = nx.DiGraph(dist_graph)\n",
    "dist_graph.number_of_edges()"
   ]
  },
  {
   "cell_type": "markdown",
   "metadata": {},
   "source": [
    "## pcHi-C"
   ]
  },
  {
   "cell_type": "code",
   "execution_count": null,
   "metadata": {},
   "outputs": [],
   "source": [
    "frags = pd.read_table(\n",
    "    \"../../data/hic/Javierre-2016/Human_hg38/Digest_Human_HindIII.rmap\",\n",
    "    header=None, names=[\"chrom\", \"chromStart\", \"chromEnd\", \"name\"],\n",
    "    dtype={\"name\": str}\n",
    ")\n",
    "frags[\"chromStart\"] -= 1  # Originally 1-based, convert to 0-based as in BED\n",
    "frags.index = frags[\"name\"]\n",
    "frags.head(n=3)"
   ]
  },
  {
   "cell_type": "code",
   "execution_count": null,
   "metadata": {},
   "outputs": [],
   "source": [
    "baits = pd.read_table(\n",
    "    \"../../data/hic/Javierre-2016/Human_hg38/Digest_Human_HindIII_baits_e75_ID.baitmap\",\n",
    "    header=None, names=[\"chrom\", \"chromStart\", \"chromEnd\", \"name\", \"targets\"],\n",
    "    usecols=[\"name\"], dtype={\"name\": str}\n",
    ")[\"name\"].to_numpy()\n",
    "baits = scglue.genomics.Bed(frags.loc[baits, :])"
   ]
  },
  {
   "cell_type": "code",
   "execution_count": null,
   "metadata": {},
   "outputs": [],
   "source": [
    "used_cts = [\"Mon\", \"nCD4\", \"tCD4\", \"aCD4\", \"naCD4\", \"nCD8\", \"tCD8\", \"nB\", \"tB\"]\n",
    "bait_oe = pd.read_table(\n",
    "    \"../../data/hic/Javierre-2016/PCHiC_peak_matrix_cutoff5.tsv\",\n",
    "    usecols=[\"baitID\", \"oeID\"] + used_cts, dtype={\"baitID\": str, \"oeID\": str}\n",
    ")\n",
    "bait_oe = bait_oe.loc[bait_oe.loc[:, used_cts].to_numpy().max(axis=1) > 5, [\"baitID\", \"oeID\"]]\n",
    "bait_oe.shape"
   ]
  },
  {
   "cell_type": "code",
   "execution_count": null,
   "metadata": {},
   "outputs": [],
   "source": [
    "frags_set, baits_set = set(frags[\"name\"]), set(baits[\"name\"])\n",
    "bait_oe = bait_oe.loc[[\n",
    "    i in baits_set and j in frags_set\n",
    "    for i, j in zip(bait_oe[\"baitID\"], bait_oe[\"oeID\"])\n",
    "], :]  # Some frags might be missing if liftover is used\n",
    "bait_oe.shape"
   ]
  },
  {
   "cell_type": "code",
   "execution_count": null,
   "metadata": {},
   "outputs": [],
   "source": [
    "bait_oe = pd.concat([bait_oe, pd.DataFrame({\"baitID\": baits.index, \"oeID\": baits.index})])  # Add same-frag links\n",
    "bait_oe = nx.from_pandas_edgelist(bait_oe, source=\"baitID\", target=\"oeID\", create_using=nx.DiGraph)\n",
    "oes = scglue.genomics.Bed(frags.loc[np.unique([e[1] for e in bait_oe.edges]), :])"
   ]
  },
  {
   "cell_type": "code",
   "execution_count": null,
   "metadata": {},
   "outputs": [],
   "source": [
    "gene_bait = scglue.genomics.window_graph(promoters, baits, 1000)\n",
    "oe_peak = scglue.genomics.window_graph(oes, peaks, 1000)"
   ]
  },
  {
   "cell_type": "code",
   "execution_count": null,
   "metadata": {},
   "outputs": [],
   "source": [
    "pchic_graph = (\n",
    "    biadjacency_matrix(gene_bait, genes.index, baits.index, weight=None) @\n",
    "    biadjacency_matrix(bait_oe, baits.index, oes.index, weight=None) @\n",
    "    biadjacency_matrix(oe_peak, oes.index, peaks.index, weight=None)\n",
    ").tocoo()\n",
    "pchic_graph.eliminate_zeros()\n",
    "pchic_graph.data = np.minimum(pchic_graph.data, 1.0)\n",
    "pchic_graph = nx.DiGraph([\n",
    "    (genes.index[i], peaks.index[j], {\"weight\": k, \"type\": \"pchic\"})\n",
    "    for i, j, k in zip(pchic_graph.row, pchic_graph.col, pchic_graph.data)\n",
    "])\n",
    "pchic_graph.number_of_edges()"
   ]
  },
  {
   "cell_type": "code",
   "execution_count": null,
   "metadata": {},
   "outputs": [],
   "source": [
    "rna.var[\"in_pchic\"] = biadjacency_matrix(gene_bait, genes.index).sum(axis=1).A1 != 0\n",
    "rna.var[\"in_pchic\"].sum()"
   ]
  },
  {
   "cell_type": "code",
   "execution_count": null,
   "metadata": {},
   "outputs": [],
   "source": [
    "pchic_links = nx.to_pandas_edgelist(\n",
    "    bait_oe, source=\"baitID\", target=\"oeID\"\n",
    ").query(\n",
    "    \"baitID != oeID\"\n",
    ").merge(\n",
    "    frags, how=\"left\", left_on=\"baitID\", right_index=True\n",
    ").merge(\n",
    "    frags, how=\"left\", left_on=\"oeID\", right_index=True\n",
    ").merge(\n",
    "    nx.to_pandas_edgelist(gene_bait, source=\"gene\", target=\"baitID\"), how=\"left\", on=\"baitID\"\n",
    ").dropna(subset=[\"gene\"]).assign(score=1).loc[:, [\n",
    "    \"chrom_x\", \"chromStart_x\", \"chromEnd_x\",\n",
    "    \"chrom_y\", \"chromStart_y\", \"chromEnd_y\",\n",
    "    \"score\", \"gene\"\n",
    "]]\n",
    "pchic_links = pchic_links.query(\"chrom_x == chrom_y\")\n",
    "pchic_links.to_csv(f\"{PATH}/pchic.annotated_links\", sep=\"\\t\", index=False, header=False)"
   ]
  },
  {
   "cell_type": "markdown",
   "metadata": {},
   "source": [
    "## eQTL"
   ]
  },
  {
   "cell_type": "code",
   "execution_count": null,
   "metadata": {},
   "outputs": [],
   "source": [
    "gene_id_mapping = {ens: name for ens, name in zip(rna.var[\"gene_ids\"], rna.var_names)}"
   ]
  },
  {
   "cell_type": "code",
   "execution_count": null,
   "metadata": {},
   "outputs": [],
   "source": [
    "eqtl = scglue.genomics.read_bed(\"../../data/eqtl/GTEx-v8/bed/Whole_Blood.v8.signif_variant_gene_pairs.bed.gz\")\n",
    "eqtl[\"name\"] = eqtl[\"name\"].map(scglue.genomics.ens_trim_version).map(gene_id_mapping)\n",
    "eqtl = scglue.genomics.Bed(eqtl.df.dropna(subset=[\"name\"]))"
   ]
  },
  {
   "cell_type": "code",
   "execution_count": null,
   "metadata": {},
   "outputs": [],
   "source": [
    "eqtl_graph = scglue.genomics.window_graph(\n",
    "    eqtl, peaks, 0, left_sorted=True,\n",
    "    attr_fn=lambda l, r, d: {\n",
    "        \"weight\": 1.0,\n",
    "        \"type\": \"eqtl\"\n",
    "    }\n",
    ")\n",
    "eqtl_graph = nx.DiGraph(eqtl_graph)\n",
    "eqtl_graph.number_of_edges()"
   ]
  },
  {
   "cell_type": "code",
   "execution_count": null,
   "metadata": {},
   "outputs": [],
   "source": [
    "eqtl_genes = pd.read_table(\n",
    "    \"../../data/eqtl/GTEx-v8/GTEx_Analysis_v8_eQTL/Whole_Blood.v8.egenes.txt.gz\", usecols=[\"gene_id\"]\n",
    ")[\"gene_id\"].map(scglue.genomics.ens_trim_version).map(gene_id_mapping).dropna()\n",
    "eqtl_genes = set(eqtl_genes)\n",
    "rna.var[\"in_eqtl\"] = [item in eqtl_genes for item in rna.var_names]\n",
    "rna.var[\"in_eqtl\"].sum()"
   ]
  },
  {
   "cell_type": "code",
   "execution_count": null,
   "metadata": {},
   "outputs": [],
   "source": [
    "eqtl_links = eqtl.df.iloc[:, :4].merge(tss.df.iloc[:, :4], how=\"left\", on=\"name\").assign(score=1)\n",
    "eqtl_links = eqtl_links.query(\"chrom_x == chrom_y\")\n",
    "eqtl_links[\"name\"] = eqtl_links.pop(\"name\")\n",
    "eqtl_links.to_csv(f\"{PATH}/eqtl.annotated_links\", sep=\"\\t\", index=False, header=False)"
   ]
  },
  {
   "cell_type": "markdown",
   "metadata": {},
   "source": [
    "# Update highly variable genes"
   ]
  },
  {
   "cell_type": "code",
   "execution_count": null,
   "metadata": {},
   "outputs": [],
   "source": [
    "rna.var[\"o_highly_variable\"] = rna.var[\"highly_variable\"]\n",
    "rna.var[\"o_highly_variable\"].sum()"
   ]
  },
  {
   "cell_type": "code",
   "execution_count": null,
   "metadata": {},
   "outputs": [],
   "source": [
    "rna.var[\"in_cicero\"] = biadjacency_matrix(\n",
    "    scglue.genomics.window_graph(promoters, peaks, 0),\n",
    "    genes.index\n",
    ").sum(axis=1).A1 > 0\n",
    "rna.var[\"in_cicero\"].sum()"
   ]
  },
  {
   "cell_type": "code",
   "execution_count": null,
   "metadata": {},
   "outputs": [],
   "source": [
    "rna.var[\"d_highly_variable\"] = functools.reduce(np.logical_and, [\n",
    "    rna.var[\"highly_variable\"],\n",
    "    rna.var[\"in_pchic\"],\n",
    "    rna.var[\"in_eqtl\"],\n",
    "    rna.var[\"in_cicero\"]\n",
    "])\n",
    "rna.var[\"d_highly_variable\"].sum()"
   ]
  },
  {
   "cell_type": "code",
   "execution_count": null,
   "metadata": {},
   "outputs": [],
   "source": [
    "rna.var[\"dcq_highly_variable\"] = rna.var[\"highly_variable\"]\n",
    "rna.var[\"dcq_highly_variable\"].sum()"
   ]
  },
  {
   "cell_type": "markdown",
   "metadata": {},
   "source": [
    "# Combine graphs into priors"
   ]
  },
  {
   "cell_type": "markdown",
   "metadata": {},
   "source": [
    "## Overlap"
   ]
  },
  {
   "cell_type": "code",
   "execution_count": null,
   "metadata": {},
   "outputs": [],
   "source": [
    "o_prior = overlap_graph.copy()"
   ]
  },
  {
   "cell_type": "code",
   "execution_count": null,
   "metadata": {},
   "outputs": [],
   "source": [
    "hvg_reachable = scglue.graph.reachable_vertices(o_prior, rna.var.query(\"o_highly_variable\").index)"
   ]
  },
  {
   "cell_type": "code",
   "execution_count": null,
   "metadata": {},
   "outputs": [],
   "source": [
    "atac.var[\"o_highly_variable\"] = [item in hvg_reachable for item in atac.var_names]\n",
    "atac.var[\"o_highly_variable\"].sum()"
   ]
  },
  {
   "cell_type": "code",
   "execution_count": null,
   "metadata": {},
   "outputs": [],
   "source": [
    "o_prior = scglue.graph.compose_multigraph(o_prior, o_prior.reverse())\n",
    "for item in itertools.chain(atac.var_names, rna.var_names):\n",
    "    o_prior.add_edge(item, item, weight=1.0, type=\"self-loop\")\n",
    "nx.set_edge_attributes(o_prior, 1, \"sign\")"
   ]
  },
  {
   "cell_type": "code",
   "execution_count": null,
   "metadata": {},
   "outputs": [],
   "source": [
    "o_prior = o_prior.subgraph(hvg_reachable)"
   ]
  },
  {
   "cell_type": "markdown",
   "metadata": {},
   "source": [
    "## Genomic distance"
   ]
  },
  {
   "cell_type": "code",
   "execution_count": null,
   "metadata": {},
   "outputs": [],
   "source": [
    "d_prior = dist_graph.copy()"
   ]
  },
  {
   "cell_type": "code",
   "execution_count": null,
   "metadata": {},
   "outputs": [],
   "source": [
    "hvg_reachable = scglue.graph.reachable_vertices(d_prior, rna.var.query(\"d_highly_variable\").index)"
   ]
  },
  {
   "cell_type": "code",
   "execution_count": null,
   "metadata": {},
   "outputs": [],
   "source": [
    "atac.var[\"d_highly_variable\"] = [item in hvg_reachable for item in atac.var_names]\n",
    "atac.var[\"d_highly_variable\"].sum()"
   ]
  },
  {
   "cell_type": "code",
   "execution_count": null,
   "metadata": {},
   "outputs": [],
   "source": [
    "d_prior = scglue.graph.compose_multigraph(d_prior, d_prior.reverse())\n",
    "for item in itertools.chain(atac.var_names, rna.var_names):\n",
    "    d_prior.add_edge(item, item, weight=1.0, type=\"self-loop\")\n",
    "nx.set_edge_attributes(d_prior, 1, \"sign\")"
   ]
  },
  {
   "cell_type": "code",
   "execution_count": null,
   "metadata": {},
   "outputs": [],
   "source": [
    "d_prior = d_prior.subgraph(hvg_reachable)"
   ]
  },
  {
   "cell_type": "markdown",
   "metadata": {},
   "source": [
    "## Genomic distance + pcHi-C + eQTL"
   ]
  },
  {
   "cell_type": "code",
   "execution_count": null,
   "metadata": {},
   "outputs": [],
   "source": [
    "dcq_prior = scglue.graph.compose_multigraph(dist_graph, pchic_graph, eqtl_graph)"
   ]
  },
  {
   "cell_type": "code",
   "execution_count": null,
   "metadata": {},
   "outputs": [],
   "source": [
    "hvg_reachable = scglue.graph.reachable_vertices(dcq_prior, rna.var.query(\"dcq_highly_variable\").index)"
   ]
  },
  {
   "cell_type": "code",
   "execution_count": null,
   "metadata": {},
   "outputs": [],
   "source": [
    "atac.var[\"dcq_highly_variable\"] = [item in hvg_reachable for item in atac.var_names]\n",
    "atac.var[\"dcq_highly_variable\"].sum()"
   ]
  },
  {
   "cell_type": "code",
   "execution_count": null,
   "metadata": {},
   "outputs": [],
   "source": [
    "dcq_prior = scglue.graph.compose_multigraph(dcq_prior, dcq_prior.reverse())\n",
    "for item in itertools.chain(atac.var_names, rna.var_names):\n",
    "    dcq_prior.add_edge(item, item, weight=1.0, type=\"self-loop\")\n",
    "nx.set_edge_attributes(dcq_prior, 1, \"sign\")"
   ]
  },
  {
   "cell_type": "code",
   "execution_count": null,
   "metadata": {},
   "outputs": [],
   "source": [
    "dcq_prior = dcq_prior.subgraph(hvg_reachable)"
   ]
  },
  {
   "cell_type": "markdown",
   "metadata": {},
   "source": [
    "# Write data"
   ]
  },
  {
   "cell_type": "code",
   "execution_count": null,
   "metadata": {},
   "outputs": [],
   "source": [
    "rna.write(f\"{PATH}/rna.h5ad\", compression=\"gzip\")\n",
    "atac.write(f\"{PATH}/atac.h5ad\", compression=\"gzip\")"
   ]
  },
  {
   "cell_type": "code",
   "execution_count": null,
   "metadata": {},
   "outputs": [],
   "source": [
    "nx.write_graphml(overlap_graph, f\"{PATH}/overlap.graphml.gz\")\n",
    "nx.write_graphml(dist_graph, f\"{PATH}/dist.graphml.gz\")\n",
    "nx.write_graphml(pchic_graph, f\"{PATH}/pchic.graphml.gz\")\n",
    "nx.write_graphml(eqtl_graph, f\"{PATH}/eqtl.graphml.gz\")"
   ]
  },
  {
   "cell_type": "code",
   "execution_count": null,
   "metadata": {},
   "outputs": [],
   "source": [
    "nx.write_graphml(o_prior, f\"{PATH}/o_prior.graphml.gz\")\n",
    "nx.write_graphml(d_prior, f\"{PATH}/d_prior.graphml.gz\")\n",
    "nx.write_graphml(dcq_prior, f\"{PATH}/dcq_prior.graphml.gz\")"
   ]
  }
 ],
 "metadata": {
  "kernelspec": {
   "display_name": "Python 3",
   "language": "python",
   "name": "python3"
  },
  "language_info": {
   "codemirror_mode": {
    "name": "ipython",
    "version": 3
   },
   "file_extension": ".py",
   "mimetype": "text/x-python",
   "name": "python",
   "nbconvert_exporter": "python",
   "pygments_lexer": "ipython3",
   "version": "3.8.5"
  },
  "output_auto_scroll": true,
  "toc-autonumbering": true
 },
 "nbformat": 4,
 "nbformat_minor": 4
}
