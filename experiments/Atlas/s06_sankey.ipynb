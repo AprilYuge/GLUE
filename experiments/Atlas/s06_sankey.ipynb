{
 "cells": [
  {
   "cell_type": "code",
   "execution_count": null,
   "id": "vertical-tobacco",
   "metadata": {},
   "outputs": [],
   "source": [
    "import os\n",
    "from collections import defaultdict\n",
    "from math import ceil\n",
    "\n",
    "import anndata\n",
    "import faiss\n",
    "import numpy as np\n",
    "import pandas as pd\n",
    "import plotly.io as pio\n",
    "import scanpy as sc\n",
    "from matplotlib import rcParams\n",
    "\n",
    "import scglue"
   ]
  },
  {
   "cell_type": "code",
   "execution_count": null,
   "id": "opponent-measure",
   "metadata": {},
   "outputs": [],
   "source": [
    "scglue.plot.set_publication_params()\n",
    "rcParams[\"figure.figsize\"] = (8, 8)\n",
    "\n",
    "PATH = \"s06_sankey\"\n",
    "os.makedirs(PATH, exist_ok=True)"
   ]
  },
  {
   "cell_type": "markdown",
   "id": "experienced-collaboration",
   "metadata": {},
   "source": [
    "# Read data"
   ]
  },
  {
   "cell_type": "code",
   "execution_count": null,
   "id": "crude-crossing",
   "metadata": {},
   "outputs": [],
   "source": [
    "rna = anndata.read_h5ad(\"s04_glue_final/full/rna.h5ad\", backed=\"r\")\n",
    "atac = anndata.read_h5ad(\"s04_glue_final/full/atac.h5ad\", backed=\"r\")"
   ]
  },
  {
   "cell_type": "code",
   "execution_count": null,
   "id": "killing-gates",
   "metadata": {},
   "outputs": [],
   "source": [
    "atac.obs[\"NNLS\"] = atac.obs[\"cell_type\"]"
   ]
  },
  {
   "cell_type": "markdown",
   "id": "cardiac-phase",
   "metadata": {},
   "source": [
    "# Transfer labels"
   ]
  },
  {
   "cell_type": "code",
   "execution_count": null,
   "id": "speaking-complexity",
   "metadata": {},
   "outputs": [],
   "source": [
    "rna_latent = rna.obsm[\"X_glue\"]\n",
    "atac_latent = atac.obsm[\"X_glue\"]\n",
    "rna_latent = rna_latent / np.linalg.norm(rna_latent, axis=1, keepdims=True)\n",
    "atac_latent = atac_latent / np.linalg.norm(atac_latent, axis=1, keepdims=True)"
   ]
  },
  {
   "cell_type": "code",
   "execution_count": null,
   "id": "cardiovascular-broadcast",
   "metadata": {},
   "outputs": [],
   "source": [
    "np.random.seed(0)\n",
    "\n",
    "quantizer = faiss.IndexFlatIP(rna_latent.shape[1])\n",
    "n_voronoi = round(np.sqrt(rna_latent.shape[0]))\n",
    "index = faiss.IndexIVFFlat(quantizer, rna_latent.shape[1], n_voronoi, faiss.METRIC_INNER_PRODUCT)\n",
    "index.train(rna_latent[np.random.choice(rna_latent.shape[0], 50 * n_voronoi, replace=False)])\n",
    "index.add(rna_latent)\n",
    "\n",
    "# index = faiss.IndexFlatIP(rna_latent.shape[1])\n",
    "# index.add(rna_latent)"
   ]
  },
  {
   "cell_type": "code",
   "execution_count": null,
   "id": "animated-manhattan",
   "metadata": {},
   "outputs": [],
   "source": [
    "nnd, nni = index.search(atac_latent, 50)"
   ]
  },
  {
   "cell_type": "code",
   "execution_count": null,
   "id": "passing-february",
   "metadata": {},
   "outputs": [],
   "source": [
    "hits = rna.obs[\"cell_type\"].to_numpy()[nni]"
   ]
  },
  {
   "cell_type": "code",
   "execution_count": null,
   "id": "dried-offering",
   "metadata": {},
   "outputs": [],
   "source": [
    "pred = pd.crosstab(\n",
    "    np.repeat(atac.obs_names, nni.shape[1]), hits.ravel()\n",
    ").idxmax(axis=1).loc[atac.obs_names]\n",
    "pred = pd.Categorical(pred, categories=rna.obs[\"cell_type\"].cat.categories)\n",
    "atac.obs[\"GLUE\"] = pred"
   ]
  },
  {
   "cell_type": "code",
   "execution_count": null,
   "id": "encouraging-shark",
   "metadata": {},
   "outputs": [],
   "source": [
    "atac.write(f\"{PATH}/atac_transferred.h5ad\", compression=\"gzip\")\n",
    "# atac = anndata.read_h5ad(f\"{PATH}/atac_transferred.h5ad\")"
   ]
  },
  {
   "cell_type": "markdown",
   "id": "athletic-annex",
   "metadata": {},
   "source": [
    "# Sankey"
   ]
  },
  {
   "cell_type": "code",
   "execution_count": null,
   "id": "brief-yahoo",
   "metadata": {},
   "outputs": [],
   "source": [
    "COLOR_MAP = {\n",
    "    k: v for k, v in\n",
    "    zip(atac.obs[\"cell_type\"].cat.categories, atac.uns[\"cell_type_colors\"])\n",
    "}\n",
    "link_cutoff = ceil(atac.shape[0] * 0.001)\n",
    "link_color_map = defaultdict(lambda: \"#CCCCCC\")\n",
    "link_color_map.update({\n",
    "    (\"Astrocytes\", \"Excitatory neurons\"): COLOR_MAP[\"Excitatory neurons\"],\n",
    "    (\"Astrocytes/Oligodendrocytes\", \"Astrocytes\"): COLOR_MAP[\"Astrocytes\"],\n",
    "    (\"Astrocytes/Oligodendrocytes\", \"Oligodendrocytes\"): COLOR_MAP[\"Oligodendrocytes\"]\n",
    "})\n",
    "fig = scglue.plot.sankey(\n",
    "    atac.obs[\"NNLS\"],\n",
    "    atac.obs[\"GLUE\"],\n",
    "    title=\"NNLS vs GLUE transferred labels\",\n",
    "    left_color=lambda x: COLOR_MAP[x],\n",
    "    right_color=lambda x: COLOR_MAP[x],\n",
    "    link_color=lambda x: \"rgba(0.9,0.9,0.9,0.2)\" if x[\"value\"] <= link_cutoff \\\n",
    "        else link_color_map[(x[\"left\"], x[\"right\"])],\n",
    "    width=700, height=1400, font_size=14\n",
    ")\n",
    "pio.write_image(fig, f\"{PATH}/sankey.png\", scale=10)"
   ]
  },
  {
   "cell_type": "markdown",
   "id": "mexican-frontier",
   "metadata": {},
   "source": [
    "# Accuracy"
   ]
  },
  {
   "cell_type": "markdown",
   "id": "mediterranean-chest",
   "metadata": {},
   "source": [
    "## Exact match"
   ]
  },
  {
   "cell_type": "code",
   "execution_count": null,
   "id": "valid-deviation",
   "metadata": {},
   "outputs": [],
   "source": [
    "match_set = {(item, item) for item in atac.obs[\"NNLS\"].cat.categories}"
   ]
  },
  {
   "cell_type": "code",
   "execution_count": null,
   "id": "gothic-enclosure",
   "metadata": {},
   "outputs": [],
   "source": [
    "match = np.array([(i, j) in match_set for i, j in zip(atac.obs[\"NNLS\"], atac.obs[\"GLUE\"])])\n",
    "np.sum(match) / atac.shape[0]"
   ]
  },
  {
   "cell_type": "markdown",
   "id": "running-continent",
   "metadata": {},
   "source": [
    "## Relaxed match"
   ]
  },
  {
   "cell_type": "code",
   "execution_count": null,
   "id": "macro-profession",
   "metadata": {
    "scrolled": true,
    "tags": []
   },
   "outputs": [],
   "source": [
    "for item in atac.obs[\"NNLS\"].cat.categories:\n",
    "    if \"?\" in item:\n",
    "        match_set.add((item, item.replace(\"?\", \"\")))\n",
    "    if \"/\" in item:\n",
    "        for split in item.split(\"/\"):\n",
    "            match_set.add((item, split))\n",
    "match_set = match_set.union({\n",
    "    (\"Syncytiotrophoblast and villous cytotrophoblasts?\", \"Syncytiotrophoblasts and villous cytotrophoblasts\"),\n",
    "#     (\"Thymocytes\", \"Lympoid cells\"),\n",
    "#     (\"Myeloid cells\", \"Microglia\"),\n",
    "#     (\"Astrocytes\", \"Excitatory neurons\")\n",
    "})"
   ]
  },
  {
   "cell_type": "code",
   "execution_count": null,
   "id": "linear-likelihood",
   "metadata": {},
   "outputs": [],
   "source": [
    "match = np.array([(i, j) in match_set for i, j in zip(atac.obs[\"NNLS\"], atac.obs[\"GLUE\"])])\n",
    "mask = ~atac.obs[\"NNLS\"].str.contains(\"unknown\", case=False)\n",
    "np.sum(np.logical_and(match, mask)) / mask.sum()"
   ]
  },
  {
   "cell_type": "code",
   "execution_count": null,
   "id": "characteristic-toyota",
   "metadata": {},
   "outputs": [],
   "source": [
    "NNLS_size = atac.obs[\"NNLS\"].value_counts().to_dict()\n",
    "GLUE_size = atac.obs[\"GLUE\"].value_counts().to_dict()"
   ]
  },
  {
   "cell_type": "code",
   "execution_count": null,
   "id": "independent-suggestion",
   "metadata": {},
   "outputs": [],
   "source": [
    "unmatch = atac.obs.loc[\n",
    "    np.logical_and(~match, mask), [\"NNLS\", \"GLUE\"]\n",
    "].value_counts()\n",
    "unmatch.name = \"count\"\n",
    "unmatch = unmatch.reset_index()\n",
    "unmatch[\"NNLS_size\"] = unmatch[\"NNLS\"].map(NNLS_size)\n",
    "unmatch[\"GLUE_size\"] = unmatch[\"GLUE\"].map(GLUE_size)\n",
    "unmatch[\"frac_all\"] = unmatch[\"count\"] / atac.shape[0]\n",
    "unmatch[\"frac_NNLS\"] = unmatch[\"count\"] / unmatch[\"NNLS_size\"]\n",
    "unmatch[\"frac_GLUE\"] = unmatch[\"count\"] / unmatch[\"GLUE_size\"]\n",
    "unmatch.head(n=10)"
   ]
  },
  {
   "cell_type": "code",
   "execution_count": null,
   "id": "exposed-heading",
   "metadata": {},
   "outputs": [],
   "source": [
    "unmatch.to_csv(f\"{PATH}/unmatch.csv\", index=False)"
   ]
  }
 ],
 "metadata": {
  "kernelspec": {
   "display_name": "Python 3",
   "language": "python",
   "name": "python3"
  },
  "language_info": {
   "codemirror_mode": {
    "name": "ipython",
    "version": 3
   },
   "file_extension": ".py",
   "mimetype": "text/x-python",
   "name": "python",
   "nbconvert_exporter": "python",
   "pygments_lexer": "ipython3",
   "version": "3.8.5"
  }
 },
 "nbformat": 4,
 "nbformat_minor": 5
}
