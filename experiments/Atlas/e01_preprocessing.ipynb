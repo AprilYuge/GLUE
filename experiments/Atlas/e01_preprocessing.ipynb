{
 "cells": [
  {
   "cell_type": "code",
   "execution_count": null,
   "id": "early-liability",
   "metadata": {},
   "outputs": [],
   "source": [
    "import os\n",
    "\n",
    "import anndata\n",
    "import networkx as nx\n",
    "from networkx.algorithms.bipartite import biadjacency_matrix\n",
    "\n",
    "import scglue"
   ]
  },
  {
   "cell_type": "code",
   "execution_count": null,
   "id": "diverse-uzbekistan",
   "metadata": {},
   "outputs": [],
   "source": [
    "PATH = \"e01_preprocessing\"\n",
    "os.makedirs(PATH, exist_ok=True)"
   ]
  },
  {
   "cell_type": "markdown",
   "id": "surprised-medicaid",
   "metadata": {},
   "source": [
    "# Read data"
   ]
  },
  {
   "cell_type": "code",
   "execution_count": null,
   "id": "detailed-reality",
   "metadata": {},
   "outputs": [],
   "source": [
    "rna = anndata.read_h5ad(\"../../data/dataset/Cao-2020.h5ad\")\n",
    "atac = anndata.read_h5ad(\"../../data/dataset/Domcke-2020.h5ad\")"
   ]
  },
  {
   "cell_type": "code",
   "execution_count": null,
   "id": "faced-premiere",
   "metadata": {},
   "outputs": [],
   "source": [
    "rna_pp = anndata.read_h5ad(\"s01_preprocessing/rna.h5ad\", backed=\"r\")\n",
    "atac_pp = anndata.read_h5ad(\"s01_preprocessing/atac.h5ad\", backed=\"r\")"
   ]
  },
  {
   "cell_type": "code",
   "execution_count": null,
   "id": "conditional-scanner",
   "metadata": {},
   "outputs": [],
   "source": [
    "graph = nx.read_graphml(\"s01_preprocessing/full.graphml.gz\")"
   ]
  },
  {
   "cell_type": "markdown",
   "id": "complicated-clearance",
   "metadata": {},
   "source": [
    "# Update meta"
   ]
  },
  {
   "cell_type": "code",
   "execution_count": null,
   "id": "existing-ambassador",
   "metadata": {},
   "outputs": [],
   "source": [
    "rna.var[\"highly_variable\"] = [item in rna_pp.var_names for item in rna.var_names]\n",
    "atac.var[\"highly_variable\"] = [item in atac_pp.var_names for item in atac.var_names]"
   ]
  },
  {
   "cell_type": "code",
   "execution_count": null,
   "id": "effective-housing",
   "metadata": {},
   "outputs": [],
   "source": [
    "rna.obs[\"pseudocell\"] = rna_pp.obs[\"pseudocell\"]\n",
    "atac.obs[\"pseudocell\"] = atac_pp.obs[\"pseudocell\"]\n",
    "rna.obs[\"organ_balancing\"] = rna_pp.obs[\"organ_balancing\"]\n",
    "atac.obs[\"organ_balancing\"] = atac_pp.obs[\"organ_balancing\"]\n",
    "rna.obs[\"n_cells\"] = 1\n",
    "atac.obs[\"n_cells\"] = 1"
   ]
  },
  {
   "cell_type": "code",
   "execution_count": null,
   "id": "familiar-joint",
   "metadata": {},
   "outputs": [],
   "source": [
    "rna.obsm[\"X_pca\"] = rna_pp.obsm[\"X_pca\"]\n",
    "rna.obsm[\"X_umap\"] = rna_pp.obsm[\"X_umap\"]\n",
    "atac.obsm[\"X_lsi\"] = atac_pp.obsm[\"X_lsi\"]\n",
    "atac.obsm[\"X_umap\"] = atac_pp.obsm[\"X_umap\"]"
   ]
  },
  {
   "cell_type": "markdown",
   "id": "medieval-lewis",
   "metadata": {},
   "source": [
    "# Aggregation"
   ]
  },
  {
   "cell_type": "code",
   "execution_count": null,
   "id": "ambient-arkansas",
   "metadata": {},
   "outputs": [],
   "source": [
    "rna_agg = scglue.data.aggregate_obs(\n",
    "    rna, by=\"pseudocell\", X_agg=\"sum\",\n",
    "    obs_agg={\n",
    "        \"cell_type\": \"majority\", \"Organ\": \"majority\", \"domain\": \"majority\",\n",
    "        \"n_cells\": \"sum\", \"organ_balancing\": \"sum\"\n",
    "    },\n",
    "    obsm_agg={\"X_pca\": \"mean\", \"X_umap\": \"mean\"}\n",
    ")\n",
    "rna_agg"
   ]
  },
  {
   "cell_type": "code",
   "execution_count": null,
   "id": "recorded-leather",
   "metadata": {},
   "outputs": [],
   "source": [
    "atac_agg = scglue.data.aggregate_obs(\n",
    "    atac, by=\"pseudocell\", X_agg=\"sum\",\n",
    "    obs_agg={\n",
    "        \"cell_type\": \"majority\", \"tissue\": \"majority\", \"domain\": \"majority\",\n",
    "        \"n_cells\": \"sum\", \"organ_balancing\": \"sum\"\n",
    "    },\n",
    "    obsm_agg={\"X_lsi\": \"mean\", \"X_umap\": \"mean\"}\n",
    ")\n",
    "atac_agg"
   ]
  },
  {
   "cell_type": "markdown",
   "id": "seven-roller",
   "metadata": {},
   "source": [
    "# Convert data"
   ]
  },
  {
   "cell_type": "code",
   "execution_count": null,
   "id": "failing-jesus",
   "metadata": {},
   "outputs": [],
   "source": [
    "atac2rna_agg = anndata.AnnData(\n",
    "    X=atac_agg.X @ biadjacency_matrix(graph, atac_agg.var_names, rna_agg.var_names),\n",
    "    obs=atac_agg.obs, var=rna_agg.var\n",
    ")"
   ]
  },
  {
   "cell_type": "markdown",
   "id": "continent-spanking",
   "metadata": {},
   "source": [
    "# Save data"
   ]
  },
  {
   "cell_type": "code",
   "execution_count": null,
   "id": "handmade-crystal",
   "metadata": {},
   "outputs": [],
   "source": [
    "rna_agg.write(f\"{PATH}/rna_agg.h5ad\", compression=\"gzip\")\n",
    "atac_agg.write(f\"{PATH}/atac_agg.h5ad\", compression=\"gzip\")\n",
    "atac2rna_agg.write(f\"{PATH}/atac2rna_agg.h5ad\", compression=\"gzip\")"
   ]
  }
 ],
 "metadata": {
  "kernelspec": {
   "display_name": "Python 3",
   "language": "python",
   "name": "python3"
  },
  "language_info": {
   "codemirror_mode": {
    "name": "ipython",
    "version": 3
   },
   "file_extension": ".py",
   "mimetype": "text/x-python",
   "name": "python",
   "nbconvert_exporter": "python",
   "pygments_lexer": "ipython3",
   "version": "3.8.5"
  }
 },
 "nbformat": 4,
 "nbformat_minor": 5
}
