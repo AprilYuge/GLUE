{
 "cells": [
  {
   "cell_type": "code",
   "execution_count": null,
   "id": "useful-attention",
   "metadata": {},
   "outputs": [],
   "source": [
    "import os\n",
    "\n",
    "import anndata\n",
    "import matplotlib.pyplot as plt\n",
    "import networkx as nx\n",
    "import numpy as np\n",
    "import pandas as pd\n",
    "import scanpy as sc\n",
    "from matplotlib import patches, rcParams\n",
    "\n",
    "import scglue"
   ]
  },
  {
   "cell_type": "code",
   "execution_count": null,
   "id": "frank-sapphire",
   "metadata": {},
   "outputs": [],
   "source": [
    "scglue.plot.set_publication_params()\n",
    "rcParams[\"figure.figsize\"] = (7, 7)\n",
    "\n",
    "PATH = \"s02_glue_pretrain\"\n",
    "os.makedirs(PATH, exist_ok=True)"
   ]
  },
  {
   "cell_type": "markdown",
   "id": "technological-conjunction",
   "metadata": {},
   "source": [
    "# Read data"
   ]
  },
  {
   "cell_type": "code",
   "execution_count": null,
   "id": "numerous-knife",
   "metadata": {},
   "outputs": [],
   "source": [
    "rna_agg = anndata.read_h5ad(\"s01_preprocessing/rna_agg.h5ad\")\n",
    "atac_agg = anndata.read_h5ad(\"s01_preprocessing/atac_agg.h5ad\")\n",
    "prior = nx.read_graphml(\"s01_preprocessing/sub.graphml.gz\")"
   ]
  },
  {
   "cell_type": "markdown",
   "id": "danish-peripheral",
   "metadata": {},
   "source": [
    "# GLUE"
   ]
  },
  {
   "cell_type": "code",
   "execution_count": null,
   "id": "missing-certification",
   "metadata": {},
   "outputs": [],
   "source": [
    "vertices = sorted(prior.nodes)\n",
    "scglue.models.configure_dataset(rna_agg, \"NB\", use_highly_variable=True, use_rep=\"X_pca\")\n",
    "scglue.models.configure_dataset(atac_agg, \"NB\", use_highly_variable=True, use_rep=\"X_lsi\")\n",
    "glue = scglue.models.SCGLUEModel(\n",
    "    {\"rna\": rna_agg, \"atac\": atac_agg}, vertices,\n",
    "    h_dim=512, random_seed=0\n",
    ")"
   ]
  },
  {
   "cell_type": "code",
   "execution_count": null,
   "id": "pursuant-stable",
   "metadata": {
    "tags": []
   },
   "outputs": [],
   "source": [
    "glue.compile()\n",
    "glue.fit(\n",
    "    {\"rna\": rna_agg, \"atac\": atac_agg}, prior,\n",
    "    edge_weight=\"weight\", edge_sign=\"sign\",\n",
    "    align_burnin=np.inf, directory=PATH\n",
    ")\n",
    "glue.save(f\"{PATH}/final.dill\")"
   ]
  },
  {
   "cell_type": "code",
   "execution_count": null,
   "id": "retired-silver",
   "metadata": {},
   "outputs": [],
   "source": [
    "rna_agg.obsm[\"X_glue\"] = glue.encode_data(\"rna\", rna_agg)\n",
    "atac_agg.obsm[\"X_glue\"] = glue.encode_data(\"atac\", atac_agg)"
   ]
  },
  {
   "cell_type": "markdown",
   "id": "metallic-quest",
   "metadata": {},
   "source": [
    "# Visualization"
   ]
  },
  {
   "cell_type": "code",
   "execution_count": null,
   "id": "innovative-celtic",
   "metadata": {},
   "outputs": [],
   "source": [
    "combined_agg = anndata.AnnData(\n",
    "    obs=pd.concat([rna_agg.obs, atac_agg.obs], join=\"inner\"),\n",
    "    obsm={\"X_glue\": np.concatenate([rna_agg.obsm[\"X_glue\"], atac_agg.obsm[\"X_glue\"]])}\n",
    ")"
   ]
  },
  {
   "cell_type": "code",
   "execution_count": null,
   "id": "demanding-beverage",
   "metadata": {},
   "outputs": [],
   "source": [
    "sc.pp.neighbors(\n",
    "    combined_agg, n_pcs=combined_agg.obsm[\"X_glue\"].shape[1],\n",
    "    use_rep=\"X_glue\", metric=\"cosine\"\n",
    ")\n",
    "sc.tl.umap(combined_agg)"
   ]
  },
  {
   "cell_type": "code",
   "execution_count": null,
   "id": "narrative-consistency",
   "metadata": {},
   "outputs": [],
   "source": [
    "fig = sc.pl.umap(\n",
    "    combined_agg, color=\"cell_type\",\n",
    "    title=\"Cell type (aggregated)\", return_fig=True\n",
    ")\n",
    "ct_handles, ct_labels = fig.axes[0].get_legend_handles_labels()\n",
    "fig.axes[0].get_legend().remove()\n",
    "fig.savefig(f\"{PATH}/combined_ct.pdf\")"
   ]
  },
  {
   "cell_type": "code",
   "execution_count": null,
   "id": "close-narrow",
   "metadata": {},
   "outputs": [],
   "source": [
    "fig = sc.pl.umap(\n",
    "    combined_agg, color=\"domain\",\n",
    "    title=\"Omics layer (aggregated)\", return_fig=True\n",
    ")\n",
    "domain_handles, domain_labels = fig.axes[0].get_legend_handles_labels()\n",
    "fig.axes[0].get_legend().remove()\n",
    "fig.savefig(f\"{PATH}/combined_domain.pdf\")"
   ]
  },
  {
   "cell_type": "code",
   "execution_count": null,
   "id": "greenhouse-charles",
   "metadata": {},
   "outputs": [],
   "source": [
    "fig, ax = plt.subplots()\n",
    "ax.set_visible(False)\n",
    "placeholder = patches.Rectangle((0, 0), 1, 1, visible=False)\n",
    "handles = [placeholder, *domain_handles, placeholder, placeholder, *ct_handles]\n",
    "labels = [\"Omics layer\", *domain_labels, \"\", \"Cell type\", *ct_labels]\n",
    "fig.legend(handles, labels, ncol=5, frameon=False)\n",
    "fig.savefig(f\"{PATH}/combined_legend.pdf\")"
   ]
  },
  {
   "cell_type": "code",
   "execution_count": null,
   "id": "broadband-myanmar",
   "metadata": {},
   "outputs": [],
   "source": [
    "rna_agg.obsm[\"X_glue_umap\"] = combined_agg[rna_agg.obs_names, :].obsm[\"X_umap\"]\n",
    "atac_agg.obsm[\"X_glue_umap\"] = combined_agg[atac_agg.obs_names, :].obsm[\"X_umap\"]"
   ]
  },
  {
   "cell_type": "code",
   "execution_count": null,
   "id": "incomplete-mediterranean",
   "metadata": {},
   "outputs": [],
   "source": [
    "fig = sc.pl.embedding(\n",
    "    rna_agg, \"X_glue_umap\", color=\"cell_type\",\n",
    "    title=\"scRNA-seq cell type (aggregated)\", return_fig=True,\n",
    "    legend_loc=\"on data\", legend_fontsize=4, legend_fontoutline=0.5\n",
    ")\n",
    "fig.axes[0].set_xlabel(\"UMAP1\")\n",
    "fig.axes[0].set_ylabel(\"UMAP2\")\n",
    "fig.savefig(f\"{PATH}/rna_ct.pdf\")"
   ]
  },
  {
   "cell_type": "code",
   "execution_count": null,
   "id": "floating-bowling",
   "metadata": {},
   "outputs": [],
   "source": [
    "fig = sc.pl.embedding(\n",
    "    atac_agg, \"X_glue_umap\", color=\"cell_type\",\n",
    "    title=\"scATAC-seq cell type (aggregated)\", return_fig=True,\n",
    "    legend_loc=\"on data\", legend_fontsize=4, legend_fontoutline=0.5\n",
    ")\n",
    "fig.axes[0].set_xlabel(\"UMAP1\")\n",
    "fig.axes[0].set_ylabel(\"UMAP2\")\n",
    "fig.savefig(f\"{PATH}/atac_ct.pdf\")"
   ]
  },
  {
   "cell_type": "markdown",
   "id": "crazy-exploration",
   "metadata": {},
   "source": [
    "# Save results"
   ]
  },
  {
   "cell_type": "code",
   "execution_count": null,
   "id": "seasonal-charter",
   "metadata": {
    "scrolled": true,
    "tags": []
   },
   "outputs": [],
   "source": [
    "rna_agg.write(f\"{PATH}/rna_agg.h5ad\", compression=\"gzip\")\n",
    "atac_agg.write(f\"{PATH}/atac_agg.h5ad\", compression=\"gzip\")\n",
    "combined_agg.write(f\"{PATH}/combined_agg.h5ad\", compression=\"gzip\")"
   ]
  }
 ],
 "metadata": {
  "kernelspec": {
   "display_name": "Python 3",
   "language": "python",
   "name": "python3"
  },
  "language_info": {
   "codemirror_mode": {
    "name": "ipython",
    "version": 3
   },
   "file_extension": ".py",
   "mimetype": "text/x-python",
   "name": "python",
   "nbconvert_exporter": "python",
   "pygments_lexer": "ipython3",
   "version": "3.8.5"
  },
  "toc-autonumbering": true
 },
 "nbformat": 4,
 "nbformat_minor": 5
}
