{
 "cells": [
  {
   "cell_type": "code",
   "execution_count": null,
   "id": "acquired-hybrid",
   "metadata": {},
   "outputs": [],
   "source": [
    "import os\n",
    "\n",
    "import anndata\n",
    "import matplotlib.pyplot as plt\n",
    "import numpy as np\n",
    "import pandas as pd\n",
    "import scanpy as sc\n",
    "from matplotlib import patches, rcParams\n",
    "\n",
    "import scglue"
   ]
  },
  {
   "cell_type": "code",
   "execution_count": null,
   "id": "embedded-stuff",
   "metadata": {},
   "outputs": [],
   "source": [
    "scglue.plot.set_publication_params()\n",
    "rcParams[\"figure.figsize\"] = (7, 7)\n",
    "\n",
    "PATH = \"e03_visualize\"\n",
    "os.makedirs(PATH, exist_ok=True)"
   ]
  },
  {
   "cell_type": "markdown",
   "id": "covered-baseline",
   "metadata": {},
   "source": [
    "# Read data"
   ]
  },
  {
   "cell_type": "code",
   "execution_count": null,
   "id": "skilled-parker",
   "metadata": {},
   "outputs": [],
   "source": [
    "rna = anndata.read_h5ad(\"e01_preprocessing/rna_agg.h5ad\", backed=\"r\")\n",
    "atac = anndata.read_h5ad(\"e01_preprocessing/atac_agg.h5ad\", backed=\"r\")"
   ]
  },
  {
   "cell_type": "code",
   "execution_count": null,
   "id": "gothic-latino",
   "metadata": {},
   "outputs": [],
   "source": [
    "rna.obsm[\"X_latent\"] = pd.read_csv(\n",
    "    \"e02_cca_anchor/rna_latent.csv\", header=None, index_col=0\n",
    ").loc[rna.obs_names].to_numpy()\n",
    "atac.obsm[\"X_latent\"] = pd.read_csv(\n",
    "    \"e02_cca_anchor/atac_latent.csv\", header=None, index_col=0\n",
    ").loc[atac.obs_names].to_numpy()"
   ]
  },
  {
   "cell_type": "code",
   "execution_count": null,
   "id": "steady-demographic",
   "metadata": {},
   "outputs": [],
   "source": [
    "combined = anndata.AnnData(\n",
    "    obs=pd.concat([rna.obs, atac.obs], join=\"inner\"),\n",
    "    obsm={\"X_latent\": np.concatenate([rna.obsm[\"X_latent\"], atac.obsm[\"X_latent\"]])}\n",
    ")"
   ]
  },
  {
   "cell_type": "markdown",
   "id": "productive-measurement",
   "metadata": {},
   "source": [
    "# Plotting"
   ]
  },
  {
   "cell_type": "code",
   "execution_count": null,
   "id": "personal-market",
   "metadata": {},
   "outputs": [],
   "source": [
    "sc.pp.neighbors(\n",
    "    combined, use_rep=\"X_latent\",\n",
    "    n_pcs=combined.obsm[\"X_latent\"].shape[1],\n",
    "    metric=\"cosine\"\n",
    ")\n",
    "sc.tl.umap(combined)"
   ]
  },
  {
   "cell_type": "code",
   "execution_count": null,
   "id": "extensive-robertson",
   "metadata": {},
   "outputs": [],
   "source": [
    "fig = sc.pl.umap(\n",
    "    combined, color=\"cell_type\", \n",
    "    title=\"Cell type\", return_fig=True\n",
    ")\n",
    "ct_handles, ct_labels = fig.axes[0].get_legend_handles_labels()\n",
    "fig.axes[0].get_legend().remove()\n",
    "fig.savefig(f\"{PATH}/combined_ct.pdf\")"
   ]
  },
  {
   "cell_type": "code",
   "execution_count": null,
   "id": "organized-spread",
   "metadata": {},
   "outputs": [],
   "source": [
    "fig = sc.pl.umap(\n",
    "    combined, color=\"domain\",\n",
    "    title=\"Omics layer\", return_fig=True\n",
    ")\n",
    "domain_handles, domain_labels = fig.axes[0].get_legend_handles_labels()\n",
    "fig.axes[0].get_legend().remove()\n",
    "fig.savefig(f\"{PATH}/combined_domain.pdf\")"
   ]
  },
  {
   "cell_type": "code",
   "execution_count": null,
   "id": "cellular-regression",
   "metadata": {},
   "outputs": [],
   "source": [
    "fig, ax = plt.subplots()\n",
    "ax.set_visible(False)\n",
    "placeholder = patches.Rectangle((0, 0), 1, 1, visible=False)\n",
    "handles = [placeholder, *domain_handles, placeholder, placeholder, *ct_handles]\n",
    "labels = [\"Omics layer\", *domain_labels, \"\", \"Cell type\", *ct_labels]\n",
    "fig.legend(handles, labels, ncol=5, frameon=False)\n",
    "fig.savefig(f\"{PATH}/combined_legend.pdf\")"
   ]
  }
 ],
 "metadata": {
  "kernelspec": {
   "display_name": "Python 3",
   "language": "python",
   "name": "python3"
  },
  "language_info": {
   "codemirror_mode": {
    "name": "ipython",
    "version": 3
   },
   "file_extension": ".py",
   "mimetype": "text/x-python",
   "name": "python",
   "nbconvert_exporter": "python",
   "pygments_lexer": "ipython3",
   "version": "3.8.5"
  }
 },
 "nbformat": 4,
 "nbformat_minor": 5
}
