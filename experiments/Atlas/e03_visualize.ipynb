{
 "cells": [
  {
   "cell_type": "code",
   "execution_count": null,
   "id": "preliminary-destruction",
   "metadata": {},
   "outputs": [],
   "source": [
    "import os\n",
    "\n",
    "import anndata\n",
    "import matplotlib.pyplot as plt\n",
    "import numpy as np\n",
    "import pandas as pd\n",
    "import scanpy as sc\n",
    "import umap\n",
    "from matplotlib import patches, rcParams\n",
    "\n",
    "import scglue"
   ]
  },
  {
   "cell_type": "code",
   "execution_count": null,
   "id": "normal-stopping",
   "metadata": {},
   "outputs": [],
   "source": [
    "scglue.plot.set_publication_params()\n",
    "rcParams[\"figure.figsize\"] = (7, 7)\n",
    "\n",
    "PATH = \"e03_visualize\"\n",
    "os.makedirs(PATH, exist_ok=True)"
   ]
  },
  {
   "cell_type": "markdown",
   "id": "wanted-pepper",
   "metadata": {},
   "source": [
    "# Read aggregated data"
   ]
  },
  {
   "cell_type": "code",
   "execution_count": null,
   "id": "sustainable-combining",
   "metadata": {},
   "outputs": [],
   "source": [
    "rna = anndata.read_h5ad(\"e01_preprocessing/rna_agg.h5ad\", backed=\"r\")\n",
    "atac = anndata.read_h5ad(\"e01_preprocessing/atac_agg.h5ad\", backed=\"r\")"
   ]
  },
  {
   "cell_type": "markdown",
   "id": "certified-decrease",
   "metadata": {},
   "source": [
    "# Seurat v3"
   ]
  },
  {
   "cell_type": "markdown",
   "id": "disciplinary-motor",
   "metadata": {},
   "source": [
    "## Read latent"
   ]
  },
  {
   "cell_type": "code",
   "execution_count": null,
   "id": "stone-paper",
   "metadata": {},
   "outputs": [],
   "source": [
    "rna.obsm[\"X_latent\"] = pd.read_csv(\n",
    "    \"e02_cca_anchor/rna_latent.csv\", header=None, index_col=0\n",
    ").loc[rna.obs_names].to_numpy()\n",
    "atac.obsm[\"X_latent\"] = pd.read_csv(\n",
    "    \"e02_cca_anchor/atac_latent.csv\", header=None, index_col=0\n",
    ").loc[atac.obs_names].to_numpy()"
   ]
  },
  {
   "cell_type": "code",
   "execution_count": null,
   "id": "completed-booth",
   "metadata": {},
   "outputs": [],
   "source": [
    "combined = anndata.AnnData(\n",
    "    obs=pd.concat([rna.obs, atac.obs], join=\"inner\"),\n",
    "    obsm={\"X_latent\": np.concatenate([rna.obsm[\"X_latent\"], atac.obsm[\"X_latent\"]])}\n",
    ")"
   ]
  },
  {
   "cell_type": "markdown",
   "id": "negative-words",
   "metadata": {},
   "source": [
    "## Plotting"
   ]
  },
  {
   "cell_type": "code",
   "execution_count": null,
   "id": "southeast-problem",
   "metadata": {},
   "outputs": [],
   "source": [
    "sc.pp.neighbors(\n",
    "    combined, use_rep=\"X_latent\",\n",
    "    n_pcs=combined.obsm[\"X_latent\"].shape[1],\n",
    "    metric=\"cosine\"\n",
    ")\n",
    "sc.tl.umap(combined)"
   ]
  },
  {
   "cell_type": "code",
   "execution_count": null,
   "id": "digital-photograph",
   "metadata": {},
   "outputs": [],
   "source": [
    "fig = sc.pl.umap(\n",
    "    combined, color=\"cell_type\", \n",
    "    title=\"Cell type\", return_fig=True\n",
    ")\n",
    "ct_handles, ct_labels = fig.axes[0].get_legend_handles_labels()\n",
    "fig.axes[0].get_legend().remove()\n",
    "fig.savefig(f\"{PATH}/cca_combined_agg_ct.pdf\")"
   ]
  },
  {
   "cell_type": "code",
   "execution_count": null,
   "id": "certain-generic",
   "metadata": {},
   "outputs": [],
   "source": [
    "fig = sc.pl.umap(\n",
    "    combined, color=\"domain\",\n",
    "    title=\"Omics layer\", return_fig=True\n",
    ")\n",
    "domain_handles, domain_labels = fig.axes[0].get_legend_handles_labels()\n",
    "fig.axes[0].get_legend().remove()\n",
    "fig.savefig(f\"{PATH}/cca_combined_agg_domain.pdf\")"
   ]
  },
  {
   "cell_type": "code",
   "execution_count": null,
   "id": "encouraging-sponsorship",
   "metadata": {},
   "outputs": [],
   "source": [
    "fig, ax = plt.subplots()\n",
    "ax.set_visible(False)\n",
    "placeholder = patches.Rectangle((0, 0), 1, 1, visible=False)\n",
    "handles = [placeholder, *domain_handles, placeholder, placeholder, *ct_handles]\n",
    "labels = [\"Omics layer\", *domain_labels, \"\", \"Cell type\", *ct_labels]\n",
    "fig.legend(handles, labels, ncol=5, frameon=False)\n",
    "fig.savefig(f\"{PATH}/cca_combined_agg_legend.pdf\")"
   ]
  },
  {
   "cell_type": "code",
   "execution_count": null,
   "id": "convinced-adoption",
   "metadata": {},
   "outputs": [],
   "source": [
    "combined_umap = pd.DataFrame(combined.obsm[\"X_umap\"], index=combined.obs_names)\n",
    "combined_umap.to_csv(f\"{PATH}/cca_combined_agg_umap.csv\", header=False, index=True)"
   ]
  },
  {
   "cell_type": "markdown",
   "id": "spanish-london",
   "metadata": {},
   "source": [
    "# iNMF"
   ]
  },
  {
   "cell_type": "code",
   "execution_count": null,
   "id": "cheap-acrobat",
   "metadata": {},
   "outputs": [],
   "source": [
    "rna.obsm[\"X_latent\"] = pd.read_csv(\n",
    "    \"e02_inmf.agg/rna_latent.csv\", header=None, index_col=0\n",
    ").loc[rna.obs_names].to_numpy()\n",
    "atac.obsm[\"X_latent\"] = pd.read_csv(\n",
    "    \"e02_inmf.agg/atac_latent.csv\", header=None, index_col=0\n",
    ").loc[atac.obs_names].to_numpy()"
   ]
  },
  {
   "cell_type": "code",
   "execution_count": null,
   "id": "hired-election",
   "metadata": {},
   "outputs": [],
   "source": [
    "combined = anndata.AnnData(\n",
    "    obs=pd.concat([rna.obs, atac.obs], join=\"inner\"),\n",
    "    obsm={\"X_latent\": np.concatenate([rna.obsm[\"X_latent\"], atac.obsm[\"X_latent\"]])}\n",
    ")"
   ]
  },
  {
   "cell_type": "markdown",
   "id": "suitable-hierarchy",
   "metadata": {},
   "source": [
    "## Plotting"
   ]
  },
  {
   "cell_type": "code",
   "execution_count": null,
   "id": "upset-funeral",
   "metadata": {},
   "outputs": [],
   "source": [
    "combined.obsm[\"X_latent\"] += np.random.RandomState(0).randn(\n",
    "    *combined.obsm[\"X_latent\"].shape\n",
    ") * 2e-5  # Add a slight amount of noise to avoid UMAP segfault"
   ]
  },
  {
   "cell_type": "code",
   "execution_count": null,
   "id": "missing-equivalent",
   "metadata": {},
   "outputs": [],
   "source": [
    "sc.pp.neighbors(\n",
    "    combined, use_rep=\"X_latent\",\n",
    "    n_pcs=combined.obsm[\"X_latent\"].shape[1],\n",
    "    metric=\"cosine\"\n",
    ")\n",
    "sc.tl.umap(combined)"
   ]
  },
  {
   "cell_type": "code",
   "execution_count": null,
   "id": "subsequent-benefit",
   "metadata": {},
   "outputs": [],
   "source": [
    "fig = sc.pl.umap(\n",
    "    combined, color=\"cell_type\", \n",
    "    title=\"Cell type\", return_fig=True\n",
    ")\n",
    "ct_handles, ct_labels = fig.axes[0].get_legend_handles_labels()\n",
    "fig.axes[0].get_legend().remove()\n",
    "fig.savefig(f\"{PATH}/inmf_combined_agg_ct.pdf\")"
   ]
  },
  {
   "cell_type": "code",
   "execution_count": null,
   "id": "bottom-burton",
   "metadata": {},
   "outputs": [],
   "source": [
    "fig = sc.pl.umap(\n",
    "    combined, color=\"domain\",\n",
    "    title=\"Omics layer\", return_fig=True\n",
    ")\n",
    "domain_handles, domain_labels = fig.axes[0].get_legend_handles_labels()\n",
    "fig.axes[0].get_legend().remove()\n",
    "fig.savefig(f\"{PATH}/inmf_combined_agg_domain.pdf\")"
   ]
  },
  {
   "cell_type": "code",
   "execution_count": null,
   "id": "genuine-external",
   "metadata": {},
   "outputs": [],
   "source": [
    "fig, ax = plt.subplots()\n",
    "ax.set_visible(False)\n",
    "placeholder = patches.Rectangle((0, 0), 1, 1, visible=False)\n",
    "handles = [placeholder, *domain_handles, placeholder, placeholder, *ct_handles]\n",
    "labels = [\"Omics layer\", *domain_labels, \"\", \"Cell type\", *ct_labels]\n",
    "fig.legend(handles, labels, ncol=5, frameon=False)\n",
    "fig.savefig(f\"{PATH}/inmf_combined_agg_legend.pdf\")"
   ]
  },
  {
   "cell_type": "code",
   "execution_count": null,
   "id": "annoying-metadata",
   "metadata": {},
   "outputs": [],
   "source": [
    "combined_umap = pd.DataFrame(combined.obsm[\"X_umap\"], index=combined.obs_names)\n",
    "combined_umap.to_csv(f\"{PATH}/inmf_combined_agg_umap.csv\", header=False, index=True)"
   ]
  },
  {
   "cell_type": "markdown",
   "id": "attractive-disclosure",
   "metadata": {},
   "source": [
    "# Read full data"
   ]
  },
  {
   "cell_type": "code",
   "execution_count": null,
   "id": "southern-manual",
   "metadata": {},
   "outputs": [],
   "source": [
    "rna = anndata.read_h5ad(\"e01_preprocessing/rna.h5ad\", backed=\"r\")\n",
    "atac = anndata.read_h5ad(\"e01_preprocessing/atac.h5ad\", backed=\"r\")"
   ]
  },
  {
   "cell_type": "markdown",
   "id": "supreme-education",
   "metadata": {},
   "source": [
    "# iNMF"
   ]
  },
  {
   "cell_type": "code",
   "execution_count": null,
   "id": "applied-chicago",
   "metadata": {},
   "outputs": [],
   "source": [
    "rna.obsm[\"X_latent\"] = pd.read_csv(\n",
    "    \"e02_inmf/rna_latent.csv\", header=None, index_col=0\n",
    ").loc[rna.obs_names].to_numpy()\n",
    "atac.obsm[\"X_latent\"] = pd.read_csv(\n",
    "    \"e02_inmf/atac_latent.csv\", header=None, index_col=0\n",
    ").loc[atac.obs_names].to_numpy()"
   ]
  },
  {
   "cell_type": "code",
   "execution_count": null,
   "id": "naked-harbor",
   "metadata": {},
   "outputs": [],
   "source": [
    "combined = anndata.AnnData(\n",
    "    obs=pd.concat([rna.obs, atac.obs], join=\"inner\"),\n",
    "    obsm={\"X_latent\": np.concatenate([rna.obsm[\"X_latent\"], atac.obsm[\"X_latent\"]])}\n",
    ")"
   ]
  },
  {
   "cell_type": "markdown",
   "id": "accompanied-worth",
   "metadata": {},
   "source": [
    "## Plotting"
   ]
  },
  {
   "cell_type": "code",
   "execution_count": null,
   "id": "miniature-pittsburgh",
   "metadata": {},
   "outputs": [],
   "source": [
    "combined.obsm[\"X_latent\"] += np.random.RandomState(0).randn(\n",
    "    *combined.obsm[\"X_latent\"].shape\n",
    ") * 2e-4  # Add a slight amount of noise to avoid UMAP segfault"
   ]
  },
  {
   "cell_type": "code",
   "execution_count": null,
   "id": "classified-hybrid",
   "metadata": {},
   "outputs": [],
   "source": [
    "sc.pp.neighbors(\n",
    "    combined, use_rep=\"X_latent\",\n",
    "    n_pcs=combined.obsm[\"X_latent\"].shape[1],\n",
    "    metric=\"cosine\"\n",
    ")\n",
    "sc.tl.umap(combined)"
   ]
  },
  {
   "cell_type": "code",
   "execution_count": null,
   "id": "banner-taiwan",
   "metadata": {},
   "outputs": [],
   "source": [
    "fig = sc.pl.umap(\n",
    "    combined, color=\"cell_type\", \n",
    "    title=\"Cell type\", return_fig=True\n",
    ")\n",
    "ct_handles, ct_labels = fig.axes[0].get_legend_handles_labels()\n",
    "fig.axes[0].get_legend().remove()\n",
    "fig.savefig(f\"{PATH}/inmf_combined_ct.pdf\")"
   ]
  },
  {
   "cell_type": "code",
   "execution_count": null,
   "id": "removed-family",
   "metadata": {},
   "outputs": [],
   "source": [
    "fig = sc.pl.umap(\n",
    "    combined, color=\"domain\",\n",
    "    title=\"Omics layer\", return_fig=True\n",
    ")\n",
    "domain_handles, domain_labels = fig.axes[0].get_legend_handles_labels()\n",
    "fig.axes[0].get_legend().remove()\n",
    "fig.savefig(f\"{PATH}/inmf_combined_domain.pdf\")"
   ]
  },
  {
   "cell_type": "code",
   "execution_count": null,
   "id": "unlike-childhood",
   "metadata": {},
   "outputs": [],
   "source": [
    "fig, ax = plt.subplots()\n",
    "ax.set_visible(False)\n",
    "placeholder = patches.Rectangle((0, 0), 1, 1, visible=False)\n",
    "handles = [placeholder, *domain_handles, placeholder, placeholder, *ct_handles]\n",
    "labels = [\"Omics layer\", *domain_labels, \"\", \"Cell type\", *ct_labels]\n",
    "fig.legend(handles, labels, ncol=5, frameon=False)\n",
    "fig.savefig(f\"{PATH}/inmf_combined_legend.pdf\")"
   ]
  },
  {
   "cell_type": "code",
   "execution_count": null,
   "id": "identical-rendering",
   "metadata": {},
   "outputs": [],
   "source": [
    "combined_umap = pd.DataFrame(combined.obsm[\"X_umap\"], index=combined.obs_names)\n",
    "combined_umap.to_csv(f\"{PATH}/inmf_combined_umap.csv\", header=False, index=True)"
   ]
  }
 ],
 "metadata": {
  "kernelspec": {
   "display_name": "Python 3",
   "language": "python",
   "name": "python3"
  },
  "language_info": {
   "codemirror_mode": {
    "name": "ipython",
    "version": 3
   },
   "file_extension": ".py",
   "mimetype": "text/x-python",
   "name": "python",
   "nbconvert_exporter": "python",
   "pygments_lexer": "ipython3",
   "version": "3.8.5"
  },
  "toc-autonumbering": true
 },
 "nbformat": 4,
 "nbformat_minor": 5
}
