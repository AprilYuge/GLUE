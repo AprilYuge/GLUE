{
 "cells": [
  {
   "cell_type": "code",
   "execution_count": null,
   "id": "mechanical-proposal",
   "metadata": {},
   "outputs": [],
   "source": [
    "import os\n",
    "\n",
    "import anndata\n",
    "import networkx as nx\n",
    "from networkx.algorithms.bipartite import biadjacency_matrix"
   ]
  },
  {
   "cell_type": "code",
   "execution_count": null,
   "id": "marked-newsletter",
   "metadata": {},
   "outputs": [],
   "source": [
    "PATH = \"t01_preprocessing\"\n",
    "os.makedirs(PATH, exist_ok=True)"
   ]
  },
  {
   "cell_type": "markdown",
   "id": "governmental-macedonia",
   "metadata": {},
   "source": [
    "# Read data"
   ]
  },
  {
   "cell_type": "code",
   "execution_count": null,
   "id": "furnished-looking",
   "metadata": {},
   "outputs": [],
   "source": [
    "rna = anndata.read_h5ad(\"../../data/dataset/Cao-2020.h5ad\")\n",
    "atac = anndata.read_h5ad(\"../../data/dataset/Domcke-2020.h5ad\")"
   ]
  },
  {
   "cell_type": "code",
   "execution_count": null,
   "id": "accurate-soccer",
   "metadata": {},
   "outputs": [],
   "source": [
    "rna_pp = anndata.read_h5ad(\"s01_preprocessing/rna.h5ad\", backed=\"r\")\n",
    "atac_pp = anndata.read_h5ad(\"s01_preprocessing/atac.h5ad\", backed=\"r\")"
   ]
  },
  {
   "cell_type": "code",
   "execution_count": null,
   "id": "attractive-presentation",
   "metadata": {},
   "outputs": [],
   "source": [
    "graph = nx.read_graphml(\"s01_preprocessing/full.graphml.gz\")"
   ]
  },
  {
   "cell_type": "markdown",
   "id": "dated-roommate",
   "metadata": {},
   "source": [
    "# Update meta"
   ]
  },
  {
   "cell_type": "code",
   "execution_count": null,
   "id": "precious-insulation",
   "metadata": {},
   "outputs": [],
   "source": [
    "rna.var[\"highly_variable\"] = [item in rna_pp.var_names for item in rna.var_names]\n",
    "atac.var[\"highly_variable\"] = [item in atac_pp.var_names for item in atac.var_names]"
   ]
  },
  {
   "cell_type": "markdown",
   "id": "therapeutic-salem",
   "metadata": {},
   "source": [
    "# Subsample"
   ]
  },
  {
   "cell_type": "code",
   "execution_count": null,
   "id": "international-chemical",
   "metadata": {},
   "outputs": [],
   "source": [
    "rna = rna[rna_pp.obs[\"mask\"], :]\n",
    "atac = atac[atac_pp.obs[\"mask\"], :]"
   ]
  },
  {
   "cell_type": "markdown",
   "id": "balanced-rover",
   "metadata": {},
   "source": [
    "# Convert data"
   ]
  },
  {
   "cell_type": "code",
   "execution_count": null,
   "id": "downtown-thanksgiving",
   "metadata": {},
   "outputs": [],
   "source": [
    "atac2rna = anndata.AnnData(\n",
    "    X=atac.X @ biadjacency_matrix(graph, atac.var_names, rna.var_names),\n",
    "    obs=atac.obs, var=rna.var\n",
    ")"
   ]
  },
  {
   "cell_type": "markdown",
   "id": "outer-doctor",
   "metadata": {},
   "source": [
    "# Save data"
   ]
  },
  {
   "cell_type": "code",
   "execution_count": null,
   "id": "radical-pursuit",
   "metadata": {},
   "outputs": [],
   "source": [
    "rna.write(f\"{PATH}/rna.h5ad\", compression=\"gzip\")\n",
    "atac.write(f\"{PATH}/atac.h5ad\", compression=\"gzip\")\n",
    "atac2rna.write(f\"{PATH}/atac2rna.h5ad\", compression=\"gzip\")"
   ]
  }
 ],
 "metadata": {
  "kernelspec": {
   "display_name": "Python 3",
   "language": "python",
   "name": "python3"
  },
  "language_info": {
   "codemirror_mode": {
    "name": "ipython",
    "version": 3
   },
   "file_extension": ".py",
   "mimetype": "text/x-python",
   "name": "python",
   "nbconvert_exporter": "python",
   "pygments_lexer": "ipython3",
   "version": "3.8.5"
  }
 },
 "nbformat": 4,
 "nbformat_minor": 5
}
