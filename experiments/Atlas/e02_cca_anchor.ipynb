{
 "cells": [
  {
   "cell_type": "code",
   "execution_count": null,
   "id": "wired-rental",
   "metadata": {},
   "outputs": [],
   "source": [
    "suppressPackageStartupMessages({\n",
    "    source(\".Rprofile\")\n",
    "    library(Seurat)\n",
    "    library(Signac)\n",
    "})"
   ]
  },
  {
   "cell_type": "code",
   "execution_count": null,
   "id": "addressed-services",
   "metadata": {},
   "outputs": [],
   "source": [
    "PATH <- \"e02_cca_anchor\"\n",
    "if (!dir.exists(PATH)) {\n",
    "    dir.create(PATH)\n",
    "}"
   ]
  },
  {
   "cell_type": "markdown",
   "id": "normal-plastic",
   "metadata": {},
   "source": [
    "# Read data"
   ]
  },
  {
   "cell_type": "code",
   "execution_count": null,
   "id": "saved-antenna",
   "metadata": {},
   "outputs": [],
   "source": [
    "rna <- read_h5ad(\"e01_preprocessing/rna_agg.h5ad\")"
   ]
  },
  {
   "cell_type": "code",
   "execution_count": null,
   "id": "small-framework",
   "metadata": {},
   "outputs": [],
   "source": [
    "atac <- read_h5ad(\"e01_preprocessing/atac_agg.h5ad\")"
   ]
  },
  {
   "cell_type": "code",
   "execution_count": null,
   "id": "raising-mortgage",
   "metadata": {},
   "outputs": [],
   "source": [
    "atac2rna <- read_h5ad(\"e01_preprocessing/atac2rna_agg.h5ad\")"
   ]
  },
  {
   "cell_type": "code",
   "execution_count": null,
   "id": "generous-cancer",
   "metadata": {},
   "outputs": [],
   "source": [
    "rna.so <- CreateSeuratObject(\n",
    "    counts = Matrix::t(rna$X), assay = \"RNA\", meta.data = rna$obs\n",
    ")"
   ]
  },
  {
   "cell_type": "code",
   "execution_count": null,
   "id": "terminal-operation",
   "metadata": {},
   "outputs": [],
   "source": [
    "atac.so <- CreateSeuratObject(\n",
    "    counts = Matrix::t(atac$X), assay = \"ATAC\", meta.data = atac$obs\n",
    ")"
   ]
  },
  {
   "cell_type": "code",
   "execution_count": null,
   "id": "pressed-choice",
   "metadata": {},
   "outputs": [],
   "source": [
    "atac.so[[\"ACTIVITY\"]] <- CreateAssayObject(counts = Matrix::t(atac2rna$X))"
   ]
  },
  {
   "cell_type": "markdown",
   "id": "technical-occupation",
   "metadata": {},
   "source": [
    "# Preprocessing"
   ]
  },
  {
   "cell_type": "markdown",
   "id": "commercial-samba",
   "metadata": {},
   "source": [
    "## RNA"
   ]
  },
  {
   "cell_type": "code",
   "execution_count": null,
   "id": "hearing-consensus",
   "metadata": {},
   "outputs": [],
   "source": [
    "rna.so <- NormalizeData(rna.so)"
   ]
  },
  {
   "cell_type": "code",
   "execution_count": null,
   "id": "limited-electric",
   "metadata": {},
   "outputs": [],
   "source": [
    "VariableFeatures(rna.so) <- rownames(rna$var)[rna$var$highly_variable]"
   ]
  },
  {
   "cell_type": "code",
   "execution_count": null,
   "id": "serious-gateway",
   "metadata": {},
   "outputs": [],
   "source": [
    "rna.so <- ScaleData(rna.so)"
   ]
  },
  {
   "cell_type": "code",
   "execution_count": null,
   "id": "cheap-printing",
   "metadata": {},
   "outputs": [],
   "source": [
    "rna.so <- RunPCA(rna.so, seed.use = 0, verbose = FALSE)"
   ]
  },
  {
   "cell_type": "markdown",
   "id": "adequate-attempt",
   "metadata": {},
   "source": [
    "## ATAC2RNA"
   ]
  },
  {
   "cell_type": "code",
   "execution_count": null,
   "id": "three-trauma",
   "metadata": {},
   "outputs": [],
   "source": [
    "DefaultAssay(atac.so) <- \"ACTIVITY\""
   ]
  },
  {
   "cell_type": "code",
   "execution_count": null,
   "id": "crazy-overall",
   "metadata": {},
   "outputs": [],
   "source": [
    "VariableFeatures(atac.so) <- rownames(rna$var)[rna$var$highly_variable]"
   ]
  },
  {
   "cell_type": "code",
   "execution_count": null,
   "id": "undefined-oasis",
   "metadata": {},
   "outputs": [],
   "source": [
    "atac.so <- NormalizeData(atac.so)"
   ]
  },
  {
   "cell_type": "code",
   "execution_count": null,
   "id": "nominated-winter",
   "metadata": {},
   "outputs": [],
   "source": [
    "atac.so <- ScaleData(atac.so)"
   ]
  },
  {
   "cell_type": "markdown",
   "id": "unlike-architect",
   "metadata": {},
   "source": [
    "## ATAC"
   ]
  },
  {
   "cell_type": "code",
   "execution_count": null,
   "id": "material-aerospace",
   "metadata": {},
   "outputs": [],
   "source": [
    "DefaultAssay(atac.so) <- \"ATAC\""
   ]
  },
  {
   "cell_type": "code",
   "execution_count": null,
   "id": "better-madrid",
   "metadata": {},
   "outputs": [],
   "source": [
    "atac.so <- RunTFIDF(atac.so)"
   ]
  },
  {
   "cell_type": "code",
   "execution_count": null,
   "id": "based-bahamas",
   "metadata": {},
   "outputs": [],
   "source": [
    "atac.so <- FindTopFeatures(atac.so, min.cutoff = \"q0\")"
   ]
  },
  {
   "cell_type": "code",
   "execution_count": null,
   "id": "possible-speech",
   "metadata": {},
   "outputs": [],
   "source": [
    "atac.so <- RunSVD(atac.so)"
   ]
  },
  {
   "cell_type": "code",
   "execution_count": null,
   "id": "heated-acoustic",
   "metadata": {},
   "outputs": [],
   "source": [
    "rm(rna, atac, atac2rna)"
   ]
  },
  {
   "cell_type": "markdown",
   "id": "universal-aspect",
   "metadata": {},
   "source": [
    "# Integration"
   ]
  },
  {
   "cell_type": "code",
   "execution_count": null,
   "id": "guided-physiology",
   "metadata": {},
   "outputs": [],
   "source": [
    "transfer.anchors <- FindTransferAnchors(\n",
    "    reference = rna.so, query = atac.so,\n",
    "    features = VariableFeatures(rna.so),\n",
    "    reference.assay = \"RNA\", query.assay = \"ACTIVITY\",\n",
    "    reduction = \"cca\"\n",
    ")"
   ]
  },
  {
   "cell_type": "code",
   "execution_count": null,
   "id": "willing-remains",
   "metadata": {},
   "outputs": [],
   "source": [
    "refdata <- GetAssayData(\n",
    "    rna.so, assay = \"RNA\", slot = \"data\"\n",
    ")[VariableFeatures(rna.so), ]"
   ]
  },
  {
   "cell_type": "code",
   "execution_count": null,
   "id": "intelligent-tumor",
   "metadata": {},
   "outputs": [],
   "source": [
    "imputation <- TransferData(\n",
    "    anchorset = transfer.anchors, refdata = refdata,\n",
    "    weight.reduction = atac.so[[\"lsi\"]], dims = 1:30\n",
    ")"
   ]
  },
  {
   "cell_type": "code",
   "execution_count": null,
   "id": "understanding-corruption",
   "metadata": {},
   "outputs": [],
   "source": [
    "atac.so[[\"RNA\"]] <- imputation"
   ]
  },
  {
   "cell_type": "code",
   "execution_count": null,
   "id": "legislative-olympus",
   "metadata": {},
   "outputs": [],
   "source": [
    "coembed.so <- merge(x = rna.so, y = atac.so)\n",
    "coembed.so <- ScaleData(\n",
    "    coembed.so, features = VariableFeatures(rna.so), do.scale = FALSE\n",
    ")\n",
    "coembed.so <- RunPCA(\n",
    "    coembed.so, features = VariableFeatures(rna.so),\n",
    "    seed.use = 0, verbose = FALSE\n",
    ")"
   ]
  },
  {
   "cell_type": "markdown",
   "id": "quantitative-mineral",
   "metadata": {},
   "source": [
    "# Save results"
   ]
  },
  {
   "cell_type": "code",
   "execution_count": null,
   "id": "distinct-compact",
   "metadata": {},
   "outputs": [],
   "source": [
    "combined_latent <- Embeddings(coembed.so)"
   ]
  },
  {
   "cell_type": "code",
   "execution_count": null,
   "id": "presidential-quest",
   "metadata": {},
   "outputs": [],
   "source": [
    "rna_latent <- combined_latent[colnames(rna.so), ]"
   ]
  },
  {
   "cell_type": "code",
   "execution_count": null,
   "id": "representative-economy",
   "metadata": {},
   "outputs": [],
   "source": [
    "atac_latent <- combined_latent[colnames(atac.so), ]"
   ]
  },
  {
   "cell_type": "code",
   "execution_count": null,
   "id": "medieval-digest",
   "metadata": {},
   "outputs": [],
   "source": [
    "write.table(\n",
    "    rna_latent, file.path(PATH, \"rna_latent.csv\"),\n",
    "    sep = \",\", row.names = TRUE, col.names = FALSE, quote = FALSE\n",
    ")"
   ]
  },
  {
   "cell_type": "code",
   "execution_count": null,
   "id": "happy-arabic",
   "metadata": {},
   "outputs": [],
   "source": [
    "write.table(\n",
    "    atac_latent, file.path(PATH, \"atac_latent.csv\"),\n",
    "    sep = \",\", row.names = TRUE, col.names = FALSE, quote = FALSE\n",
    ")"
   ]
  }
 ],
 "metadata": {
  "kernelspec": {
   "display_name": "R 4.0.2",
   "language": "R",
   "name": "ir_4.0.2"
  },
  "language_info": {
   "codemirror_mode": "r",
   "file_extension": ".r",
   "mimetype": "text/x-r-source",
   "name": "R",
   "pygments_lexer": "r",
   "version": "4.0.2"
  }
 },
 "nbformat": 4,
 "nbformat_minor": 5
}
