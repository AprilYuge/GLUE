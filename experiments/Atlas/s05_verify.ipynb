{
 "cells": [
  {
   "cell_type": "code",
   "execution_count": null,
   "id": "binary-knock",
   "metadata": {},
   "outputs": [],
   "source": [
    "import os\n",
    "\n",
    "import anndata\n",
    "import networkx as nx\n",
    "import scanpy as sc\n",
    "from matplotlib import rcParams\n",
    "from networkx.algorithms.bipartite import biadjacency_matrix\n",
    "\n",
    "import scglue"
   ]
  },
  {
   "cell_type": "code",
   "execution_count": null,
   "id": "female-diesel",
   "metadata": {},
   "outputs": [],
   "source": [
    "scglue.plot.set_publication_params()\n",
    "rcParams[\"figure.figsize\"] = (3, 3)\n",
    "\n",
    "PATH = \"s05_verify\"\n",
    "os.makedirs(PATH, exist_ok=True)"
   ]
  },
  {
   "cell_type": "markdown",
   "id": "processed-photograph",
   "metadata": {},
   "source": [
    "# Read data"
   ]
  },
  {
   "cell_type": "code",
   "execution_count": null,
   "id": "confirmed-sharing",
   "metadata": {},
   "outputs": [],
   "source": [
    "rna = anndata.read_h5ad(\"../../data/dataset/Cao-2020.h5ad\")\n",
    "atac = anndata.read_h5ad(\"../../data/dataset/Domcke-2020.h5ad\")"
   ]
  },
  {
   "cell_type": "code",
   "execution_count": null,
   "id": "third-headline",
   "metadata": {},
   "outputs": [],
   "source": [
    "rna_aligned = anndata.read_h5ad(\"s04_glue_final/full/rna.h5ad\", backed=\"r\")\n",
    "atac_aligned = anndata.read_h5ad(\"s04_glue_final/full/atac.h5ad\", backed=\"r\")\n",
    "rna.obsm[\"X_glue_umap\"] = rna_aligned.obsm[\"X_glue_umap\"]\n",
    "atac.obsm[\"X_glue_umap\"] = atac_aligned.obsm[\"X_glue_umap\"]\n",
    "del rna_aligned, atac_aligned"
   ]
  },
  {
   "cell_type": "code",
   "execution_count": null,
   "id": "limiting-undergraduate",
   "metadata": {},
   "outputs": [],
   "source": [
    "prior = nx.read_graphml(\"s01_preprocessing/full.graphml.gz\")\n",
    "biadj = biadjacency_matrix(prior, atac.var_names, rna.var_names)"
   ]
  },
  {
   "cell_type": "code",
   "execution_count": null,
   "id": "working-madonna",
   "metadata": {},
   "outputs": [],
   "source": [
    "atac = anndata.AnnData(\n",
    "    X=atac.X @ biadj, obs=atac.obs, var=rna.var,\n",
    "    obsm={\"X_glue_umap\": atac.obsm[\"X_glue_umap\"]}\n",
    ")"
   ]
  },
  {
   "cell_type": "markdown",
   "id": "palestinian-watch",
   "metadata": {},
   "source": [
    "# Normalization"
   ]
  },
  {
   "cell_type": "code",
   "execution_count": null,
   "id": "controlled-sleep",
   "metadata": {},
   "outputs": [],
   "source": [
    "sc.pp.normalize_total(rna)\n",
    "sc.pp.normalize_total(atac)"
   ]
  },
  {
   "cell_type": "code",
   "execution_count": null,
   "id": "worthy-hazard",
   "metadata": {},
   "outputs": [],
   "source": [
    "sc.pp.log1p(rna)\n",
    "sc.pp.log1p(atac)"
   ]
  },
  {
   "cell_type": "code",
   "execution_count": null,
   "id": "subsequent-crisis",
   "metadata": {},
   "outputs": [],
   "source": [
    "fig = sc.pl.embedding(rna, \"X_glue_umap\", color=\"Organ\", return_fig=True)\n",
    "fig.savefig(f\"{PATH}/rna_organ.pdf\")"
   ]
  },
  {
   "cell_type": "code",
   "execution_count": null,
   "id": "agreed-service",
   "metadata": {},
   "outputs": [],
   "source": [
    "fig = sc.pl.embedding(atac, \"X_glue_umap\", color=\"tissue\", return_fig=True)\n",
    "fig.savefig(f\"{PATH}/atac_tissue.pdf\")"
   ]
  },
  {
   "cell_type": "markdown",
   "id": "extensive-remainder",
   "metadata": {},
   "source": [
    "# Cerebrum"
   ]
  },
  {
   "cell_type": "code",
   "execution_count": null,
   "id": "attempted-california",
   "metadata": {},
   "outputs": [],
   "source": [
    "rna_cerebrum = rna[rna.obs[\"Organ\"] == \"Cerebrum\", :]\n",
    "atac_cerebrum = atac[atac.obs[\"tissue\"] == \"cerebrum\", :]"
   ]
  },
  {
   "cell_type": "code",
   "execution_count": null,
   "id": "ultimate-metallic",
   "metadata": {},
   "outputs": [],
   "source": [
    "os.makedirs(f\"{PATH}/cerebrum\", exist_ok=True)"
   ]
  },
  {
   "cell_type": "markdown",
   "id": "friendly-limit",
   "metadata": {},
   "source": [
    "## Neural progenitor markers"
   ]
  },
  {
   "cell_type": "markdown",
   "id": "sharing-blues",
   "metadata": {},
   "source": [
    "Likely radial glial cells"
   ]
  },
  {
   "cell_type": "code",
   "execution_count": null,
   "id": "missing-orange",
   "metadata": {},
   "outputs": [],
   "source": [
    "MARKERS = [\n",
    "    \"PAX6\", \"SOX2\", \"HES1\", \"VIM\",\n",
    "    \"HOPX\", \"LIFR\", \"PDGFD\", \"GLI3\"\n",
    "]"
   ]
  },
  {
   "cell_type": "code",
   "execution_count": null,
   "id": "cloudy-ecology",
   "metadata": {},
   "outputs": [],
   "source": [
    "fig = sc.pl.embedding(\n",
    "    rna_cerebrum, \"X_glue_umap\", gene_symbols=\"gene_name\", color=MARKERS,\n",
    "    vmin=0, vmax=\"p99.9\", return_fig=True\n",
    ")\n",
    "for i, ax in enumerate(fig.axes):\n",
    "    if i % 2 == 0:\n",
    "        ax.set_xlabel(\"UMAP1\")\n",
    "        ax.set_ylabel(\"UMAP2\")\n",
    "fig.savefig(f\"{PATH}/cerebrum/rna_neural_progenitor.pdf\")"
   ]
  },
  {
   "cell_type": "code",
   "execution_count": null,
   "id": "applicable-plasma",
   "metadata": {},
   "outputs": [],
   "source": [
    "fig = sc.pl.embedding(\n",
    "    atac_cerebrum, \"X_glue_umap\", gene_symbols=\"gene_name\", color=MARKERS,\n",
    "    vmin=0, vmax=\"p99.9\", return_fig=True\n",
    ")\n",
    "for i, ax in enumerate(fig.axes):\n",
    "    if i % 2 == 0:\n",
    "        ax.set_xlabel(\"UMAP1\")\n",
    "        ax.set_ylabel(\"UMAP2\")\n",
    "fig.savefig(f\"{PATH}/cerebrum/atac_neural_progenitor.pdf\")"
   ]
  },
  {
   "cell_type": "markdown",
   "id": "iraqi-stuart",
   "metadata": {},
   "source": [
    "## Excitatory neurons markers"
   ]
  },
  {
   "cell_type": "code",
   "execution_count": null,
   "id": "spiritual-reduction",
   "metadata": {},
   "outputs": [],
   "source": [
    "MARKERS = [\n",
    "    \"EOMES\", \"SOX5\", \"RUNX1T1\", \"EPHA3\",\n",
    "    \"FAM19A1\", \"LMO3\", \"SATB2\", \"UNC5D\"\n",
    "]"
   ]
  },
  {
   "cell_type": "code",
   "execution_count": null,
   "id": "aerial-sacramento",
   "metadata": {},
   "outputs": [],
   "source": [
    "fig = sc.pl.embedding(\n",
    "    rna_cerebrum, \"X_glue_umap\", gene_symbols=\"gene_name\", color=MARKERS,\n",
    "    vmin=0, vmax=\"p99.9\", return_fig=True\n",
    ")\n",
    "for i, ax in enumerate(fig.axes):\n",
    "    if i % 2 == 0:\n",
    "        ax.set_xlabel(\"UMAP1\")\n",
    "        ax.set_ylabel(\"UMAP2\")\n",
    "fig.savefig(f\"{PATH}/cerebrum/rna_excitatory_neuron.pdf\")"
   ]
  },
  {
   "cell_type": "code",
   "execution_count": null,
   "id": "annual-veteran",
   "metadata": {},
   "outputs": [],
   "source": [
    "fig = sc.pl.embedding(\n",
    "    atac_cerebrum, \"X_glue_umap\", gene_symbols=\"gene_name\", color=MARKERS,\n",
    "    vmin=0, vmax=\"p99.9\", return_fig=True\n",
    ")\n",
    "for i, ax in enumerate(fig.axes):\n",
    "    if i % 2 == 0:\n",
    "        ax.set_xlabel(\"UMAP1\")\n",
    "        ax.set_ylabel(\"UMAP2\")\n",
    "fig.savefig(f\"{PATH}/cerebrum/atac_excitatory_neuron.pdf\")"
   ]
  },
  {
   "cell_type": "markdown",
   "id": "banned-absorption",
   "metadata": {},
   "source": [
    "## Astrocyte markers"
   ]
  },
  {
   "cell_type": "code",
   "execution_count": null,
   "id": "published-canadian",
   "metadata": {},
   "outputs": [],
   "source": [
    "MARKERS = [\n",
    "    \"SLC1A3\", \"AQP4\", \"PAX3\", \"GFAP\",\n",
    "    \"RFX4\", \"PTN\", \"MMD2\", \"ATP1A2\"\n",
    "]"
   ]
  },
  {
   "cell_type": "code",
   "execution_count": null,
   "id": "labeled-circulation",
   "metadata": {},
   "outputs": [],
   "source": [
    "fig = sc.pl.embedding(\n",
    "    rna_cerebrum, \"X_glue_umap\", gene_symbols=\"gene_name\", color=MARKERS,\n",
    "    vmin=0, vmax=\"p99.9\", return_fig=True\n",
    ")\n",
    "for i, ax in enumerate(fig.axes):\n",
    "    if i % 2 == 0:\n",
    "        ax.set_xlabel(\"UMAP1\")\n",
    "        ax.set_ylabel(\"UMAP2\")\n",
    "fig.savefig(f\"{PATH}/cerebrum/rna_astrocyte.pdf\")"
   ]
  },
  {
   "cell_type": "code",
   "execution_count": null,
   "id": "piano-editing",
   "metadata": {},
   "outputs": [],
   "source": [
    "fig = sc.pl.embedding(\n",
    "    atac_cerebrum, \"X_glue_umap\", gene_symbols=\"gene_name\", color=MARKERS,\n",
    "    vmin=0, vmax=\"p99.9\", return_fig=True\n",
    ")\n",
    "for i, ax in enumerate(fig.axes):\n",
    "    if i % 2 == 0:\n",
    "        ax.set_xlabel(\"UMAP1\")\n",
    "        ax.set_ylabel(\"UMAP2\")\n",
    "fig.savefig(f\"{PATH}/cerebrum/atac_astrocyte.pdf\")"
   ]
  },
  {
   "cell_type": "markdown",
   "id": "logical-freeware",
   "metadata": {},
   "source": [
    "## Oligodendrocyte markers"
   ]
  },
  {
   "cell_type": "code",
   "execution_count": null,
   "id": "governmental-white",
   "metadata": {},
   "outputs": [],
   "source": [
    "MARKERS = [\n",
    "    \"SOX10\", \"LHFPL3\", \"PCDH15\", \"SCN1A\",\n",
    "    \"ZNF365\", \"PDGFRA\", \"BRINP3\", \"PDE4B\"\n",
    "]"
   ]
  },
  {
   "cell_type": "code",
   "execution_count": null,
   "id": "postal-separation",
   "metadata": {},
   "outputs": [],
   "source": [
    "fig = sc.pl.embedding(\n",
    "    rna_cerebrum, \"X_glue_umap\", gene_symbols=\"gene_name\", color=MARKERS,\n",
    "    vmin=0, vmax=\"p99.9\", return_fig=True\n",
    ")\n",
    "for i, ax in enumerate(fig.axes):\n",
    "    if i % 2 == 0:\n",
    "        ax.set_xlabel(\"UMAP1\")\n",
    "        ax.set_ylabel(\"UMAP2\")\n",
    "fig.savefig(f\"{PATH}/cerebrum/rna_oligodendrocyte.pdf\")"
   ]
  },
  {
   "cell_type": "code",
   "execution_count": null,
   "id": "sorted-luther",
   "metadata": {},
   "outputs": [],
   "source": [
    "fig = sc.pl.embedding(\n",
    "    atac_cerebrum, \"X_glue_umap\", gene_symbols=\"gene_name\", color=MARKERS,\n",
    "    vmin=0, vmax=\"p99.9\", return_fig=True\n",
    ")\n",
    "for i, ax in enumerate(fig.axes):\n",
    "    if i % 2 == 0:\n",
    "        ax.set_xlabel(\"UMAP1\")\n",
    "        ax.set_ylabel(\"UMAP2\")\n",
    "fig.savefig(f\"{PATH}/cerebrum/atac_oligodendrocyte.pdf\")"
   ]
  }
 ],
 "metadata": {
  "kernelspec": {
   "display_name": "Python 3",
   "language": "python",
   "name": "python3"
  },
  "language_info": {
   "codemirror_mode": {
    "name": "ipython",
    "version": 3
   },
   "file_extension": ".py",
   "mimetype": "text/x-python",
   "name": "python",
   "nbconvert_exporter": "python",
   "pygments_lexer": "ipython3",
   "version": "3.8.5"
  },
  "toc-autonumbering": true
 },
 "nbformat": 4,
 "nbformat_minor": 5
}
