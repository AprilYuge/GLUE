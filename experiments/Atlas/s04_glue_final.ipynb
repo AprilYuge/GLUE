{
 "cells": [
  {
   "cell_type": "code",
   "execution_count": null,
   "id": "studied-galaxy",
   "metadata": {},
   "outputs": [],
   "source": [
    "import os\n",
    "\n",
    "import anndata\n",
    "import matplotlib.pyplot as plt\n",
    "import networkx as nx\n",
    "import numpy as np\n",
    "import pandas as pd\n",
    "import scanpy as sc\n",
    "from matplotlib import patches, rcParams\n",
    "\n",
    "import scglue"
   ]
  },
  {
   "cell_type": "code",
   "execution_count": null,
   "id": "julian-series",
   "metadata": {},
   "outputs": [],
   "source": [
    "scglue.plot.set_publication_params()\n",
    "rcParams[\"figure.figsize\"] = (7, 7)\n",
    "\n",
    "PATH = \"s04_glue_final\"\n",
    "os.makedirs(PATH, exist_ok=True)"
   ]
  },
  {
   "cell_type": "markdown",
   "id": "false-herald",
   "metadata": {},
   "source": [
    "# Aggregated data"
   ]
  },
  {
   "cell_type": "markdown",
   "id": "thirty-chase",
   "metadata": {},
   "source": [
    "## Read data"
   ]
  },
  {
   "cell_type": "code",
   "execution_count": null,
   "id": "acknowledged-establishment",
   "metadata": {},
   "outputs": [],
   "source": [
    "rna_agg = anndata.read_h5ad(\"s03_unsupervised_balancing/rna_agg_balanced.h5ad\")\n",
    "atac_agg = anndata.read_h5ad(\"s03_unsupervised_balancing/atac_agg_balanced.h5ad\")\n",
    "prior = nx.read_graphml(\"s01_preprocessing/sub.graphml.gz\")"
   ]
  },
  {
   "cell_type": "markdown",
   "id": "reduced-concern",
   "metadata": {},
   "source": [
    "## GLUE"
   ]
  },
  {
   "cell_type": "code",
   "execution_count": null,
   "id": "adaptive-packing",
   "metadata": {},
   "outputs": [],
   "source": [
    "vertices = sorted(prior.nodes)\n",
    "scglue.models.configure_dataset(rna_agg, \"NB\", use_highly_variable=True, use_rep=\"X_pca\", use_dsc_weight=\"np_balancing\")\n",
    "scglue.models.configure_dataset(atac_agg, \"NB\", use_highly_variable=True, use_rep=\"X_lsi\", use_dsc_weight=\"np_balancing\")\n",
    "glue = scglue.models.SCGLUEModel(\n",
    "    {\"rna\": rna_agg, \"atac\": atac_agg}, vertices,\n",
    "    h_dim=512, random_seed=0\n",
    ")"
   ]
  },
  {
   "cell_type": "code",
   "execution_count": null,
   "id": "functional-diversity",
   "metadata": {
    "scrolled": true,
    "tags": []
   },
   "outputs": [],
   "source": [
    "glue_pretrain = scglue.models.load_model(\"s02_glue_pretrain/final.dill\")\n",
    "glue.adopt_pretrained_model(glue_pretrain)"
   ]
  },
  {
   "cell_type": "code",
   "execution_count": null,
   "id": "taken-glucose",
   "metadata": {
    "tags": []
   },
   "outputs": [],
   "source": [
    "glue.compile(lr=1e-3)\n",
    "glue.fit(\n",
    "    {\"rna\": rna_agg, \"atac\": atac_agg}, prior,\n",
    "    edge_weight=\"weight\", edge_sign=\"sign\",\n",
    "    directory=f\"{PATH}/agg\"\n",
    ")\n",
    "glue.save(f\"{PATH}/agg/final.dill\")"
   ]
  },
  {
   "cell_type": "code",
   "execution_count": null,
   "id": "harmful-judges",
   "metadata": {},
   "outputs": [],
   "source": [
    "rna_agg.obsm[\"X_glue\"] = glue.encode_data(\"rna\", rna_agg)\n",
    "atac_agg.obsm[\"X_glue\"] = glue.encode_data(\"atac\", atac_agg)"
   ]
  },
  {
   "cell_type": "markdown",
   "id": "selective-fortune",
   "metadata": {},
   "source": [
    "## Visualization"
   ]
  },
  {
   "cell_type": "code",
   "execution_count": null,
   "id": "satisfactory-spyware",
   "metadata": {},
   "outputs": [],
   "source": [
    "combined_agg = anndata.AnnData(\n",
    "    obs=pd.concat([rna_agg.obs, atac_agg.obs], join=\"inner\"),\n",
    "    obsm={\"X_glue\": np.concatenate([rna_agg.obsm[\"X_glue\"], atac_agg.obsm[\"X_glue\"]])}\n",
    ")"
   ]
  },
  {
   "cell_type": "code",
   "execution_count": null,
   "id": "dirty-settle",
   "metadata": {},
   "outputs": [],
   "source": [
    "sc.pp.neighbors(\n",
    "    combined_agg, n_pcs=combined_agg.obsm[\"X_glue\"].shape[1],\n",
    "    use_rep=\"X_glue\", metric=\"cosine\"\n",
    ")\n",
    "sc.tl.umap(combined_agg)"
   ]
  },
  {
   "cell_type": "code",
   "execution_count": null,
   "id": "viral-chocolate",
   "metadata": {},
   "outputs": [],
   "source": [
    "fig = sc.pl.umap(\n",
    "    combined_agg, color=\"cell_type\",\n",
    "    title=\"Cell type (aggregated)\", return_fig=True\n",
    ")\n",
    "ct_handles, ct_labels = fig.axes[0].get_legend_handles_labels()\n",
    "fig.axes[0].get_legend().remove()\n",
    "fig.savefig(f\"{PATH}/agg/combined_ct.pdf\")"
   ]
  },
  {
   "cell_type": "code",
   "execution_count": null,
   "id": "close-influence",
   "metadata": {},
   "outputs": [],
   "source": [
    "fig = sc.pl.umap(\n",
    "    combined_agg, color=\"domain\",\n",
    "    title=\"Omics layer (aggregated)\", return_fig=True\n",
    ")\n",
    "domain_handles, domain_labels = fig.axes[0].get_legend_handles_labels()\n",
    "fig.axes[0].get_legend().remove()\n",
    "fig.savefig(f\"{PATH}/agg/combined_domain.pdf\")"
   ]
  },
  {
   "cell_type": "code",
   "execution_count": null,
   "id": "personalized-wrapping",
   "metadata": {},
   "outputs": [],
   "source": [
    "fig, ax = plt.subplots()\n",
    "ax.set_visible(False)\n",
    "placeholder = patches.Rectangle((0, 0), 1, 1, visible=False)\n",
    "handles = [placeholder, *domain_handles, placeholder, placeholder, *ct_handles]\n",
    "labels = [\"Omics layer\", *domain_labels, \"\", \"Cell type\", *ct_labels]\n",
    "fig.legend(handles, labels, ncol=5, frameon=False)\n",
    "fig.savefig(f\"{PATH}/agg/combined_legend.pdf\")"
   ]
  },
  {
   "cell_type": "code",
   "execution_count": null,
   "id": "northern-composition",
   "metadata": {},
   "outputs": [],
   "source": [
    "rna_agg.obsm[\"X_glue_umap\"] = combined_agg[rna_agg.obs_names, :].obsm[\"X_umap\"]\n",
    "atac_agg.obsm[\"X_glue_umap\"] = combined_agg[atac_agg.obs_names, :].obsm[\"X_umap\"]"
   ]
  },
  {
   "cell_type": "code",
   "execution_count": null,
   "id": "lined-group",
   "metadata": {},
   "outputs": [],
   "source": [
    "rna_agg.obs[\"cell_type\"].cat.set_categories(combined_agg.obs[\"cell_type\"].cat.categories, inplace=True)\n",
    "atac_agg.obs[\"cell_type\"].cat.set_categories(combined_agg.obs[\"cell_type\"].cat.categories, inplace=True)"
   ]
  },
  {
   "cell_type": "code",
   "execution_count": null,
   "id": "straight-algorithm",
   "metadata": {},
   "outputs": [],
   "source": [
    "rna_agg.uns[\"cell_type_colors\"] = combined_agg.uns[\"cell_type_colors\"]\n",
    "atac_agg.uns[\"cell_type_colors\"] = combined_agg.uns[\"cell_type_colors\"]"
   ]
  },
  {
   "cell_type": "code",
   "execution_count": null,
   "id": "given-touch",
   "metadata": {},
   "outputs": [],
   "source": [
    "fig = sc.pl.embedding(\n",
    "    rna_agg, \"X_glue_umap\", color=\"cell_type\",\n",
    "    title=\"scRNA-seq cell type (aggregated)\", return_fig=True,\n",
    "    legend_loc=\"on data\", legend_fontsize=4, legend_fontoutline=0.5\n",
    ")\n",
    "fig.axes[0].set_xlabel(\"UMAP1\")\n",
    "fig.axes[0].set_ylabel(\"UMAP2\")\n",
    "fig.savefig(f\"{PATH}/agg/rna_ct.pdf\")"
   ]
  },
  {
   "cell_type": "code",
   "execution_count": null,
   "id": "weird-packet",
   "metadata": {},
   "outputs": [],
   "source": [
    "fig = sc.pl.embedding(\n",
    "    atac_agg, \"X_glue_umap\", color=\"cell_type\",\n",
    "    title=\"scATAC-seq cell type (aggregated)\", return_fig=True,\n",
    "    legend_loc=\"on data\", legend_fontsize=4, legend_fontoutline=0.5\n",
    ")\n",
    "fig.axes[0].set_xlabel(\"UMAP1\")\n",
    "fig.axes[0].set_ylabel(\"UMAP2\")\n",
    "fig.savefig(f\"{PATH}/agg/atac_ct.pdf\")"
   ]
  },
  {
   "cell_type": "markdown",
   "id": "proved-poetry",
   "metadata": {},
   "source": [
    "## Save results"
   ]
  },
  {
   "cell_type": "code",
   "execution_count": null,
   "id": "christian-tract",
   "metadata": {},
   "outputs": [],
   "source": [
    "rna_agg.write(f\"{PATH}/agg/rna_agg.h5ad\", compression=\"gzip\")\n",
    "atac_agg.write(f\"{PATH}/agg/atac_agg.h5ad\", compression=\"gzip\")\n",
    "combined_agg.write(f\"{PATH}/agg/combined_agg.h5ad\", compression=\"gzip\")"
   ]
  },
  {
   "cell_type": "markdown",
   "id": "intensive-christianity",
   "metadata": {},
   "source": [
    "# Full data"
   ]
  },
  {
   "cell_type": "markdown",
   "id": "possible-rover",
   "metadata": {},
   "source": [
    "## Read data"
   ]
  },
  {
   "cell_type": "code",
   "execution_count": null,
   "id": "insured-punch",
   "metadata": {},
   "outputs": [],
   "source": [
    "rna = anndata.read_h5ad(\"s03_unsupervised_balancing/rna_balanced.h5ad\")\n",
    "atac = anndata.read_h5ad(\"s03_unsupervised_balancing/atac_balanced.h5ad\")\n",
    "prior = nx.read_graphml(\"s01_preprocessing/sub.graphml.gz\")"
   ]
  },
  {
   "cell_type": "markdown",
   "id": "listed-quick",
   "metadata": {},
   "source": [
    "## GLUE"
   ]
  },
  {
   "cell_type": "code",
   "execution_count": null,
   "id": "specialized-electric",
   "metadata": {},
   "outputs": [],
   "source": [
    "vertices = sorted(prior.nodes)\n",
    "scglue.models.configure_dataset(rna, \"NB\", use_highly_variable=True, use_rep=\"X_pca\", use_dsc_weight=\"nc_balancing\")\n",
    "scglue.models.configure_dataset(atac, \"NB\", use_highly_variable=True, use_rep=\"X_lsi\", use_dsc_weight=\"nc_balancing\")\n",
    "glue = scglue.models.SCGLUEModel(\n",
    "    {\"rna\": rna, \"atac\": atac}, vertices,\n",
    "    h_dim=512, random_seed=0\n",
    ")"
   ]
  },
  {
   "cell_type": "code",
   "execution_count": null,
   "id": "weird-investigation",
   "metadata": {
    "scrolled": true,
    "tags": []
   },
   "outputs": [],
   "source": [
    "glue_agg = scglue.models.load_model(f\"{PATH}/agg/final.dill\")\n",
    "glue.adopt_pretrained_model(glue_agg)"
   ]
  },
  {
   "cell_type": "code",
   "execution_count": null,
   "id": "olympic-boulder",
   "metadata": {
    "tags": []
   },
   "outputs": [],
   "source": [
    "glue.compile(lr=5e-4)\n",
    "glue.fit(\n",
    "    {\"rna\": rna, \"atac\": atac}, prior,\n",
    "    edge_weight=\"weight\", edge_sign=\"sign\",\n",
    "    align_burnin=0, data_batch_size=512,\n",
    "    directory=f\"{PATH}/full\"\n",
    ")\n",
    "glue.save(f\"{PATH}/full/final.dill\")"
   ]
  },
  {
   "cell_type": "code",
   "execution_count": null,
   "id": "formed-passport",
   "metadata": {},
   "outputs": [],
   "source": [
    "rna.obsm[\"X_glue\"] = glue.encode_data(\"rna\", rna)\n",
    "atac.obsm[\"X_glue\"] = glue.encode_data(\"atac\", atac)"
   ]
  },
  {
   "cell_type": "markdown",
   "id": "viral-maryland",
   "metadata": {},
   "source": [
    "## Visualization"
   ]
  },
  {
   "cell_type": "code",
   "execution_count": null,
   "id": "ready-plant",
   "metadata": {},
   "outputs": [],
   "source": [
    "combined = anndata.AnnData(\n",
    "    obs=pd.concat([rna.obs, atac.obs], join=\"inner\"),\n",
    "    obsm={\"X_glue\": np.concatenate([rna.obsm[\"X_glue\"], atac.obsm[\"X_glue\"]])}\n",
    ")"
   ]
  },
  {
   "cell_type": "code",
   "execution_count": null,
   "id": "continued-sauce",
   "metadata": {},
   "outputs": [],
   "source": [
    "sc.pp.neighbors(\n",
    "    combined, n_pcs=combined.obsm[\"X_glue\"].shape[1],\n",
    "    use_rep=\"X_glue\", metric=\"cosine\"\n",
    ")\n",
    "sc.tl.umap(combined)"
   ]
  },
  {
   "cell_type": "code",
   "execution_count": null,
   "id": "outside-finding",
   "metadata": {},
   "outputs": [],
   "source": [
    "fig = sc.pl.umap(\n",
    "    combined, color=\"cell_type\",\n",
    "    title=\"Cell type\", return_fig=True\n",
    ")\n",
    "ct_handles, ct_labels = fig.axes[0].get_legend_handles_labels()\n",
    "fig.axes[0].get_legend().remove()\n",
    "fig.savefig(f\"{PATH}/full/combined_ct.pdf\")"
   ]
  },
  {
   "cell_type": "code",
   "execution_count": null,
   "id": "attractive-navigation",
   "metadata": {},
   "outputs": [],
   "source": [
    "fig = sc.pl.umap(\n",
    "    combined, color=\"domain\",\n",
    "    title=\"Omics layer\", return_fig=True\n",
    ")\n",
    "domain_handles, domain_labels = fig.axes[0].get_legend_handles_labels()\n",
    "fig.axes[0].get_legend().remove()\n",
    "fig.savefig(f\"{PATH}/full/combined_domain.pdf\")"
   ]
  },
  {
   "cell_type": "code",
   "execution_count": null,
   "id": "received-idaho",
   "metadata": {},
   "outputs": [],
   "source": [
    "fig, ax = plt.subplots()\n",
    "ax.set_visible(False)\n",
    "placeholder = patches.Rectangle((0, 0), 1, 1, visible=False)\n",
    "handles = [placeholder, *domain_handles, placeholder, placeholder, *ct_handles]\n",
    "labels = [\"Omics layer\", *domain_labels, \"\", \"Cell type\", *ct_labels]\n",
    "fig.legend(handles, labels, ncol=5, frameon=False)\n",
    "fig.savefig(f\"{PATH}/full/combined_legend.pdf\")"
   ]
  },
  {
   "cell_type": "code",
   "execution_count": null,
   "id": "behind-bradley",
   "metadata": {},
   "outputs": [],
   "source": [
    "rna.obsm[\"X_glue_umap\"] = combined[rna.obs_names, :].obsm[\"X_umap\"]\n",
    "atac.obsm[\"X_glue_umap\"] = combined[atac.obs_names, :].obsm[\"X_umap\"]"
   ]
  },
  {
   "cell_type": "code",
   "execution_count": null,
   "id": "surprising-worker",
   "metadata": {},
   "outputs": [],
   "source": [
    "rna.obs[\"cell_type\"].cat.set_categories(combined.obs[\"cell_type\"].cat.categories, inplace=True)\n",
    "atac.obs[\"cell_type\"].cat.set_categories(combined.obs[\"cell_type\"].cat.categories, inplace=True)"
   ]
  },
  {
   "cell_type": "code",
   "execution_count": null,
   "id": "adjustable-dream",
   "metadata": {},
   "outputs": [],
   "source": [
    "rna.uns[\"cell_type_colors\"] = combined.uns[\"cell_type_colors\"]\n",
    "atac.uns[\"cell_type_colors\"] = combined.uns[\"cell_type_colors\"]"
   ]
  },
  {
   "cell_type": "code",
   "execution_count": null,
   "id": "selective-turtle",
   "metadata": {},
   "outputs": [],
   "source": [
    "fig = sc.pl.embedding(\n",
    "    rna, \"X_glue_umap\", color=\"cell_type\",\n",
    "    title=\"scRNA-seq cell type\", return_fig=True,\n",
    "    legend_loc=\"on data\", legend_fontsize=4, legend_fontoutline=0.5\n",
    ")\n",
    "fig.axes[0].set_xlabel(\"UMAP1\")\n",
    "fig.axes[0].set_ylabel(\"UMAP2\")\n",
    "fig.savefig(f\"{PATH}/full/rna_ct.pdf\")"
   ]
  },
  {
   "cell_type": "code",
   "execution_count": null,
   "id": "smart-empty",
   "metadata": {},
   "outputs": [],
   "source": [
    "fig = sc.pl.embedding(\n",
    "    atac, \"X_glue_umap\", color=\"cell_type\",\n",
    "    title=\"scATAC-seq cell type\", return_fig=True,\n",
    "    legend_loc=\"on data\", legend_fontsize=4, legend_fontoutline=0.5\n",
    ")\n",
    "fig.axes[0].set_xlabel(\"UMAP1\")\n",
    "fig.axes[0].set_ylabel(\"UMAP2\")\n",
    "fig.savefig(f\"{PATH}/full/atac_ct.pdf\")"
   ]
  },
  {
   "cell_type": "markdown",
   "id": "brave-madagascar",
   "metadata": {},
   "source": [
    "## Save results"
   ]
  },
  {
   "cell_type": "code",
   "execution_count": null,
   "id": "golden-reach",
   "metadata": {},
   "outputs": [],
   "source": [
    "rna.write(f\"{PATH}/full/rna.h5ad\", compression=\"gzip\")\n",
    "atac.write(f\"{PATH}/full/atac.h5ad\", compression=\"gzip\")\n",
    "combined.write(f\"{PATH}/full/combined.h5ad\", compression=\"gzip\")"
   ]
  }
 ],
 "metadata": {
  "kernelspec": {
   "display_name": "Python 3",
   "language": "python",
   "name": "python3"
  },
  "language_info": {
   "codemirror_mode": {
    "name": "ipython",
    "version": 3
   },
   "file_extension": ".py",
   "mimetype": "text/x-python",
   "name": "python",
   "nbconvert_exporter": "python",
   "pygments_lexer": "ipython3",
   "version": "3.8.5"
  },
  "toc-autonumbering": true
 },
 "nbformat": 4,
 "nbformat_minor": 5
}
