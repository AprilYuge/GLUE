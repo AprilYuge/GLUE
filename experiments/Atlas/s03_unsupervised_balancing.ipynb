{
 "cells": [
  {
   "cell_type": "code",
   "execution_count": null,
   "id": "resident-listening",
   "metadata": {},
   "outputs": [],
   "source": [
    "import os\n",
    "\n",
    "import anndata\n",
    "import numpy as np\n",
    "import matplotlib.pyplot as plt\n",
    "import pandas as pd\n",
    "import scanpy as sc\n",
    "import scipy.stats\n",
    "import seaborn as sns\n",
    "from matplotlib import rcParams\n",
    "from scipy.cluster.hierarchy import linkage\n",
    "from scipy.spatial.distance import pdist, cdist\n",
    "\n",
    "import scglue"
   ]
  },
  {
   "cell_type": "code",
   "execution_count": null,
   "id": "loved-discussion",
   "metadata": {},
   "outputs": [],
   "source": [
    "scglue.plot.set_publication_params()\n",
    "rcParams[\"figure.figsize\"] = (7, 7)\n",
    "\n",
    "PATH = \"s03_unsupervised_balancing\"\n",
    "os.makedirs(PATH, exist_ok=True)"
   ]
  },
  {
   "cell_type": "markdown",
   "id": "norwegian-pledge",
   "metadata": {},
   "source": [
    "# Read data"
   ]
  },
  {
   "cell_type": "code",
   "execution_count": null,
   "id": "comparable-empire",
   "metadata": {},
   "outputs": [],
   "source": [
    "rna = anndata.read_h5ad(\"s01_preprocessing/rna.h5ad\")\n",
    "atac = anndata.read_h5ad(\"s01_preprocessing/atac.h5ad\")"
   ]
  },
  {
   "cell_type": "code",
   "execution_count": null,
   "id": "mobile-mattress",
   "metadata": {},
   "outputs": [],
   "source": [
    "rna_agg = anndata.read_h5ad(\"s02_glue_pretrain/rna_agg.h5ad\")\n",
    "atac_agg = anndata.read_h5ad(\"s02_glue_pretrain/atac_agg.h5ad\")"
   ]
  },
  {
   "cell_type": "markdown",
   "id": "fresh-anaheim",
   "metadata": {},
   "source": [
    "# Clustering"
   ]
  },
  {
   "cell_type": "markdown",
   "id": "regulated-services",
   "metadata": {},
   "source": [
    "We need another level of clustering because:\n",
    "* The pseudocell level clustering must retain enough sample size and not distort the distribution of aggregated profiles too much. So it inherently requires a lot of clusters with small cluster size.\n",
    "* For cluster matching, larger clusters make more sense."
   ]
  },
  {
   "cell_type": "code",
   "execution_count": null,
   "id": "applicable-agreement",
   "metadata": {},
   "outputs": [],
   "source": [
    "sc.pp.neighbors(rna_agg, n_pcs=rna_agg.obsm[\"X_glue\"].shape[1], use_rep=\"X_glue\", metric=\"cosine\")\n",
    "sc.tl.leiden(rna_agg, resolution=2, random_state=0)\n",
    "rna_agg.obs[\"leiden\"].cat.rename_categories(lambda x: f\"rna-leiden-{x}\", inplace=True)"
   ]
  },
  {
   "cell_type": "code",
   "execution_count": null,
   "id": "returning-comparative",
   "metadata": {},
   "outputs": [],
   "source": [
    "sc.pp.neighbors(atac_agg, n_pcs=atac_agg.obsm[\"X_glue\"].shape[1], use_rep=\"X_glue\", metric=\"cosine\")\n",
    "sc.tl.leiden(atac_agg, resolution=2, random_state=0)\n",
    "atac_agg.obs[\"leiden\"].cat.rename_categories(lambda x: f\"atac-leiden-{x}\", inplace=True)"
   ]
  },
  {
   "cell_type": "markdown",
   "id": "random-ladder",
   "metadata": {},
   "source": [
    "# Visualization"
   ]
  },
  {
   "cell_type": "code",
   "execution_count": null,
   "id": "played-taylor",
   "metadata": {},
   "outputs": [],
   "source": [
    "combined_agg = anndata.AnnData(\n",
    "    obs=pd.concat([rna_agg.obs, atac_agg.obs], join=\"inner\"),\n",
    "    obsm={\n",
    "        \"X_glue\": np.concatenate([rna_agg.obsm[\"X_glue\"], atac_agg.obsm[\"X_glue\"]]),\n",
    "        \"X_glue_umap\": np.concatenate([rna_agg.obsm[\"X_glue_umap\"], atac_agg.obsm[\"X_glue_umap\"]])\n",
    "    }\n",
    ")"
   ]
  },
  {
   "cell_type": "code",
   "execution_count": null,
   "id": "behavioral-mercy",
   "metadata": {},
   "outputs": [],
   "source": [
    "fig = sc.pl.embedding(\n",
    "    combined_agg, \"X_glue_umap\", color=\"leiden\", return_fig=True,\n",
    "    legend_loc=\"on data\", legend_fontsize=4, legend_fontoutline=0.5\n",
    ")\n",
    "fig.axes[0].set_xlabel(\"UMAP1\")\n",
    "fig.axes[0].set_ylabel(\"UMAP2\")\n",
    "fig.savefig(f\"{PATH}/combined_leiden.pdf\")"
   ]
  },
  {
   "cell_type": "markdown",
   "id": "linear-block",
   "metadata": {},
   "source": [
    "# Cross-domain heatmap"
   ]
  },
  {
   "cell_type": "code",
   "execution_count": null,
   "id": "least-illinois",
   "metadata": {},
   "outputs": [],
   "source": [
    "rna_agg.obs[\"n_pseudocells\"] = 1\n",
    "rna_leiden = scglue.data.aggregate_obs(\n",
    "    rna_agg, by=\"leiden\", X_agg=None,\n",
    "    obs_agg={\n",
    "        \"domain\": \"majority\", \"cell_type\": \"majority\",\n",
    "        \"n_pseudocells\": \"sum\", \"n_cells\": \"sum\"\n",
    "    },\n",
    "    obsm_agg={\"X_glue\": \"mean\", \"X_glue_umap\": \"mean\"}\n",
    ")"
   ]
  },
  {
   "cell_type": "code",
   "execution_count": null,
   "id": "vulnerable-relevance",
   "metadata": {},
   "outputs": [],
   "source": [
    "atac_agg.obs[\"n_pseudocells\"] = 1\n",
    "atac_leiden = scglue.data.aggregate_obs(\n",
    "    atac_agg, by=\"leiden\", X_agg=None,\n",
    "    obs_agg={\n",
    "        \"domain\": \"majority\", \"cell_type\": \"majority\",\n",
    "        \"n_pseudocells\": \"sum\", \"n_cells\": \"sum\"\n",
    "    },\n",
    "    obsm_agg={\"X_glue\": \"mean\", \"X_glue_umap\": \"mean\"}\n",
    ")"
   ]
  },
  {
   "cell_type": "code",
   "execution_count": null,
   "id": "norman-conducting",
   "metadata": {},
   "outputs": [],
   "source": [
    "u1 = rna_leiden.obsm[\"X_glue\"]\n",
    "u2 = atac_leiden.obsm[\"X_glue\"]\n",
    "np1 = rna_leiden.obs[\"n_pseudocells\"].to_numpy()\n",
    "np2 = atac_leiden.obs[\"n_pseudocells\"].to_numpy()\n",
    "nc1 = rna_leiden.obs[\"n_cells\"].to_numpy()\n",
    "nc2 = atac_leiden.obs[\"n_cells\"].to_numpy()\n",
    "\n",
    "link1 = linkage(pdist(u1, metric=\"cosine\"), method=\"average\")\n",
    "link2 = linkage(pdist(u2, metric=\"cosine\"), method=\"average\")\n",
    "\n",
    "cosine = 1 - cdist(u2, u1, metric=\"cosine\")\n",
    "cosine[cosine < 0.5] = np.nan  # Only keep highly-correlated pairs\n",
    "cosine = cosine ** 4  # Increase contrast"
   ]
  },
  {
   "cell_type": "code",
   "execution_count": null,
   "id": "hollow-canberra",
   "metadata": {
    "tags": []
   },
   "outputs": [],
   "source": [
    "heatmap_df = pd.DataFrame(\n",
    "    cosine,\n",
    "    index=atac_leiden.obs_names,\n",
    "    columns=rna_leiden.obs_names\n",
    ")\n",
    "g = sns.clustermap(\n",
    "    heatmap_df, row_linkage=link2, col_linkage=link1,\n",
    "    cmap=\"bwr\", center=0, xticklabels=1, yticklabels=1,\n",
    "    figsize=(14, 9)\n",
    ")\n",
    "g.fig.axes[2].xaxis.set_tick_params(labelsize=10)\n",
    "g.fig.axes[2].yaxis.set_tick_params(labelsize=10)\n",
    "g.fig.savefig(f\"{PATH}/leiden_heatmap.pdf\")"
   ]
  },
  {
   "cell_type": "markdown",
   "id": "south-differential",
   "metadata": {},
   "source": [
    "# Compute unsupervised balancing"
   ]
  },
  {
   "cell_type": "markdown",
   "id": "compatible-society",
   "metadata": {},
   "source": [
    "**NOTE:** We'd also want to squeeze those non-shared cell types to 0. In which case MNN might be able to help."
   ]
  },
  {
   "cell_type": "code",
   "execution_count": null,
   "id": "opposed-supply",
   "metadata": {},
   "outputs": [],
   "source": [
    "cosine[np.isnan(cosine)] = 0"
   ]
  },
  {
   "cell_type": "code",
   "execution_count": null,
   "id": "coastal-pride",
   "metadata": {
    "scrolled": true,
    "tags": []
   },
   "outputs": [],
   "source": [
    "normalizer = cosine.sum(axis=1, keepdims=True)\n",
    "normalizer[normalizer == 0] = 1  # Avoid division by zero\n",
    "np2to1 = (cosine / normalizer).T @ np2\n",
    "nc2to1 = (cosine / normalizer).T @ nc2\n",
    "np1_balancing = pd.Series(\n",
    "    np.sqrt((np2to1 / np2to1.sum()) / (np1 / (np1.sum()))),\n",
    "    index=rna_leiden.obs_names\n",
    ")\n",
    "nc1_balancing = pd.Series(\n",
    "    np.sqrt((nc2to1 / nc2to1.sum()) / (nc1 / (nc1.sum()))),\n",
    "    index=rna_leiden.obs_names\n",
    ")"
   ]
  },
  {
   "cell_type": "code",
   "execution_count": null,
   "id": "spiritual-lawsuit",
   "metadata": {},
   "outputs": [],
   "source": [
    "rna_agg.obs[\"np_balancing\"] = np1_balancing.loc[rna_agg.obs[\"leiden\"]].to_numpy()\n",
    "rna_agg.obs[\"nc_balancing\"] = nc1_balancing.loc[rna_agg.obs[\"leiden\"]].to_numpy()"
   ]
  },
  {
   "cell_type": "code",
   "execution_count": null,
   "id": "perfect-recipient",
   "metadata": {
    "scrolled": true,
    "tags": []
   },
   "outputs": [],
   "source": [
    "normalizer = cosine.sum(axis=0, keepdims=True)\n",
    "normalizer[normalizer == 0] = 1  # Avoid division by zero\n",
    "np1to2 = (cosine / normalizer) @ np1\n",
    "nc1to2 = (cosine / normalizer) @ nc1\n",
    "np2_balancing = pd.Series(\n",
    "    np.sqrt((np1to2 / np1to2.sum()) / (np2 / (np2.sum()))),\n",
    "    index=atac_leiden.obs_names\n",
    ")\n",
    "nc2_balancing = pd.Series(\n",
    "    np.sqrt((nc1to2 / nc1to2.sum()) / (nc2 / (nc2.sum()))),\n",
    "    index=atac_leiden.obs_names\n",
    ")"
   ]
  },
  {
   "cell_type": "code",
   "execution_count": null,
   "id": "formal-asset",
   "metadata": {},
   "outputs": [],
   "source": [
    "atac_agg.obs[\"np_balancing\"] = np2_balancing.loc[atac_agg.obs[\"leiden\"]].to_numpy()\n",
    "atac_agg.obs[\"nc_balancing\"] = nc2_balancing.loc[atac_agg.obs[\"leiden\"]].to_numpy()"
   ]
  },
  {
   "cell_type": "markdown",
   "id": "discrete-channel",
   "metadata": {},
   "source": [
    "# Compare balanced with original"
   ]
  },
  {
   "cell_type": "code",
   "execution_count": null,
   "id": "animal-visit",
   "metadata": {},
   "outputs": [],
   "source": [
    "rna_agg.obs[\"nc_balancing_\"] = rna_agg.obs[\"nc_balancing\"] * rna_agg.obs[\"n_cells\"]\n",
    "rna_df = rna_agg.obs.groupby(\"cell_type\").sum()\n",
    "rna_df = rna_df / rna_df.sum(axis=0)\n",
    "rna_df"
   ]
  },
  {
   "cell_type": "code",
   "execution_count": null,
   "id": "bizarre-stock",
   "metadata": {},
   "outputs": [],
   "source": [
    "atac_agg.obs[\"nc_balancing_\"] = atac_agg.obs[\"nc_balancing\"] * atac_agg.obs[\"n_cells\"]\n",
    "atac_df = atac_agg.obs.groupby(\"cell_type\").sum()\n",
    "atac_df = atac_df / atac_df.sum(axis=0)\n",
    "atac_df"
   ]
  },
  {
   "cell_type": "markdown",
   "id": "interesting-california",
   "metadata": {},
   "source": [
    "## Fraction of pseudocells"
   ]
  },
  {
   "cell_type": "code",
   "execution_count": null,
   "id": "deluxe-documentation",
   "metadata": {},
   "outputs": [],
   "source": [
    "df = pd.concat([\n",
    "    pd.DataFrame({\"scRNA-seq\": rna_df[\"n_pseudocells\"], \"scATAC-seq\": atac_df[\"n_pseudocells\"], \"Fraction\": \"Unbalanced\"}),\n",
    "    pd.DataFrame({\"scRNA-seq\": rna_df[\"np_balancing\"], \"scATAC-seq\": atac_df[\"np_balancing\"], \"Fraction\": \"Balanced\"})\n",
    "]).fillna(0)"
   ]
  },
  {
   "cell_type": "code",
   "execution_count": null,
   "id": "hawaiian-cotton",
   "metadata": {},
   "outputs": [],
   "source": [
    "rcParams[\"figure.figsize\"] = (4, 4)\n",
    "ax = sns.scatterplot(x=\"scRNA-seq\", y=\"scATAC-seq\", hue=\"Fraction\", data=df)\n",
    "ax.axline((0, 0), (1, 1), c=\"grey\", zorder=0, linestyle=\"--\")\n",
    "ax.set_xlim(-0.01, 0.35)\n",
    "ax.set_ylim(-0.01, 0.35)\n",
    "ax.get_figure().savefig(f\"{PATH}/leiden_pseudocell_fraction_cmp.pdf\") "
   ]
  },
  {
   "cell_type": "code",
   "execution_count": null,
   "id": "engaged-squad",
   "metadata": {},
   "outputs": [],
   "source": [
    "ax.set_xlim(-0.005, 0.10)\n",
    "ax.set_ylim(-0.005, 0.10)\n",
    "ax.get_figure().savefig(f\"{PATH}/leiden_pseudocell_fraction_cmp_zoomin.pdf\")\n",
    "ax.get_figure()"
   ]
  },
  {
   "cell_type": "code",
   "execution_count": null,
   "id": "educational-hughes",
   "metadata": {},
   "outputs": [],
   "source": [
    "scipy.stats.pearsonr(\n",
    "    df.query(\"Fraction == 'Balanced'\")[\"scRNA-seq\"],\n",
    "    df.query(\"Fraction == 'Balanced'\")[\"scATAC-seq\"]\n",
    ")"
   ]
  },
  {
   "cell_type": "markdown",
   "id": "republican-outline",
   "metadata": {},
   "source": [
    "## Fraction of cells"
   ]
  },
  {
   "cell_type": "code",
   "execution_count": null,
   "id": "tutorial-straight",
   "metadata": {},
   "outputs": [],
   "source": [
    "df = pd.concat([\n",
    "    pd.DataFrame({\"scRNA-seq\": rna_df[\"n_cells\"], \"scATAC-seq\": atac_df[\"n_cells\"], \"Fraction\": \"Unbalanced\"}),\n",
    "    pd.DataFrame({\"scRNA-seq\": rna_df[\"nc_balancing_\"], \"scATAC-seq\": atac_df[\"nc_balancing_\"], \"Fraction\": \"Balanced\"})\n",
    "]).fillna(0)"
   ]
  },
  {
   "cell_type": "code",
   "execution_count": null,
   "id": "scheduled-thread",
   "metadata": {},
   "outputs": [],
   "source": [
    "ax = sns.scatterplot(x=\"scRNA-seq\", y=\"scATAC-seq\", hue=\"Fraction\", data=df)\n",
    "ax.axline((0, 0), (1, 1), c=\"grey\", zorder=0, linestyle=\"--\")\n",
    "ax.set_xlim(-0.01, 0.35)\n",
    "ax.set_ylim(-0.01, 0.35)\n",
    "ax.get_figure().savefig(f\"{PATH}/leiden_cell_fraction_cmp.pdf\")"
   ]
  },
  {
   "cell_type": "code",
   "execution_count": null,
   "id": "casual-gossip",
   "metadata": {},
   "outputs": [],
   "source": [
    "ax.set_xlim(-0.005, 0.10)\n",
    "ax.set_ylim(-0.005, 0.10)\n",
    "ax.get_figure().savefig(f\"{PATH}/leiden_cell_fraction_cmp_zoomin.pdf\")\n",
    "ax.get_figure()"
   ]
  },
  {
   "cell_type": "code",
   "execution_count": null,
   "id": "spread-contrast",
   "metadata": {},
   "outputs": [],
   "source": [
    "scipy.stats.pearsonr(\n",
    "    df.query(\"Fraction == 'Balanced'\")[\"scRNA-seq\"],\n",
    "    df.query(\"Fraction == 'Balanced'\")[\"scATAC-seq\"]\n",
    ")"
   ]
  },
  {
   "cell_type": "markdown",
   "id": "polar-exhibition",
   "metadata": {},
   "source": [
    "# Propagate to unaggregated data"
   ]
  },
  {
   "cell_type": "code",
   "execution_count": null,
   "id": "automated-segment",
   "metadata": {},
   "outputs": [],
   "source": [
    "rna.obs[\"nc_balancing\"] = rna_agg.obs[\"nc_balancing\"].loc[\n",
    "    rna.obs[\"pseudocell\"].to_numpy()\n",
    "].to_numpy()"
   ]
  },
  {
   "cell_type": "code",
   "execution_count": null,
   "id": "uniform-roller",
   "metadata": {},
   "outputs": [],
   "source": [
    "atac.obs[\"nc_balancing\"] = atac_agg.obs[\"nc_balancing\"].loc[\n",
    "    atac.obs[\"pseudocell\"].to_numpy()\n",
    "].to_numpy()"
   ]
  },
  {
   "cell_type": "markdown",
   "id": "occupational-suspension",
   "metadata": {},
   "source": [
    "# Save results"
   ]
  },
  {
   "cell_type": "code",
   "execution_count": null,
   "id": "intensive-crisis",
   "metadata": {},
   "outputs": [],
   "source": [
    "rna_agg.write(f\"{PATH}/rna_agg_balanced.h5ad\", compression=\"gzip\")\n",
    "atac_agg.write(f\"{PATH}/atac_agg_balanced.h5ad\", compression=\"gzip\")"
   ]
  },
  {
   "cell_type": "code",
   "execution_count": null,
   "id": "compliant-looking",
   "metadata": {},
   "outputs": [],
   "source": [
    "rna.write(f\"{PATH}/rna_balanced.h5ad\", compression=\"gzip\")\n",
    "atac.write(f\"{PATH}/atac_balanced.h5ad\", compression=\"gzip\")"
   ]
  }
 ],
 "metadata": {
  "kernelspec": {
   "display_name": "Python 3",
   "language": "python",
   "name": "python3"
  },
  "language_info": {
   "codemirror_mode": {
    "name": "ipython",
    "version": 3
   },
   "file_extension": ".py",
   "mimetype": "text/x-python",
   "name": "python",
   "nbconvert_exporter": "python",
   "pygments_lexer": "ipython3",
   "version": "3.8.5"
  }
 },
 "nbformat": 4,
 "nbformat_minor": 5
}
