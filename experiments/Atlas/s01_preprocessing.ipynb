{
 "cells": [
  {
   "cell_type": "code",
   "execution_count": null,
   "id": "gross-grave",
   "metadata": {},
   "outputs": [],
   "source": [
    "import functools\n",
    "import gc\n",
    "import itertools\n",
    "import os\n",
    "\n",
    "import anndata\n",
    "import faiss\n",
    "import matplotlib.pyplot as plt\n",
    "import networkx as nx\n",
    "import numpy as np\n",
    "import pandas as pd\n",
    "import scanpy as sc\n",
    "import seaborn as sns\n",
    "from matplotlib import rcParams\n",
    "from sklearn.preprocessing import Normalizer\n",
    "from sklearn.utils.extmath import randomized_svd\n",
    "\n",
    "import scglue"
   ]
  },
  {
   "cell_type": "code",
   "execution_count": null,
   "id": "otherwise-uncle",
   "metadata": {},
   "outputs": [],
   "source": [
    "scglue.plot.set_publication_params()\n",
    "rcParams[\"figure.figsize\"] = (7, 7)\n",
    "\n",
    "PATH = \"s01_preprocessing\"\n",
    "os.makedirs(PATH, exist_ok=True)"
   ]
  },
  {
   "cell_type": "markdown",
   "id": "vocational-plasma",
   "metadata": {},
   "source": [
    "**NOTE:** Requires considerable amount of memory. Peak memory usage is ~200G."
   ]
  },
  {
   "cell_type": "markdown",
   "id": "photographic-blink",
   "metadata": {},
   "source": [
    "# Read data"
   ]
  },
  {
   "cell_type": "code",
   "execution_count": null,
   "id": "bright-button",
   "metadata": {},
   "outputs": [],
   "source": [
    "rna = anndata.read_h5ad(\"../../data/dataset/Cao-2020.h5ad\", backed=\"r\")\n",
    "atac = anndata.read_h5ad(\"../../data/dataset/Domcke-2020.h5ad\", backed=\"r\")"
   ]
  },
  {
   "cell_type": "markdown",
   "id": "continued-decrease",
   "metadata": {},
   "source": [
    "# Organ balancing"
   ]
  },
  {
   "cell_type": "code",
   "execution_count": null,
   "id": "composed-calendar",
   "metadata": {},
   "outputs": [],
   "source": [
    "rna_organ_fracs = rna.obs[\"Organ\"].str.lower().value_counts() / rna.shape[0]\n",
    "atac_organ_fracs = atac.obs[\"tissue\"].str.lower().value_counts() / atac.shape[0]\n",
    "cmp_organ_fracs = pd.DataFrame({\"rna\": rna_organ_fracs, \"atac\": atac_organ_fracs})"
   ]
  },
  {
   "cell_type": "code",
   "execution_count": null,
   "id": "indirect-agriculture",
   "metadata": {},
   "outputs": [],
   "source": [
    "fig, ax = plt.subplots(figsize=(4, 4))\n",
    "ax = sns.scatterplot(\n",
    "    x=\"rna\", y=\"atac\", data=cmp_organ_fracs, ax=ax,\n",
    "    edgecolor=None, s=25\n",
    ")\n",
    "ax.axline((0, 0), (0.45, 0.45), c=\"darkred\", ls=\"--\")\n",
    "ax.set_xlabel(\"scRNA-seq\")\n",
    "ax.set_ylabel(\"scATAC-seq\")\n",
    "ax.spines[\"top\"].set_visible(False)\n",
    "ax.spines[\"right\"].set_visible(False)\n",
    "fig.savefig(f\"{PATH}/cmp_organ_fracs.pdf\", bbox_inches=\"tight\")"
   ]
  },
  {
   "cell_type": "code",
   "execution_count": null,
   "id": "pressed-bible",
   "metadata": {},
   "outputs": [],
   "source": [
    "organ_min_fracs = cmp_organ_fracs.min(axis=1)\n",
    "organ_min_fracs"
   ]
  },
  {
   "cell_type": "markdown",
   "id": "charged-civilization",
   "metadata": {},
   "source": [
    "## Subsample mask"
   ]
  },
  {
   "cell_type": "markdown",
   "id": "competent-briefing",
   "metadata": {},
   "source": [
    "Data subsampled with this mask have balanced organ composition across RNA and ATAC."
   ]
  },
  {
   "cell_type": "code",
   "execution_count": null,
   "id": "plastic-third",
   "metadata": {
    "tags": []
   },
   "outputs": [],
   "source": [
    "rs = np.random.RandomState(0)\n",
    "rna_subidx, atac_subidx = [], []\n",
    "for organ, min_frac in organ_min_fracs.iteritems():\n",
    "    print(f\"Dealing with {organ}...\")\n",
    "    rna_idx = np.where(rna.obs[\"Organ\"].str.lower() == organ)[0]\n",
    "    rna_subidx.append(rs.choice(rna_idx, round(min_frac * rna.shape[0]), replace=False))\n",
    "    atac_idx = np.where(atac.obs[\"tissue\"].str.lower() == organ)[0]\n",
    "    atac_subidx.append(rs.choice(atac_idx, round(min_frac * atac.shape[0]), replace=False))\n",
    "rna_subidx = np.concatenate(rna_subidx)\n",
    "rna_mask = np.zeros(rna.shape[0], dtype=bool)\n",
    "rna_mask[rna_subidx] = True\n",
    "rna.obs[\"mask\"] = rna_mask\n",
    "atac_subidx = np.concatenate(atac_subidx)\n",
    "atac_mask = np.zeros(atac.shape[0], dtype=bool)\n",
    "atac_mask[atac_subidx] = True\n",
    "atac.obs[\"mask\"] = atac_mask"
   ]
  },
  {
   "cell_type": "markdown",
   "id": "invalid-nebraska",
   "metadata": {},
   "source": [
    "## Balancing weights"
   ]
  },
  {
   "cell_type": "code",
   "execution_count": null,
   "id": "smoking-subdivision",
   "metadata": {},
   "outputs": [],
   "source": [
    "rna_organ_balancing = np.sqrt(cmp_organ_fracs[\"atac\"] / cmp_organ_fracs[\"rna\"])\n",
    "atac_organ_balancing = np.sqrt(cmp_organ_fracs[\"rna\"] / cmp_organ_fracs[\"atac\"])"
   ]
  },
  {
   "cell_type": "code",
   "execution_count": null,
   "id": "modern-deviation",
   "metadata": {},
   "outputs": [],
   "source": [
    "rna.obs[\"organ_balancing\"] = rna_organ_balancing.loc[rna.obs[\"Organ\"].str.lower()].to_numpy()\n",
    "atac.obs[\"organ_balancing\"] = atac_organ_balancing.loc[atac.obs[\"tissue\"].str.lower()].to_numpy()"
   ]
  },
  {
   "cell_type": "markdown",
   "id": "posted-manor",
   "metadata": {},
   "source": [
    "# RNA"
   ]
  },
  {
   "cell_type": "code",
   "execution_count": null,
   "id": "serious-federal",
   "metadata": {},
   "outputs": [],
   "source": [
    "rna = rna.to_memory()"
   ]
  },
  {
   "cell_type": "markdown",
   "id": "backed-creation",
   "metadata": {},
   "source": [
    "## Gene selection"
   ]
  },
  {
   "cell_type": "code",
   "execution_count": null,
   "id": "ahead-tissue",
   "metadata": {
    "tags": []
   },
   "outputs": [],
   "source": [
    "hvg_df = sc.pp.highly_variable_genes(rna[rna.obs[\"mask\"], :], n_top_genes=4000, flavor=\"seurat_v3\", inplace=False)\n",
    "rna.var = rna.var.assign(**hvg_df.to_dict(orient=\"series\"))"
   ]
  },
  {
   "cell_type": "markdown",
   "id": "above-minute",
   "metadata": {},
   "source": [
    "## Dimension reduction"
   ]
  },
  {
   "cell_type": "markdown",
   "id": "interesting-hometown",
   "metadata": {},
   "source": [
    "We derive PCA from the subsampled (organ balanced) data, and then apply the transformation on the full dataset."
   ]
  },
  {
   "cell_type": "code",
   "execution_count": null,
   "id": "improved-cutting",
   "metadata": {},
   "outputs": [],
   "source": [
    "rna.layers[\"raw_counts\"] = rna.X.copy()\n",
    "sc.pp.normalize_total(rna)\n",
    "sc.pp.log1p(rna)\n",
    "rna = rna[:, rna.var.highly_variable]\n",
    "gc.collect()"
   ]
  },
  {
   "cell_type": "code",
   "execution_count": null,
   "id": "given-birth",
   "metadata": {},
   "outputs": [],
   "source": [
    "rna.write(f\"{PATH}/rna_ckpt1.h5ad\", compression=\"gzip\")\n",
    "# rna = anndata.read_h5ad(f\"{PATH}/rna_ckpt1.h5ad\")"
   ]
  },
  {
   "cell_type": "code",
   "execution_count": null,
   "id": "cognitive-librarian",
   "metadata": {},
   "outputs": [],
   "source": [
    "X = rna.X\n",
    "X_masked = X[rna.obs[\"mask\"]]\n",
    "mean = X_masked.mean(axis=0).A1\n",
    "std = np.sqrt(X_masked.power(2).mean(axis=0).A1 - mean ** 2)\n",
    "X = X.toarray()\n",
    "X -= mean\n",
    "X /= std\n",
    "X = X.clip(-10, 10)\n",
    "X_masked = X[rna.obs[\"mask\"]]"
   ]
  },
  {
   "cell_type": "code",
   "execution_count": null,
   "id": "textile-bargain",
   "metadata": {},
   "outputs": [],
   "source": [
    "u, s, vh = randomized_svd(X_masked.T @ X_masked, 100, n_iter=15, random_state=0)\n",
    "rna.obsm[\"X_pca\"] = X @ vh.T"
   ]
  },
  {
   "cell_type": "code",
   "execution_count": null,
   "id": "decreased-archives",
   "metadata": {},
   "outputs": [],
   "source": [
    "rna.X = rna.layers[\"raw_counts\"]\n",
    "del rna.layers[\"raw_counts\"], X, X_masked, mean, std, u, s, vh\n",
    "gc.collect()"
   ]
  },
  {
   "cell_type": "code",
   "execution_count": null,
   "id": "frank-siemens",
   "metadata": {},
   "outputs": [],
   "source": [
    "rna.write(f\"{PATH}/rna_ckpt2.h5ad\", compression=\"gzip\")\n",
    "# rna = anndata.read_h5ad(f\"{PATH}/rna_ckpt2.h5ad\")"
   ]
  },
  {
   "cell_type": "code",
   "execution_count": null,
   "id": "indoor-fifteen",
   "metadata": {},
   "outputs": [],
   "source": [
    "sc.pp.neighbors(rna, n_pcs=rna.obsm[\"X_pca\"].shape[1], metric=\"cosine\")\n",
    "sc.tl.umap(rna)\n",
    "del rna.obsp[\"connectivities\"], rna.obsp[\"distances\"]\n",
    "gc.collect()"
   ]
  },
  {
   "cell_type": "code",
   "execution_count": null,
   "id": "embedded-nowhere",
   "metadata": {},
   "outputs": [],
   "source": [
    "fig = sc.pl.umap(\n",
    "    rna, color=\"cell_type\", title=\"scRNA-seq cell type\", return_fig=True,\n",
    "    legend_loc=\"on data\", legend_fontsize=4, legend_fontoutline=0.5\n",
    ")\n",
    "fig.savefig(f\"{PATH}/rna_ct.pdf\")"
   ]
  },
  {
   "cell_type": "code",
   "execution_count": null,
   "id": "massive-consequence",
   "metadata": {},
   "outputs": [],
   "source": [
    "rna.write(f\"{PATH}/rna_ckpt3.h5ad\", compression=\"gzip\")\n",
    "# rna = anndata.read_h5ad(f\"{PATH}/rna_ckpt3.h5ad\")"
   ]
  },
  {
   "cell_type": "markdown",
   "id": "prescribed-folder",
   "metadata": {},
   "source": [
    "## Aggregate data"
   ]
  },
  {
   "cell_type": "markdown",
   "id": "superior-third",
   "metadata": {},
   "source": [
    "Will help accelerate model training"
   ]
  },
  {
   "cell_type": "code",
   "execution_count": null,
   "id": "subject-doctrine",
   "metadata": {},
   "outputs": [],
   "source": [
    "kmeans = faiss.Kmeans(rna.obsm[\"X_pca\"].shape[1], 100000, gpu=True, seed=0)\n",
    "kmeans.train(rna.obsm[\"X_pca\"][rna.obs[\"mask\"]])\n",
    "_, rna.obs[\"pseudocell\"] = kmeans.index.search(rna.obsm[\"X_pca\"], 1)"
   ]
  },
  {
   "cell_type": "code",
   "execution_count": null,
   "id": "treated-teach",
   "metadata": {},
   "outputs": [],
   "source": [
    "rna.obs[\"pseudocell\"] = pd.Categorical(rna.obs[\"pseudocell\"])\n",
    "rna.obs[\"pseudocell\"].cat.rename_categories(lambda x: f\"rna-pseudocell-{x}\", inplace=True)\n",
    "rna.obs[\"n_cells\"] = 1"
   ]
  },
  {
   "cell_type": "code",
   "execution_count": null,
   "id": "corporate-obligation",
   "metadata": {},
   "outputs": [],
   "source": [
    "rna_agg = scglue.data.aggregate_obs(\n",
    "    rna, by=\"pseudocell\", X_agg=\"sum\",\n",
    "    obs_agg={\n",
    "        \"cell_type\": \"majority\", \"Organ\": \"majority\", \"domain\": \"majority\",\n",
    "        \"n_cells\": \"sum\", \"organ_balancing\": \"sum\"\n",
    "    },\n",
    "    obsm_agg={\"X_pca\": \"mean\", \"X_umap\": \"mean\"}\n",
    ")\n",
    "rna_agg"
   ]
  },
  {
   "cell_type": "code",
   "execution_count": null,
   "id": "second-graduate",
   "metadata": {},
   "outputs": [],
   "source": [
    "fig = sc.pl.umap(\n",
    "    rna_agg, color=\"cell_type\", title=\"scRNA-seq cell type (aggregated)\", return_fig=True,\n",
    "    legend_loc=\"on data\", legend_fontsize=4, legend_fontoutline=0.5\n",
    ")\n",
    "fig.savefig(f\"{PATH}/rna_agg_ct.pdf\")"
   ]
  },
  {
   "cell_type": "markdown",
   "id": "equal-spencer",
   "metadata": {},
   "source": [
    "## Save data"
   ]
  },
  {
   "cell_type": "code",
   "execution_count": null,
   "id": "virgin-skill",
   "metadata": {},
   "outputs": [],
   "source": [
    "rna.write(f\"{PATH}/rna.h5ad\", compression=\"gzip\")\n",
    "rna_agg.write(f\"{PATH}/rna_agg.h5ad\", compression=\"gzip\")"
   ]
  },
  {
   "cell_type": "markdown",
   "id": "linear-olympus",
   "metadata": {},
   "source": [
    "# Prior graph"
   ]
  },
  {
   "cell_type": "code",
   "execution_count": null,
   "id": "potential-healing",
   "metadata": {},
   "outputs": [],
   "source": [
    "peaks = scglue.genomics.Bed(atac.var.assign(name=atac.var.index))\n",
    "genes = scglue.genomics.Bed(rna.var.assign(name=rna.var.index))"
   ]
  },
  {
   "cell_type": "code",
   "execution_count": null,
   "id": "tropical-richmond",
   "metadata": {},
   "outputs": [],
   "source": [
    "graph = scglue.genomics.window_graph(\n",
    "    genes.expand(2000, 0), peaks, 0,\n",
    "    attr_fn=lambda l, r, d: {\n",
    "        \"weight\": scglue.genomics.dist_power_decay(abs(d))\n",
    "    }\n",
    ")"
   ]
  },
  {
   "cell_type": "code",
   "execution_count": null,
   "id": "suited-wrist",
   "metadata": {},
   "outputs": [],
   "source": [
    "hvg_reachable = scglue.graph.reachable_vertices(graph, rna.var.query(\"highly_variable\").index)"
   ]
  },
  {
   "cell_type": "code",
   "execution_count": null,
   "id": "driven-infrastructure",
   "metadata": {},
   "outputs": [],
   "source": [
    "graph = scglue.graph.compose_multigraph(graph, graph.reverse())\n",
    "for item in itertools.chain(rna.var_names, atac.var_names):\n",
    "    graph.add_edge(item, item, weight=1.0)\n",
    "nx.set_edge_attributes(graph, 1, name=\"sign\")"
   ]
  },
  {
   "cell_type": "code",
   "execution_count": null,
   "id": "fatal-fossil",
   "metadata": {},
   "outputs": [],
   "source": [
    "subgraph = graph.subgraph(hvg_reachable)"
   ]
  },
  {
   "cell_type": "code",
   "execution_count": null,
   "id": "organized-mentor",
   "metadata": {
    "tags": []
   },
   "outputs": [],
   "source": [
    "nx.write_graphml(graph, f\"{PATH}/full.graphml.gz\")\n",
    "nx.write_graphml(subgraph, f\"{PATH}/sub.graphml.gz\")"
   ]
  },
  {
   "cell_type": "markdown",
   "id": "superb-livestock",
   "metadata": {},
   "source": [
    "Make up some space..."
   ]
  },
  {
   "cell_type": "code",
   "execution_count": null,
   "id": "optimum-confidence",
   "metadata": {},
   "outputs": [],
   "source": [
    "del rna, rna_agg, graph, subgraph, peaks, genes\n",
    "gc.collect()"
   ]
  },
  {
   "cell_type": "markdown",
   "id": "mechanical-psychology",
   "metadata": {},
   "source": [
    "# ATAC"
   ]
  },
  {
   "cell_type": "code",
   "execution_count": null,
   "id": "integral-fifteen",
   "metadata": {},
   "outputs": [],
   "source": [
    "atac = atac.to_memory()"
   ]
  },
  {
   "cell_type": "code",
   "execution_count": null,
   "id": "electronic-flower",
   "metadata": {},
   "outputs": [],
   "source": [
    "atac.var[\"highly_variable\"] = [item in hvg_reachable for item in atac.var_names]\n",
    "atac.var[\"highly_variable\"].sum()"
   ]
  },
  {
   "cell_type": "markdown",
   "id": "prescribed-situation",
   "metadata": {},
   "source": [
    "## Dimension reduction"
   ]
  },
  {
   "cell_type": "markdown",
   "id": "african-values",
   "metadata": {},
   "source": [
    "We derive PCA from the subsampled (organ balanced) data, and then apply the transformation on the full dataset."
   ]
  },
  {
   "cell_type": "code",
   "execution_count": null,
   "id": "comparative-scanner",
   "metadata": {},
   "outputs": [],
   "source": [
    "X = scglue.num.tfidf(atac.X)\n",
    "X = Normalizer(norm=\"l1\").fit_transform(X)\n",
    "X = np.log1p(X * 1e4)"
   ]
  },
  {
   "cell_type": "code",
   "execution_count": null,
   "id": "metallic-figure",
   "metadata": {},
   "outputs": [],
   "source": [
    "X_masked = X[atac.obs[\"mask\"]]\n",
    "u, s, vh = randomized_svd(X_masked, 100, n_iter=15, random_state=0)\n",
    "X_lsi = X @ vh.T / s\n",
    "X_lsi -= X_lsi.mean(axis=1, keepdims=True)\n",
    "X_lsi /= X_lsi.std(axis=1, ddof=1, keepdims=True)\n",
    "atac.obsm[\"X_lsi\"] = X_lsi.astype(np.float32)"
   ]
  },
  {
   "cell_type": "code",
   "execution_count": null,
   "id": "pleasant-shannon",
   "metadata": {},
   "outputs": [],
   "source": [
    "atac = atac[:, atac.var[\"highly_variable\"]]\n",
    "del X, X_masked, X_lsi, u, s, vh\n",
    "gc.collect()"
   ]
  },
  {
   "cell_type": "code",
   "execution_count": null,
   "id": "united-advantage",
   "metadata": {},
   "outputs": [],
   "source": [
    "atac.write(f\"{PATH}/atac_ckpt1.h5ad\", compression=\"gzip\")\n",
    "# atac = anndata.read_h5ad(f\"{PATH}/atac_ckpt1.h5ad\")"
   ]
  },
  {
   "cell_type": "code",
   "execution_count": null,
   "id": "burning-interview",
   "metadata": {
    "tags": []
   },
   "outputs": [],
   "source": [
    "sc.pp.neighbors(atac, n_pcs=atac.obsm[\"X_lsi\"].shape[1], use_rep=\"X_lsi\", metric=\"cosine\")\n",
    "sc.tl.umap(atac)\n",
    "del atac.obsp[\"connectivities\"], atac.obsp[\"distances\"]\n",
    "gc.collect()"
   ]
  },
  {
   "cell_type": "code",
   "execution_count": null,
   "id": "adjustable-interview",
   "metadata": {},
   "outputs": [],
   "source": [
    "fig = sc.pl.umap(\n",
    "    atac, color=\"cell_type\", title=\"scATAC-seq cell type\", return_fig=True,\n",
    "    legend_loc=\"on data\", legend_fontsize=4, legend_fontoutline=0.5\n",
    ")\n",
    "fig.savefig(f\"{PATH}/atac_ct.pdf\")"
   ]
  },
  {
   "cell_type": "code",
   "execution_count": null,
   "id": "overall-elimination",
   "metadata": {},
   "outputs": [],
   "source": [
    "atac.write(f\"{PATH}/atac_ckpt2.h5ad\", compression=\"gzip\")\n",
    "# atac = anndata.read_h5ad(f\"{PATH}/atac_ckpt2.h5ad\")"
   ]
  },
  {
   "cell_type": "markdown",
   "id": "spoken-interference",
   "metadata": {},
   "source": [
    "## Aggregate data"
   ]
  },
  {
   "cell_type": "markdown",
   "id": "tender-digit",
   "metadata": {},
   "source": [
    "Will help accelerate model training"
   ]
  },
  {
   "cell_type": "code",
   "execution_count": null,
   "id": "south-congo",
   "metadata": {},
   "outputs": [],
   "source": [
    "kmeans = faiss.Kmeans(atac.obsm[\"X_lsi\"].shape[1], 40000, gpu=True, seed=0)\n",
    "kmeans.train(atac.obsm[\"X_lsi\"][atac.obs[\"mask\"]])\n",
    "_, atac.obs[\"pseudocell\"] = kmeans.index.search(atac.obsm[\"X_lsi\"], 1)"
   ]
  },
  {
   "cell_type": "code",
   "execution_count": null,
   "id": "forbidden-lecture",
   "metadata": {},
   "outputs": [],
   "source": [
    "atac.obs[\"pseudocell\"] = pd.Categorical(atac.obs[\"pseudocell\"])\n",
    "atac.obs[\"pseudocell\"].cat.rename_categories(lambda x: f\"atac-pseudocell-{x}\", inplace=True)\n",
    "atac.obs[\"n_cells\"] = 1"
   ]
  },
  {
   "cell_type": "code",
   "execution_count": null,
   "id": "piano-shark",
   "metadata": {},
   "outputs": [],
   "source": [
    "atac_agg = scglue.data.aggregate_obs(\n",
    "    atac, by=\"pseudocell\", X_agg=\"sum\",\n",
    "    obs_agg={\n",
    "        \"cell_type\": \"majority\", \"tissue\": \"majority\", \"domain\": \"majority\",\n",
    "        \"n_cells\": \"sum\", \"organ_balancing\": \"sum\"\n",
    "    },\n",
    "    obsm_agg={\"X_lsi\": \"mean\", \"X_umap\": \"mean\"}\n",
    ")\n",
    "atac_agg"
   ]
  },
  {
   "cell_type": "code",
   "execution_count": null,
   "id": "employed-destruction",
   "metadata": {},
   "outputs": [],
   "source": [
    "fig = sc.pl.umap(\n",
    "    atac_agg, color=\"cell_type\", title=\"scATAC-seq cell type (aggregated)\", return_fig=True,\n",
    "    legend_loc=\"on data\", legend_fontsize=4, legend_fontoutline=0.5\n",
    ")\n",
    "fig.savefig(f\"{PATH}/atac_agg_ct.pdf\")"
   ]
  },
  {
   "cell_type": "markdown",
   "id": "relative-candy",
   "metadata": {},
   "source": [
    "## Save data"
   ]
  },
  {
   "cell_type": "code",
   "execution_count": null,
   "id": "reserved-washington",
   "metadata": {
    "tags": []
   },
   "outputs": [],
   "source": [
    "atac.write(f\"{PATH}/atac.h5ad\", compression=\"gzip\")\n",
    "atac_agg.write(f\"{PATH}/atac_agg.h5ad\", compression=\"gzip\")"
   ]
  }
 ],
 "metadata": {
  "kernelspec": {
   "display_name": "Python 3",
   "language": "python",
   "name": "python3"
  },
  "language_info": {
   "codemirror_mode": {
    "name": "ipython",
    "version": 3
   },
   "file_extension": ".py",
   "mimetype": "text/x-python",
   "name": "python",
   "nbconvert_exporter": "python",
   "pygments_lexer": "ipython3",
   "version": "3.8.5"
  },
  "toc-autonumbering": true,
  "toc-showcode": false,
  "toc-showmarkdowntxt": false,
  "toc-showtags": false
 },
 "nbformat": 4,
 "nbformat_minor": 5
}
