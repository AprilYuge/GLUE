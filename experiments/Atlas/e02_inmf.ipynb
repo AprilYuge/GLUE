{
 "cells": [
  {
   "cell_type": "code",
   "execution_count": null,
   "id": "humanitarian-manner",
   "metadata": {},
   "outputs": [],
   "source": [
    "suppressPackageStartupMessages({\n",
    "    source(\".Rprofile\")\n",
    "    library(hdf5r)\n",
    "    library(rliger)\n",
    "})"
   ]
  },
  {
   "cell_type": "code",
   "execution_count": null,
   "id": "serial-savings",
   "metadata": {},
   "outputs": [],
   "source": [
    "PATH <- \"e02_inmf\"\n",
    "if (!dir.exists(PATH)) {\n",
    "    dir.create(PATH)\n",
    "}"
   ]
  },
  {
   "cell_type": "markdown",
   "id": "amazing-circumstances",
   "metadata": {},
   "source": [
    "# Read data"
   ]
  },
  {
   "cell_type": "code",
   "execution_count": null,
   "id": "extra-event",
   "metadata": {},
   "outputs": [],
   "source": [
    "int.liger <- createLiger(list(\n",
    "    atac = \"e01_export_old_h5ad/atac2rna.h5ad\",\n",
    "    rna = \"e01_export_old_h5ad/rna.h5ad\"\n",
    "), format.type = \"AnnData\")"
   ]
  },
  {
   "cell_type": "code",
   "execution_count": null,
   "id": "minor-fault",
   "metadata": {},
   "outputs": [],
   "source": [
    "rna.var <- int.liger@raw.data$rna[[\"var\"]][]\n",
    "atac.var <- int.liger@raw.data$atac[[\"var\"]][]\n",
    "hvg <- rna.var$index[rna.var$highly_variable]\n",
    "stopifnot(all(hvg %in% rna.var$index))\n",
    "stopifnot(all(hvg %in% atac.var$index))"
   ]
  },
  {
   "cell_type": "code",
   "execution_count": null,
   "id": "vertical-assumption",
   "metadata": {},
   "outputs": [],
   "source": [
    "hvg <- intersect(hvg, rna.var$index)\n",
    "hvg <- intersect(hvg, atac.var$index)"
   ]
  },
  {
   "cell_type": "code",
   "execution_count": null,
   "id": "executed-patrick",
   "metadata": {},
   "outputs": [],
   "source": [
    "rna_cells <- int.liger@raw.data$rna[[\"obs\"]][]$cell\n",
    "atac_cells <- int.liger@raw.data$atac[[\"obs\"]][]$cell"
   ]
  },
  {
   "cell_type": "markdown",
   "id": "capable-uganda",
   "metadata": {},
   "source": [
    "# Preprocessing"
   ]
  },
  {
   "cell_type": "code",
   "execution_count": null,
   "id": "early-needle",
   "metadata": {},
   "outputs": [],
   "source": [
    "int.liger <- normalize(int.liger)"
   ]
  },
  {
   "cell_type": "code",
   "execution_count": null,
   "id": "sporting-stretch",
   "metadata": {},
   "outputs": [],
   "source": [
    "int.liger@var.genes <- hvg\n",
    "int.liger <- scaleNotCenter(int.liger)"
   ]
  },
  {
   "cell_type": "markdown",
   "id": "greatest-mississippi",
   "metadata": {},
   "source": [
    "# Integration"
   ]
  },
  {
   "cell_type": "code",
   "execution_count": null,
   "id": "eight-category",
   "metadata": {},
   "outputs": [],
   "source": [
    "int.liger <- online_iNMF(int.liger, k = 20, miniBatch_size = 5000, seed = 0)\n",
    "int.liger <- quantile_norm(int.liger, rand.seed = 0)"
   ]
  },
  {
   "cell_type": "markdown",
   "id": "funny-depth",
   "metadata": {},
   "source": [
    "# Save results"
   ]
  },
  {
   "cell_type": "code",
   "execution_count": null,
   "id": "forbidden-producer",
   "metadata": {},
   "outputs": [],
   "source": [
    "combined_latent <- int.liger@H.norm"
   ]
  },
  {
   "cell_type": "code",
   "execution_count": null,
   "id": "fifteen-feedback",
   "metadata": {},
   "outputs": [],
   "source": [
    "missing_cells <- setdiff(\n",
    "    union(rna_cells, atac_cells),\n",
    "    rownames(combined_latent)\n",
    ")  # Because of cell filtering in scaleNotCenter\n",
    "length(missing_cells)"
   ]
  },
  {
   "cell_type": "code",
   "execution_count": null,
   "id": "failing-revelation",
   "metadata": {},
   "outputs": [],
   "source": [
    "rna_latent <- combined_latent[rna_cells, ]\n",
    "atac_latent <- combined_latent[atac_cells, ]\n",
    "write.table(\n",
    "    rna_latent, file.path(PATH, \"rna_latent.csv\"),\n",
    "    sep = \",\", row.names = TRUE, col.names = FALSE, quote = FALSE, na = \"\"\n",
    ")\n",
    "write.table(\n",
    "    atac_latent, file.path(PATH, \"atac_latent.csv\"),\n",
    "    sep = \",\", row.names = TRUE, col.names = FALSE, quote = FALSE, na = \"\"\n",
    ")"
   ]
  }
 ],
 "metadata": {
  "kernelspec": {
   "display_name": "R 4.0.2",
   "language": "R",
   "name": "ir_4.0.2"
  },
  "language_info": {
   "codemirror_mode": "r",
   "file_extension": ".r",
   "mimetype": "text/x-r-source",
   "name": "R",
   "pygments_lexer": "r",
   "version": "4.0.2"
  }
 },
 "nbformat": 4,
 "nbformat_minor": 5
}
